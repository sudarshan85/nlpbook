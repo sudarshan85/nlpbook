{
 "cells": [
  {
   "cell_type": "code",
   "execution_count": 1,
   "metadata": {
    "ExecuteTime": {
     "end_time": "2019-03-27T14:38:34.530119Z",
     "start_time": "2019-03-27T14:38:34.126905Z"
    }
   },
   "outputs": [],
   "source": [
    "import pickle\n",
    "import re\n",
    "import random\n",
    "import math\n",
    "import pandas as pd\n",
    "from pathlib import Path\n",
    "\n",
    "import nltk.data"
   ]
  },
  {
   "cell_type": "code",
   "execution_count": 2,
   "metadata": {
    "ExecuteTime": {
     "end_time": "2019-03-27T14:38:34.543154Z",
     "start_time": "2019-03-27T14:38:34.541208Z"
    }
   },
   "outputs": [],
   "source": [
    "# Clean sentences\n",
    "def preprocess_text(text):\n",
    "  text = ' '.join(word.lower() for word in text.split(\" \"))\n",
    "  text = re.sub(r\"([.,!?])\", r\" \\1 \", text)\n",
    "  text = re.sub(r\"[^a-zA-Z.,!?]+\", r\" \", text)\n",
    "  return text\n",
    "\n",
    "def set_splits(df, val_pct, test_pct=None):\n",
    "  df['split'] = 'train'\n",
    "  df_len = len(df)\n",
    "  idxs = list(range(df_len))\n",
    "  random.shuffle(idxs)\n",
    "  \n",
    "  val_idx = math.ceil(df_len * val_pct)\n",
    "  val_idxs = idxs[:val_idx]\n",
    "  df.loc[val_idxs, 'split'] = 'val'\n",
    "  \n",
    "  if test_pct:\n",
    "    test_idx = val_idx + math.ceil(df_len * test_pct)\n",
    "    test_idxs = idxs[val_idx:test_idx]\n",
    "    df.loc[test_idxs, 'split'] = 'test'\n",
    "    \n",
    "  return df"
   ]
  },
  {
   "cell_type": "code",
   "execution_count": 3,
   "metadata": {
    "ExecuteTime": {
     "end_time": "2019-03-27T14:38:34.539926Z",
     "start_time": "2019-03-27T14:38:34.537796Z"
    }
   },
   "outputs": [],
   "source": [
    "path = Path('../data/books')\n",
    "pretrained = Path('../pretrained')\n",
    "tokenizer_path = pretrained/'punkt/english.pickle'\n",
    "raw_dataset_txt = path/'frankenstein.txt'\n",
    "processed_file = path/'frankenstein_with_splits.csv'"
   ]
  },
  {
   "cell_type": "code",
   "execution_count": 4,
   "metadata": {
    "ExecuteTime": {
     "end_time": "2019-03-27T14:38:34.543154Z",
     "start_time": "2019-03-27T14:38:34.541208Z"
    }
   },
   "outputs": [],
   "source": [
    "window_size = 5\n",
    "MASK_TOKEN = '<MASK>'\n",
    "val_pct = 0.15\n",
    "test_pct = 0.15"
   ]
  },
  {
   "cell_type": "code",
   "execution_count": 5,
   "metadata": {
    "ExecuteTime": {
     "end_time": "2019-03-27T14:38:34.638780Z",
     "start_time": "2019-03-27T14:38:34.544420Z"
    }
   },
   "outputs": [
    {
     "name": "stdout",
     "output_type": "stream",
     "text": [
      "3427 sentences\n",
      "Sample: No incidents have hitherto befallen us that would make a figure in a\n",
      "letter.\n"
     ]
    }
   ],
   "source": [
    "tokenizer = pickle.load(tokenizer_path.open('rb'))\n",
    "\n",
    "with open(raw_dataset_txt, 'r') as fp:\n",
    "  book = fp.read()\n",
    "sentences = tokenizer.tokenize(book)\n",
    "print(f\"{len(sentences)} sentences\")\n",
    "print(f\"Sample: {sentences[100]}\")"
   ]
  },
  {
   "cell_type": "code",
   "execution_count": 6,
   "metadata": {
    "ExecuteTime": {
     "end_time": "2019-03-27T14:38:34.695872Z",
     "start_time": "2019-03-27T14:38:34.639983Z"
    }
   },
   "outputs": [],
   "source": [
    "cleaned_sentences = [preprocess_text(sentence) for sentence in sentences]"
   ]
  },
  {
   "cell_type": "code",
   "execution_count": 7,
   "metadata": {
    "ExecuteTime": {
     "end_time": "2019-03-27T14:38:35.067256Z",
     "start_time": "2019-03-27T14:38:34.697124Z"
    }
   },
   "outputs": [],
   "source": [
    "window_size = 5\n",
    "MASK_TOKEN = '<MASK>'\n",
    "\n",
    "flatten = lambda outer: [item for inner in outer for item in inner]\n",
    "\n",
    "windows = flatten([list(nltk.ngrams([MASK_TOKEN] * window_size + sentence.split(' ') + \\\n",
    "    [MASK_TOKEN] * window_size, window_size * 2 + 1)) \\\n",
    "    for sentence in cleaned_sentences])\n",
    "\n",
    "data = []\n",
    "for window in windows:\n",
    "  target_token = window[window_size]\n",
    "  context = []\n",
    "  for i, token in enumerate(window):\n",
    "    if token == MASK_TOKEN or i == window_size:\n",
    "      continue\n",
    "    else:\n",
    "      context.append(token)\n",
    "  data.append([' '.join(token for token in context), target_token])"
   ]
  },
  {
   "cell_type": "code",
   "execution_count": 8,
   "metadata": {
    "ExecuteTime": {
     "end_time": "2019-03-27T14:38:35.094645Z",
     "start_time": "2019-03-27T14:38:35.068936Z"
    }
   },
   "outputs": [
    {
     "data": {
      "text/html": [
       "<div>\n",
       "<style scoped>\n",
       "    .dataframe tbody tr th:only-of-type {\n",
       "        vertical-align: middle;\n",
       "    }\n",
       "\n",
       "    .dataframe tbody tr th {\n",
       "        vertical-align: top;\n",
       "    }\n",
       "\n",
       "    .dataframe thead th {\n",
       "        text-align: right;\n",
       "    }\n",
       "</style>\n",
       "<table border=\"1\" class=\"dataframe\">\n",
       "  <thead>\n",
       "    <tr style=\"text-align: right;\">\n",
       "      <th></th>\n",
       "      <th>context</th>\n",
       "      <th>target</th>\n",
       "    </tr>\n",
       "  </thead>\n",
       "  <tbody>\n",
       "    <tr>\n",
       "      <th>0</th>\n",
       "      <td>, or the modern prometheus</td>\n",
       "      <td>frankenstein</td>\n",
       "    </tr>\n",
       "    <tr>\n",
       "      <th>1</th>\n",
       "      <td>frankenstein or the modern prometheus by</td>\n",
       "      <td>,</td>\n",
       "    </tr>\n",
       "    <tr>\n",
       "      <th>2</th>\n",
       "      <td>frankenstein , the modern prometheus by mary</td>\n",
       "      <td>or</td>\n",
       "    </tr>\n",
       "    <tr>\n",
       "      <th>3</th>\n",
       "      <td>frankenstein , or modern prometheus by mary wo...</td>\n",
       "      <td>the</td>\n",
       "    </tr>\n",
       "    <tr>\n",
       "      <th>4</th>\n",
       "      <td>frankenstein , or the prometheus by mary wolls...</td>\n",
       "      <td>modern</td>\n",
       "    </tr>\n",
       "  </tbody>\n",
       "</table>\n",
       "</div>"
      ],
      "text/plain": [
       "                                             context        target\n",
       "0                         , or the modern prometheus  frankenstein\n",
       "1           frankenstein or the modern prometheus by             ,\n",
       "2       frankenstein , the modern prometheus by mary            or\n",
       "3  frankenstein , or modern prometheus by mary wo...           the\n",
       "4  frankenstein , or the prometheus by mary wolls...        modern"
      ]
     },
     "execution_count": 8,
     "metadata": {},
     "output_type": "execute_result"
    }
   ],
   "source": [
    "cbow_data = pd.DataFrame(data, columns=['context', 'target'])\n",
    "cbow_data.head()"
   ]
  },
  {
   "cell_type": "code",
   "execution_count": 9,
   "metadata": {
    "ExecuteTime": {
     "end_time": "2019-03-27T14:38:35.195988Z",
     "start_time": "2019-03-27T14:38:35.096026Z"
    }
   },
   "outputs": [
    {
     "data": {
      "text/html": [
       "<div>\n",
       "<style scoped>\n",
       "    .dataframe tbody tr th:only-of-type {\n",
       "        vertical-align: middle;\n",
       "    }\n",
       "\n",
       "    .dataframe tbody tr th {\n",
       "        vertical-align: top;\n",
       "    }\n",
       "\n",
       "    .dataframe thead th {\n",
       "        text-align: right;\n",
       "    }\n",
       "</style>\n",
       "<table border=\"1\" class=\"dataframe\">\n",
       "  <thead>\n",
       "    <tr style=\"text-align: right;\">\n",
       "      <th></th>\n",
       "      <th>context</th>\n",
       "      <th>target</th>\n",
       "      <th>split</th>\n",
       "    </tr>\n",
       "  </thead>\n",
       "  <tbody>\n",
       "    <tr>\n",
       "      <th>0</th>\n",
       "      <td>, or the modern prometheus</td>\n",
       "      <td>frankenstein</td>\n",
       "      <td>train</td>\n",
       "    </tr>\n",
       "    <tr>\n",
       "      <th>1</th>\n",
       "      <td>frankenstein or the modern prometheus by</td>\n",
       "      <td>,</td>\n",
       "      <td>train</td>\n",
       "    </tr>\n",
       "    <tr>\n",
       "      <th>2</th>\n",
       "      <td>frankenstein , the modern prometheus by mary</td>\n",
       "      <td>or</td>\n",
       "      <td>val</td>\n",
       "    </tr>\n",
       "    <tr>\n",
       "      <th>3</th>\n",
       "      <td>frankenstein , or modern prometheus by mary wo...</td>\n",
       "      <td>the</td>\n",
       "      <td>train</td>\n",
       "    </tr>\n",
       "    <tr>\n",
       "      <th>4</th>\n",
       "      <td>frankenstein , or the prometheus by mary wolls...</td>\n",
       "      <td>modern</td>\n",
       "      <td>train</td>\n",
       "    </tr>\n",
       "  </tbody>\n",
       "</table>\n",
       "</div>"
      ],
      "text/plain": [
       "                                             context        target  split\n",
       "0                         , or the modern prometheus  frankenstein  train\n",
       "1           frankenstein or the modern prometheus by             ,  train\n",
       "2       frankenstein , the modern prometheus by mary            or    val\n",
       "3  frankenstein , or modern prometheus by mary wo...           the  train\n",
       "4  frankenstein , or the prometheus by mary wolls...        modern  train"
      ]
     },
     "execution_count": 9,
     "metadata": {},
     "output_type": "execute_result"
    }
   ],
   "source": [
    "cbow_data = set_splits(cbow_data, val_pct, test_pct)\n",
    "cbow_data.head()"
   ]
  },
  {
   "cell_type": "code",
   "execution_count": 10,
   "metadata": {
    "ExecuteTime": {
     "end_time": "2019-03-27T14:38:58.595123Z",
     "start_time": "2019-03-27T14:38:58.433753Z"
    }
   },
   "outputs": [],
   "source": [
    "cbow_data.to_csv(processed_file, index=False)"
   ]
  }
 ],
 "metadata": {
  "kernelspec": {
   "display_name": "Python 3",
   "language": "python",
   "name": "python3"
  },
  "language_info": {
   "codemirror_mode": {
    "name": "ipython",
    "version": 3
   },
   "file_extension": ".py",
   "mimetype": "text/x-python",
   "name": "python",
   "nbconvert_exporter": "python",
   "pygments_lexer": "ipython3",
   "version": "3.7.2"
  },
  "toc": {
   "base_numbering": 1,
   "nav_menu": {},
   "number_sections": true,
   "sideBar": true,
   "skip_h1_title": false,
   "title_cell": "Table of Contents",
   "title_sidebar": "Contents",
   "toc_cell": false,
   "toc_position": {},
   "toc_section_display": true,
   "toc_window_display": false
  }
 },
 "nbformat": 4,
 "nbformat_minor": 2
}
