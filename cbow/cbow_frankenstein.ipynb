{
 "cells": [
  {
   "cell_type": "code",
   "execution_count": null,
   "metadata": {
    "ExecuteTime": {
     "end_time": "2019-03-27T21:05:04.352868Z",
     "start_time": "2019-03-27T21:05:04.339800Z"
    }
   },
   "outputs": [],
   "source": [
    "%load_ext autoreload\n",
    "%autoreload 2"
   ]
  },
  {
   "cell_type": "code",
   "execution_count": null,
   "metadata": {
    "ExecuteTime": {
     "end_time": "2019-03-27T21:06:16.750151Z",
     "start_time": "2019-03-27T21:06:16.259212Z"
    }
   },
   "outputs": [],
   "source": [
    "import pandas as pd\n",
    "import torch\n",
    "\n",
    "from torch import nn\n",
    "from torch import optim\n",
    "from torch.utils.data import DataLoader"
   ]
  },
  {
   "cell_type": "code",
   "execution_count": null,
   "metadata": {
    "ExecuteTime": {
     "end_time": "2019-03-27T21:06:16.785017Z",
     "start_time": "2019-03-27T21:06:16.751662Z"
    }
   },
   "outputs": [],
   "source": [
    "from ignite.engine import Events, create_supervised_evaluator\n",
    "from ignite.metrics import Accuracy, Loss\n",
    "from ignite.contrib.handlers import ProgressBar"
   ]
  },
  {
   "cell_type": "code",
   "execution_count": null,
   "metadata": {
    "ExecuteTime": {
     "end_time": "2019-03-27T21:06:16.797763Z",
     "start_time": "2019-03-27T21:06:16.786181Z"
    }
   },
   "outputs": [],
   "source": [
    "from cbow.dataset import CBOWDataset, DataContainer\n",
    "from cbow.model import CBOWClassifier, ModelContainer\n",
    "from cbow.consts import consts\n",
    "from cbow.trainer import IgniteTrainer\n",
    "consts"
   ]
  },
  {
   "cell_type": "code",
   "execution_count": null,
   "metadata": {
    "ExecuteTime": {
     "end_time": "2019-03-27T21:06:16.961912Z",
     "start_time": "2019-03-27T21:06:16.798838Z"
    }
   },
   "outputs": [],
   "source": [
    "df = pd.read_csv(consts.proc_dataset_csv)\n",
    "dc = DataContainer(df, consts.vectorizer_file, consts.batch_size, is_load=True)"
   ]
  },
  {
   "cell_type": "code",
   "execution_count": null,
   "metadata": {
    "ExecuteTime": {
     "end_time": "2019-03-27T21:06:16.972154Z",
     "start_time": "2019-03-27T21:06:16.963087Z"
    }
   },
   "outputs": [],
   "source": [
    "classifier = CBOWClassifier(dc.vocabulary_size, consts.embedding_size)\n",
    "loss_func = nn.CrossEntropyLoss()\n",
    "optimizer = optim.Adam(classifier.parameters(), lr=consts.learning_rate)\n",
    "scheduler = optim.lr_scheduler.ReduceLROnPlateau(optimizer=optimizer, mode='min', factor=0.5, patience=1)\n",
    "\n",
    "mc = ModelContainer(classifier, optimizer, loss_func, scheduler)"
   ]
  },
  {
   "cell_type": "code",
   "execution_count": null,
   "metadata": {
    "ExecuteTime": {
     "end_time": "2019-03-27T21:06:16.975154Z",
     "start_time": "2019-03-27T21:06:16.973188Z"
    }
   },
   "outputs": [],
   "source": [
    "pbar = ProgressBar(persist=True)\n",
    "metrics = {'accuracy': Accuracy(), 'loss': Loss(loss_func)}"
   ]
  },
  {
   "cell_type": "code",
   "execution_count": null,
   "metadata": {
    "ExecuteTime": {
     "end_time": "2019-03-27T21:06:27.602191Z",
     "start_time": "2019-03-27T21:06:21.842274Z"
    }
   },
   "outputs": [],
   "source": [
    "ig = IgniteTrainer(mc, dc, consts, pbar, metrics)\n",
    "ig.run()"
   ]
  }
 ],
 "metadata": {
  "kernelspec": {
   "display_name": "Python 3",
   "language": "python",
   "name": "python3"
  },
  "language_info": {
   "codemirror_mode": {
    "name": "ipython",
    "version": 3
   },
   "file_extension": ".py",
   "mimetype": "text/x-python",
   "name": "python",
   "nbconvert_exporter": "python",
   "pygments_lexer": "ipython3",
   "version": "3.7.2"
  },
  "toc": {
   "base_numbering": 1,
   "nav_menu": {},
   "number_sections": true,
   "sideBar": true,
   "skip_h1_title": false,
   "title_cell": "Table of Contents",
   "title_sidebar": "Contents",
   "toc_cell": false,
   "toc_position": {},
   "toc_section_display": true,
   "toc_window_display": false
  }
 },
 "nbformat": 4,
 "nbformat_minor": 2
}
