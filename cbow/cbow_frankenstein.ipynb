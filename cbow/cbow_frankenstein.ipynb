{
 "cells": [
  {
   "cell_type": "code",
   "execution_count": 1,
   "metadata": {
    "ExecuteTime": {
     "end_time": "2019-03-27T19:14:03.253316Z",
     "start_time": "2019-03-27T19:14:03.241264Z"
    }
   },
   "outputs": [],
   "source": [
    "%load_ext autoreload\n",
    "%autoreload 2"
   ]
  },
  {
   "cell_type": "code",
   "execution_count": 2,
   "metadata": {
    "ExecuteTime": {
     "end_time": "2019-03-27T19:14:04.246199Z",
     "start_time": "2019-03-27T19:14:03.254543Z"
    }
   },
   "outputs": [],
   "source": [
    "import pandas as pd\n",
    "\n",
    "from torch.utils.data import DataLoader"
   ]
  },
  {
   "cell_type": "code",
   "execution_count": 3,
   "metadata": {
    "ExecuteTime": {
     "end_time": "2019-03-27T19:14:04.280429Z",
     "start_time": "2019-03-27T19:14:04.247862Z"
    }
   },
   "outputs": [
    {
     "data": {
      "text/plain": [
       "Namespace(batch_size=128, checkpointer_name='cbow_classifier', checkpointer_prefix='cbow', device='cuda:3', early_stopping_criteria=5, learning_rate=0.0001, model_dir=PosixPath('../data/books/work_dir/models'), num_epochs=100, path=PosixPath('../data/books'), proc_dataset_csv=PosixPath('../data/books/frankenstein_with_splits.csv'), save_every=2, save_total=5, vectorizer_file=PosixPath('../data/books/work_dir/vectorizer.json'), work_dir=PosixPath('../data/books/work_dir'))"
      ]
     },
     "execution_count": 3,
     "metadata": {},
     "output_type": "execute_result"
    }
   ],
   "source": [
    "from cbow.dataset import CBOWDataset\n",
    "from cbow.args import args\n",
    "from cbow.databag import DataBag\n",
    "args"
   ]
  },
  {
   "cell_type": "code",
   "execution_count": 5,
   "metadata": {
    "ExecuteTime": {
     "end_time": "2019-03-27T19:15:01.879758Z",
     "start_time": "2019-03-27T19:14:56.435773Z"
    }
   },
   "outputs": [
    {
     "name": "stdout",
     "output_type": "stream",
     "text": [
      "Creating and saving vectorizer\n"
     ]
    }
   ],
   "source": [
    "df = pd.read_csv(args.proc_dataset_csv)\n",
    "db = DataBag(df, args.vectorizer_file, args.batch_size, is_load=False)"
   ]
  },
  {
   "cell_type": "code",
   "execution_count": 6,
   "metadata": {
    "ExecuteTime": {
     "end_time": "2019-03-27T19:15:12.682618Z",
     "start_time": "2019-03-27T19:15:12.552878Z"
    }
   },
   "outputs": [],
   "source": [
    "train_dl, val_dl, test_dl = db.get_loaders()"
   ]
  },
  {
   "cell_type": "code",
   "execution_count": null,
   "metadata": {
    "ExecuteTime": {
     "end_time": "2019-03-27T19:07:32.895141Z",
     "start_time": "2019-03-27T19:07:32.864169Z"
    }
   },
   "outputs": [],
   "source": [
    "train_df = df.loc[df['split'] == 'train']\n",
    "val_df = df.loc[df['split'] == 'val']\n",
    "test_df = df.loc[df['split'] == 'test']"
   ]
  },
  {
   "cell_type": "code",
   "execution_count": null,
   "metadata": {
    "ExecuteTime": {
     "end_time": "2019-03-27T19:07:41.453462Z",
     "start_time": "2019-03-27T19:07:41.434725Z"
    }
   },
   "outputs": [],
   "source": [
    "is_load = True"
   ]
  },
  {
   "cell_type": "code",
   "execution_count": null,
   "metadata": {
    "ExecuteTime": {
     "end_time": "2019-03-27T19:07:40.805523Z",
     "start_time": "2019-03-27T19:07:35.997934Z"
    }
   },
   "outputs": [],
   "source": [
    "if not is_load:\n",
    "  train_ds = CBOWDataset.load_data_and_create_vectorizer(train_df)\n",
    "  train_ds.save_vectorizer(args.vectorizer_file)"
   ]
  },
  {
   "cell_type": "code",
   "execution_count": null,
   "metadata": {
    "ExecuteTime": {
     "end_time": "2019-03-27T19:09:15.608631Z",
     "start_time": "2019-03-27T19:09:15.536630Z"
    }
   },
   "outputs": [],
   "source": [
    "train_ds = CBOWDataset.load_data_and_vectorizer_from_file(train_df, args.vectorizer_file)\n",
    "vectorizer = train_ds.get_vectorizer()\n",
    "train_dl = DataLoader(train_ds, args.batch_size, shuffle=True, drop_last=True)\n",
    "\n",
    "val_ds = CBOWDataset.load_data_and_vectorizer(val_df, vectorizer)\n",
    "val_dl = DataLoader(val_ds, args.batch_size, shuffle=True, drop_last=True)\n",
    "\n",
    "test_ds = CBOWDataset.load_data_and_vectorizer(test_df, vectorizer)\n",
    "test_dl = DataLoader(test_ds, args.batch_size, shuffle=True, drop_last=True)"
   ]
  },
  {
   "cell_type": "code",
   "execution_count": 7,
   "metadata": {
    "ExecuteTime": {
     "end_time": "2019-03-27T19:15:17.951558Z",
     "start_time": "2019-03-27T19:15:17.936504Z"
    }
   },
   "outputs": [],
   "source": [
    "tritr = iter(train_dl)\n",
    "vitr = iter(val_dl)\n",
    "teitr = iter(test_dl)"
   ]
  }
 ],
 "metadata": {
  "kernelspec": {
   "display_name": "Python 3",
   "language": "python",
   "name": "python3"
  },
  "language_info": {
   "codemirror_mode": {
    "name": "ipython",
    "version": 3
   },
   "file_extension": ".py",
   "mimetype": "text/x-python",
   "name": "python",
   "nbconvert_exporter": "python",
   "pygments_lexer": "ipython3",
   "version": "3.7.2"
  },
  "toc": {
   "base_numbering": 1,
   "nav_menu": {},
   "number_sections": true,
   "sideBar": true,
   "skip_h1_title": false,
   "title_cell": "Table of Contents",
   "title_sidebar": "Contents",
   "toc_cell": false,
   "toc_position": {},
   "toc_section_display": true,
   "toc_window_display": false
  }
 },
 "nbformat": 4,
 "nbformat_minor": 2
}
