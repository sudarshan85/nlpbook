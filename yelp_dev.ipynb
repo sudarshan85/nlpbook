{
 "cells": [
  {
   "cell_type": "code",
   "execution_count": 1,
   "metadata": {
    "ExecuteTime": {
     "end_time": "2019-03-21T17:21:59.037200Z",
     "start_time": "2019-03-21T17:21:59.025314Z"
    }
   },
   "outputs": [],
   "source": [
    "%load_ext autoreload\n",
    "%autoreload 2"
   ]
  },
  {
   "cell_type": "code",
   "execution_count": 2,
   "metadata": {
    "ExecuteTime": {
     "end_time": "2019-03-21T17:21:59.551544Z",
     "start_time": "2019-03-21T17:21:59.038394Z"
    }
   },
   "outputs": [],
   "source": [
    "import pandas as pd\n",
    "import string\n",
    "import numpy as np\n",
    "\n",
    "from collections import Counter\n",
    "from pathlib import Path\n",
    "from torch.utils.data import DataLoader\n",
    "from torch.utils.data import Dataset\n",
    "\n",
    "from yelp.dataset import ProjectDataset"
   ]
  },
  {
   "cell_type": "code",
   "execution_count": 3,
   "metadata": {
    "ExecuteTime": {
     "end_time": "2019-03-21T17:21:59.567230Z",
     "start_time": "2019-03-21T17:21:59.553086Z"
    }
   },
   "outputs": [],
   "source": [
    "path = Path('./data/yelp')\n",
    "review_csv = path/'reviews_with_splits_lite.csv'\n",
    "scratch = path/'scratch'\n",
    "vectorizer_path = scratch/'vectorizer.json'"
   ]
  },
  {
   "cell_type": "code",
   "execution_count": 4,
   "metadata": {
    "ExecuteTime": {
     "end_time": "2019-03-21T17:21:59.581052Z",
     "start_time": "2019-03-21T17:21:59.568428Z"
    }
   },
   "outputs": [],
   "source": [
    "# dataset = ProjectDataset.load_data_and_create_vectorizer(review_csv)\n",
    "# dataset.save_vectorizer(vectorizer_path)"
   ]
  },
  {
   "cell_type": "code",
   "execution_count": 5,
   "metadata": {
    "ExecuteTime": {
     "end_time": "2019-03-21T17:21:59.969925Z",
     "start_time": "2019-03-21T17:21:59.581997Z"
    }
   },
   "outputs": [],
   "source": [
    "dataset = ProjectDataset.load_data_and_vectorizer(review_csv, vectorizer_path)"
   ]
  },
  {
   "cell_type": "code",
   "execution_count": 6,
   "metadata": {
    "ExecuteTime": {
     "end_time": "2019-03-21T17:21:59.990191Z",
     "start_time": "2019-03-21T17:21:59.971881Z"
    }
   },
   "outputs": [],
   "source": [
    "dataset.set_split('train')\n",
    "dataloader = DataLoader(dataset, batch_size=1)"
   ]
  },
  {
   "cell_type": "code",
   "execution_count": 7,
   "metadata": {
    "ExecuteTime": {
     "end_time": "2019-03-21T17:22:00.004825Z",
     "start_time": "2019-03-21T17:21:59.991308Z"
    }
   },
   "outputs": [],
   "source": [
    "itr = iter(dataloader)"
   ]
  },
  {
   "cell_type": "code",
   "execution_count": 17,
   "metadata": {
    "ExecuteTime": {
     "end_time": "2019-03-21T17:22:07.157226Z",
     "start_time": "2019-03-21T17:22:07.144582Z"
    }
   },
   "outputs": [
    {
     "data": {
      "text/plain": [
       "(tensor([[0., 0., 0.,  ..., 0., 0., 0.]]), tensor([0]))"
      ]
     },
     "execution_count": 17,
     "metadata": {},
     "output_type": "execute_result"
    }
   ],
   "source": [
    "out = next(itr)\n",
    "x, y = out['x_data'], out['y_target']\n",
    "x,y"
   ]
  }
 ],
 "metadata": {
  "kernelspec": {
   "display_name": "Python 3",
   "language": "python",
   "name": "python3"
  },
  "language_info": {
   "codemirror_mode": {
    "name": "ipython",
    "version": 3
   },
   "file_extension": ".py",
   "mimetype": "text/x-python",
   "name": "python",
   "nbconvert_exporter": "python",
   "pygments_lexer": "ipython3",
   "version": "3.7.2"
  },
  "toc": {
   "base_numbering": 1,
   "nav_menu": {},
   "number_sections": true,
   "sideBar": true,
   "skip_h1_title": false,
   "title_cell": "Table of Contents",
   "title_sidebar": "Contents",
   "toc_cell": false,
   "toc_position": {},
   "toc_section_display": true,
   "toc_window_display": false
  }
 },
 "nbformat": 4,
 "nbformat_minor": 2
}
