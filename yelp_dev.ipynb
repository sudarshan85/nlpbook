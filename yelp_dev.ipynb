{
 "cells": [
  {
   "cell_type": "code",
   "execution_count": 1,
   "metadata": {
    "ExecuteTime": {
     "end_time": "2019-03-22T21:41:03.083158Z",
     "start_time": "2019-03-22T21:41:03.072026Z"
    }
   },
   "outputs": [],
   "source": [
    "%load_ext autoreload\n",
    "%autoreload 2"
   ]
  },
  {
   "cell_type": "code",
   "execution_count": 2,
   "metadata": {
    "ExecuteTime": {
     "end_time": "2019-03-22T21:41:03.590715Z",
     "start_time": "2019-03-22T21:41:03.084196Z"
    }
   },
   "outputs": [],
   "source": [
    "import pandas as pd\n",
    "import numpy as np\n",
    "import torch\n",
    "import pdb\n",
    "\n",
    "from pathlib import Path\n",
    "from torch import nn\n",
    "from torch.nn import functional as F\n",
    "from torch import optim\n",
    "from torch.utils.data import DataLoader\n",
    "from torch.utils.data import Dataset"
   ]
  },
  {
   "cell_type": "code",
   "execution_count": 3,
   "metadata": {
    "ExecuteTime": {
     "end_time": "2019-03-22T21:41:03.605403Z",
     "start_time": "2019-03-22T21:41:03.592569Z"
    }
   },
   "outputs": [],
   "source": [
    "# from ignite.engine import Events, create_supervised_trainer, create_supervised_evaluator\n",
    "# from ignite.metrics import Accuracy, Loss, RunningAverage\n",
    "# from ignite.handlers import ModelCheckpoint, EarlyStopping\n",
    "# from ignite.contrib.handlers import ProgressBar"
   ]
  },
  {
   "cell_type": "code",
   "execution_count": 4,
   "metadata": {
    "ExecuteTime": {
     "end_time": "2019-03-22T21:41:03.620122Z",
     "start_time": "2019-03-22T21:41:03.606727Z"
    }
   },
   "outputs": [],
   "source": [
    "from yelp.dataset import ProjectDataset"
   ]
  },
  {
   "cell_type": "code",
   "execution_count": 5,
   "metadata": {
    "ExecuteTime": {
     "end_time": "2019-03-22T21:41:03.633077Z",
     "start_time": "2019-03-22T21:41:03.621214Z"
    }
   },
   "outputs": [],
   "source": [
    "def set_all_seed(seed, cuda):\n",
    "  np.random.seed(seed)\n",
    "  torch.manual_seed(seed)\n",
    "  if cuda:\n",
    "    torch.cuda.manual_seed(seed)"
   ]
  },
  {
   "cell_type": "code",
   "execution_count": 6,
   "metadata": {
    "ExecuteTime": {
     "end_time": "2019-03-22T21:41:03.982548Z",
     "start_time": "2019-03-22T21:41:03.634060Z"
    }
   },
   "outputs": [],
   "source": [
    "path = Path('./data/yelp')\n",
    "review_csv = path/'reviews_with_splits_lite.csv'\n",
    "scratch = path/'scratch'\n",
    "vectorizer_path = scratch/'vectorizer.json'\n",
    "\n",
    "df = pd.read_csv(review_csv)"
   ]
  },
  {
   "cell_type": "code",
   "execution_count": 7,
   "metadata": {
    "ExecuteTime": {
     "end_time": "2019-03-22T21:41:03.997414Z",
     "start_time": "2019-03-22T21:41:03.983931Z"
    }
   },
   "outputs": [],
   "source": [
    "# train_ds = ProjectDataset.load_data_and_create_vectorizer(df.loc[df['split'] == 'train'])\n",
    "# train_ds.save_vectorizer(vectorizer_path)"
   ]
  },
  {
   "cell_type": "code",
   "execution_count": 8,
   "metadata": {
    "ExecuteTime": {
     "end_time": "2019-03-22T21:41:04.025568Z",
     "start_time": "2019-03-22T21:41:03.999013Z"
    }
   },
   "outputs": [],
   "source": [
    "train_df = df.loc[df['split'] == 'train']\n",
    "train_ds = ProjectDataset.load_data_and_vectorizer(train_df, vectorizer_path)\n",
    "vectorizer = train_ds.get_vectorizer()\n",
    "train_dl = DataLoader(train_ds, batch_size=128, shuffle=True, drop_last=True)\n",
    "\n",
    "val_df = df.loc[df['split'] == 'val']\n",
    "val_ds = ProjectDataset.load_data_and_vectorizer(val_df, vectorizer_path)\n",
    "val_dl = DataLoader(val_ds, batch_size=128, shuffle=True, drop_last=True)"
   ]
  },
  {
   "cell_type": "code",
   "execution_count": 9,
   "metadata": {
    "ExecuteTime": {
     "end_time": "2019-03-22T21:41:04.040067Z",
     "start_time": "2019-03-22T21:41:04.026859Z"
    }
   },
   "outputs": [],
   "source": [
    "class ReviewClassifier(nn.Module):\n",
    "  def __init__(self, num_features):\n",
    "    super(ReviewClassifier, self).__init__()\n",
    "    self.fc1 = nn.Linear(in_features=num_features, out_features=1)\n",
    "    \n",
    "  def forward(self, x_in, apply_sigmoid=False):\n",
    "    y_out = self.fc1(x_in).squeeze(1)\n",
    "    if apply_sigmoid:\n",
    "      y_out = torch.sigmoid(y_out)\n",
    "    return y_out"
   ]
  },
  {
   "cell_type": "code",
   "execution_count": 10,
   "metadata": {
    "ExecuteTime": {
     "end_time": "2019-03-22T21:41:04.054248Z",
     "start_time": "2019-03-22T21:41:04.041018Z"
    }
   },
   "outputs": [],
   "source": [
    "classifier = ReviewClassifier(num_features=len((vectorizer).review_vocab))\n",
    "optimizer = optim.Adam(classifier.parameters(), lr=0.001)\n",
    "scheduler = optim.lr_scheduler.ReduceLROnPlateau(optimizer=optimizer, mode='min', factor=0.5, patience=1)\n",
    "loss_func = nn.BCEWithLogitsLoss()"
   ]
  },
  {
   "cell_type": "code",
   "execution_count": 11,
   "metadata": {
    "ExecuteTime": {
     "end_time": "2019-03-22T21:41:04.067163Z",
     "start_time": "2019-03-22T21:41:04.055317Z"
    }
   },
   "outputs": [],
   "source": [
    "def bce_logits_wrapper(output):\n",
    "    y_pred, y = output\n",
    "    y_pred = (torch.sigmoid(y_pred) > 0.5).long()\n",
    "    return y_pred, y"
   ]
  },
  {
   "cell_type": "code",
   "execution_count": 12,
   "metadata": {
    "ExecuteTime": {
     "end_time": "2019-03-22T21:41:04.100717Z",
     "start_time": "2019-03-22T21:41:04.068092Z"
    }
   },
   "outputs": [],
   "source": [
    "from yelp.yelp_trainer import YelpTrainer"
   ]
  },
  {
   "cell_type": "code",
   "execution_count": 13,
   "metadata": {
    "ExecuteTime": {
     "end_time": "2019-03-22T21:41:04.125223Z",
     "start_time": "2019-03-22T21:41:04.101820Z"
    }
   },
   "outputs": [],
   "source": [
    "from ignite.metrics import Accuracy, Loss\n",
    "from ignite.contrib.handlers import ProgressBar"
   ]
  },
  {
   "cell_type": "code",
   "execution_count": 14,
   "metadata": {
    "ExecuteTime": {
     "end_time": "2019-03-22T21:41:04.138579Z",
     "start_time": "2019-03-22T21:41:04.126195Z"
    }
   },
   "outputs": [],
   "source": [
    "pbar = ProgressBar(persist=True)"
   ]
  },
  {
   "cell_type": "code",
   "execution_count": 15,
   "metadata": {
    "ExecuteTime": {
     "end_time": "2019-03-22T21:41:55.952146Z",
     "start_time": "2019-03-22T21:41:55.880413Z"
    }
   },
   "outputs": [],
   "source": [
    "metrics = {'accuracy': Accuracy(bce_logits_wrapper), 'bce': Loss(loss_func)}"
   ]
  },
  {
   "cell_type": "code",
   "execution_count": 19,
   "metadata": {
    "ExecuteTime": {
     "end_time": "2019-03-22T21:43:07.446123Z",
     "start_time": "2019-03-22T21:43:07.374042Z"
    }
   },
   "outputs": [],
   "source": [
    "yelp_trainer = YelpTrainer(classifier, optimizer, loss_func, train_dl, val_dl, pbar, metrics, device='cuda:3')"
   ]
  },
  {
   "cell_type": "code",
   "execution_count": null,
   "metadata": {},
   "outputs": [],
   "source": []
  },
  {
   "cell_type": "code",
   "execution_count": null,
   "metadata": {
    "ExecuteTime": {
     "end_time": "2019-03-22T20:56:46.850359Z",
     "start_time": "2019-03-22T20:56:41.184783Z"
    }
   },
   "outputs": [],
   "source": [
    "trainer = create_supervised_trainer(classifier, optimizer, loss_func, device='cuda:3')\n",
    "evaluator = create_supervised_evaluator(classifier, metrics=\\\n",
    "                                        {'accuracy':Accuracy(bce_logits_wrapper),\\\n",
    "                                         'bce': Loss(loss_func)}, device='cuda:3')"
   ]
  },
  {
   "cell_type": "code",
   "execution_count": null,
   "metadata": {
    "ExecuteTime": {
     "end_time": "2019-03-22T20:56:46.872302Z",
     "start_time": "2019-03-22T20:56:46.852336Z"
    }
   },
   "outputs": [],
   "source": [
    "RunningAverage(output_transform=lambda x: x).attach(trainer, 'loss')\n",
    "checkpointer = ModelCheckpoint(scratch, 'yelp', save_interval=1, n_saved=2, create_dir=True,\\\n",
    "                               save_as_state_dict=True)\n",
    "trainer.add_event_handler(Events.EPOCH_COMPLETED, checkpointer, {'classifier': classifier})"
   ]
  },
  {
   "cell_type": "code",
   "execution_count": null,
   "metadata": {
    "ExecuteTime": {
     "end_time": "2019-03-22T20:56:46.888023Z",
     "start_time": "2019-03-22T20:56:46.873734Z"
    }
   },
   "outputs": [],
   "source": [
    "def score_function(engine):\n",
    "  val_loss = engine.state.metrics['bce']\n",
    "  return -val_loss\n",
    "\n",
    "handler = EarlyStopping(patience=10, score_function=score_function, trainer=trainer)\n",
    "evaluator.add_event_handler(Events.COMPLETED, handler)"
   ]
  },
  {
   "cell_type": "code",
   "execution_count": null,
   "metadata": {
    "ExecuteTime": {
     "end_time": "2019-03-22T20:56:46.901863Z",
     "start_time": "2019-03-22T20:56:46.889153Z"
    }
   },
   "outputs": [],
   "source": [
    "pbar = ProgressBar(persist=True)\n",
    "pbar.attach(trainer, ['loss'])"
   ]
  },
  {
   "cell_type": "code",
   "execution_count": null,
   "metadata": {
    "ExecuteTime": {
     "end_time": "2019-03-22T20:56:46.917353Z",
     "start_time": "2019-03-22T20:56:46.902868Z"
    }
   },
   "outputs": [],
   "source": [
    "@evaluator.on(Events.COMPLETED)\n",
    "def scheduler_step(engine):\n",
    "  scheduler.step(engine.state.metrics['bce'])\n",
    "  \n",
    "@trainer.on(Events.EPOCH_COMPLETED)\n",
    "def log_training_results(engine):\n",
    "  evaluator.run(train_dl)\n",
    "  metrics = evaluator.state.metrics\n",
    "  pbar.log_message(f\"Training Results - Epoch: {engine.state.epoch}\\\n",
    "                    Avg accuracy: {metrics['accuracy']:0.2f}\\\n",
    "                    Avg loss: {metrics['bce']:0.2f}\")\n",
    "                   \n",
    "@trainer.on(Events.EPOCH_COMPLETED)\n",
    "def log_validation_results(engine):\n",
    "  evaluator.run(val_dl)\n",
    "  metrics = evaluator.state.metrics\n",
    "  pbar.log_message(f\"Validation Results - Epoch: {engine.state.epoch}\\\n",
    "                    Avg accuracy: {metrics['accuracy']:0.2f}\\\n",
    "                    Avg loss: {metrics['bce']:0.2f}\")"
   ]
  },
  {
   "cell_type": "code",
   "execution_count": null,
   "metadata": {
    "ExecuteTime": {
     "end_time": "2019-03-22T20:57:18.383331Z",
     "start_time": "2019-03-22T20:56:46.918289Z"
    }
   },
   "outputs": [],
   "source": [
    "trainer.run(train_dl, max_epochs=2)"
   ]
  }
 ],
 "metadata": {
  "kernelspec": {
   "display_name": "Python 3",
   "language": "python",
   "name": "python3"
  },
  "language_info": {
   "codemirror_mode": {
    "name": "ipython",
    "version": 3
   },
   "file_extension": ".py",
   "mimetype": "text/x-python",
   "name": "python",
   "nbconvert_exporter": "python",
   "pygments_lexer": "ipython3",
   "version": "3.7.2"
  },
  "toc": {
   "base_numbering": 1,
   "nav_menu": {},
   "number_sections": true,
   "sideBar": true,
   "skip_h1_title": false,
   "title_cell": "Table of Contents",
   "title_sidebar": "Contents",
   "toc_cell": false,
   "toc_position": {},
   "toc_section_display": true,
   "toc_window_display": false
  }
 },
 "nbformat": 4,
 "nbformat_minor": 2
}
