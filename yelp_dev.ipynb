{
 "cells": [
  {
   "cell_type": "code",
   "execution_count": null,
   "metadata": {
    "ExecuteTime": {
     "end_time": "2019-03-16T19:08:49.826869Z",
     "start_time": "2019-03-16T19:08:49.815527Z"
    }
   },
   "outputs": [],
   "source": [
    "%load_ext autoreload\n",
    "%autoreload 2"
   ]
  },
  {
   "cell_type": "code",
   "execution_count": null,
   "metadata": {
    "ExecuteTime": {
     "end_time": "2019-03-16T19:08:50.710072Z",
     "start_time": "2019-03-16T19:08:49.828031Z"
    }
   },
   "outputs": [],
   "source": [
    "import pandas as pd\n",
    "import string\n",
    "import numpy as np\n",
    "import json\n",
    "\n",
    "from collecitons import Counter\n",
    "from pathlib import Path\n",
    "from torch.utils.data import DataLoader\n",
    "from torch.utils.data import Dataset"
   ]
  },
  {
   "cell_type": "code",
   "execution_count": null,
   "metadata": {
    "ExecuteTime": {
     "end_time": "2019-03-16T19:08:50.726580Z",
     "start_time": "2019-03-16T19:08:50.711547Z"
    }
   },
   "outputs": [],
   "source": [
    "from yelp.vocab import Vocabulary\n",
    "from yelp.vectorizer import Vectorizer\n",
    "from yelp.dataset import ProjectDataset"
   ]
  },
  {
   "cell_type": "code",
   "execution_count": null,
   "metadata": {
    "ExecuteTime": {
     "end_time": "2019-03-16T19:08:52.681884Z",
     "start_time": "2019-03-16T19:08:52.667361Z"
    }
   },
   "outputs": [],
   "source": [
    "path = Path('./data/yelp')\n",
    "review_csv = path/'reviews_with_splits_lite.csv'\n",
    "scratch = path/'scratch'\n",
    "vectorizer_path = scratch/'vectorizer.json'"
   ]
  },
  {
   "cell_type": "code",
   "execution_count": null,
   "metadata": {
    "ExecuteTime": {
     "end_time": "2019-03-16T19:09:38.161334Z",
     "start_time": "2019-03-16T19:09:38.027662Z"
    }
   },
   "outputs": [],
   "source": [
    "review_vocab = Vocabulary(add_unk=True)"
   ]
  },
  {
   "cell_type": "code",
   "execution_count": null,
   "metadata": {},
   "outputs": [],
   "source": []
  },
  {
   "cell_type": "code",
   "execution_count": null,
   "metadata": {
    "ExecuteTime": {
     "end_time": "2019-03-16T19:06:37.669725Z",
     "start_time": "2019-03-16T19:06:35.578908Z"
    }
   },
   "outputs": [],
   "source": [
    "review_df = pd.read_csv(review_csv)\n",
    "train_df = review_df[review_df['split'] == 'train']\n",
    "vectorizer = Vectorizer.from_dataframe(train_df, cutoff=25)\n",
    "vocab = vectorizer.review_vocab"
   ]
  },
  {
   "cell_type": "code",
   "execution_count": null,
   "metadata": {
    "ExecuteTime": {
     "end_time": "2019-03-16T19:07:58.220518Z",
     "start_time": "2019-03-16T19:06:37.672235Z"
    }
   },
   "outputs": [],
   "source": [
    "dataset = ProjectDataset.load_data_and_create_vectorizer(review_csv)\n",
    "dataset.save_vectorizer(vectorizer_path)\n",
    "# dataset = ProjectDataset.load_data_and_vectorizer(review_csv, vectorizer_path)"
   ]
  },
  {
   "cell_type": "code",
   "execution_count": null,
   "metadata": {
    "ExecuteTime": {
     "end_time": "2019-03-16T19:02:43.714084Z",
     "start_time": "2019-03-16T19:02:43.700269Z"
    }
   },
   "outputs": [],
   "source": [
    "dataset.set_split('train')\n",
    "dataloader = DataLoader(dataset, batch_size=1)"
   ]
  },
  {
   "cell_type": "code",
   "execution_count": null,
   "metadata": {
    "ExecuteTime": {
     "end_time": "2019-03-16T19:02:43.728934Z",
     "start_time": "2019-03-16T19:02:43.715119Z"
    }
   },
   "outputs": [],
   "source": [
    "itr = iter(dataloader)"
   ]
  },
  {
   "cell_type": "code",
   "execution_count": null,
   "metadata": {
    "ExecuteTime": {
     "end_time": "2019-03-16T19:03:00.480184Z",
     "start_time": "2019-03-16T19:02:43.729914Z"
    }
   },
   "outputs": [],
   "source": [
    "out = next(itr)"
   ]
  },
  {
   "cell_type": "code",
   "execution_count": null,
   "metadata": {
    "ExecuteTime": {
     "end_time": "2019-03-16T18:54:53.375444Z",
     "start_time": "2019-03-16T18:54:53.363687Z"
    }
   },
   "outputs": [],
   "source": [
    "x, y = out['x_data'], out['y_target']"
   ]
  },
  {
   "cell_type": "code",
   "execution_count": null,
   "metadata": {
    "ExecuteTime": {
     "end_time": "2019-03-16T18:54:57.076603Z",
     "start_time": "2019-03-16T18:54:57.000853Z"
    }
   },
   "outputs": [],
   "source": [
    "x,y"
   ]
  },
  {
   "cell_type": "code",
   "execution_count": null,
   "metadata": {
    "ExecuteTime": {
     "end_time": "2019-03-16T18:54:54.283596Z",
     "start_time": "2019-03-16T18:54:54.272017Z"
    }
   },
   "outputs": [],
   "source": [
    "nx = x.numpy()"
   ]
  },
  {
   "cell_type": "code",
   "execution_count": null,
   "metadata": {
    "ExecuteTime": {
     "end_time": "2019-03-15T21:51:06.679385Z",
     "start_time": "2019-03-15T21:51:06.665823Z"
    }
   },
   "outputs": [],
   "source": [
    "np.where(nx==1)"
   ]
  },
  {
   "cell_type": "code",
   "execution_count": null,
   "metadata": {
    "ExecuteTime": {
     "end_time": "2019-03-15T21:52:30.038508Z",
     "start_time": "2019-03-15T21:52:30.025013Z"
    }
   },
   "outputs": [],
   "source": [
    "dataset._vectorizer.review_vocab.lookup_idx(72)"
   ]
  },
  {
   "cell_type": "code",
   "execution_count": null,
   "metadata": {
    "ExecuteTime": {
     "end_time": "2019-03-15T21:52:21.616617Z",
     "start_time": "2019-03-15T21:52:21.603013Z"
    }
   },
   "outputs": [],
   "source": [
    "df.iloc[0]['review']"
   ]
  },
  {
   "cell_type": "code",
   "execution_count": null,
   "metadata": {},
   "outputs": [],
   "source": [
    "dataset._lookup_dict.keys['train'][0]."
   ]
  },
  {
   "cell_type": "code",
   "execution_count": null,
   "metadata": {
    "ExecuteTime": {
     "end_time": "2019-03-15T21:39:50.334769Z",
     "start_time": "2019-03-15T21:39:39.711592Z"
    }
   },
   "outputs": [],
   "source": [
    "next(itr)"
   ]
  },
  {
   "cell_type": "code",
   "execution_count": null,
   "metadata": {
    "ExecuteTime": {
     "end_time": "2019-03-15T21:46:12.253388Z",
     "start_time": "2019-03-15T21:46:12.239006Z"
    }
   },
   "outputs": [],
   "source": [
    "def getit():\n",
    "    for d in dataloader:\n",
    "        out = {}\n",
    "        for name, tensor in d.items():\n",
    "            out[name] = d[name]\n",
    "        yield out"
   ]
  },
  {
   "cell_type": "code",
   "execution_count": null,
   "metadata": {
    "ExecuteTime": {
     "end_time": "2019-03-15T21:46:20.041698Z",
     "start_time": "2019-03-15T21:46:20.030193Z"
    }
   },
   "outputs": [],
   "source": [
    "itr = iter(getit())"
   ]
  },
  {
   "cell_type": "code",
   "execution_count": null,
   "metadata": {
    "ExecuteTime": {
     "end_time": "2019-03-15T21:46:26.474761Z",
     "start_time": "2019-03-15T21:46:26.462543Z"
    }
   },
   "outputs": [],
   "source": [
    "next(itr)"
   ]
  },
  {
   "cell_type": "code",
   "execution_count": null,
   "metadata": {},
   "outputs": [],
   "source": [
    "!ls {path}"
   ]
  },
  {
   "cell_type": "code",
   "execution_count": null,
   "metadata": {},
   "outputs": [],
   "source": [
    "df = pd.read_csv(path/'reviews_with_splits_lite.csv')"
   ]
  },
  {
   "cell_type": "code",
   "execution_count": null,
   "metadata": {},
   "outputs": [],
   "source": [
    "df.head()"
   ]
  },
  {
   "cell_type": "code",
   "execution_count": null,
   "metadata": {},
   "outputs": [],
   "source": [
    "df.iloc[16]"
   ]
  }
 ],
 "metadata": {
  "kernelspec": {
   "display_name": "Python 3",
   "language": "python",
   "name": "python3"
  },
  "language_info": {
   "codemirror_mode": {
    "name": "ipython",
    "version": 3
   },
   "file_extension": ".py",
   "mimetype": "text/x-python",
   "name": "python",
   "nbconvert_exporter": "python",
   "pygments_lexer": "ipython3",
   "version": "3.7.2"
  },
  "toc": {
   "base_numbering": 1,
   "nav_menu": {},
   "number_sections": true,
   "sideBar": true,
   "skip_h1_title": false,
   "title_cell": "Table of Contents",
   "title_sidebar": "Contents",
   "toc_cell": false,
   "toc_position": {},
   "toc_section_display": true,
   "toc_window_display": false
  }
 },
 "nbformat": 4,
 "nbformat_minor": 2
}
