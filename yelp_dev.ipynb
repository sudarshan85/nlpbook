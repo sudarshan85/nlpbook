{
 "cells": [
  {
   "cell_type": "code",
   "execution_count": null,
   "metadata": {
    "ExecuteTime": {
     "end_time": "2019-03-21T17:19:27.130258Z",
     "start_time": "2019-03-21T17:19:27.119035Z"
    }
   },
   "outputs": [],
   "source": [
    "%load_ext autoreload\n",
    "%autoreload 2"
   ]
  },
  {
   "cell_type": "code",
   "execution_count": null,
   "metadata": {
    "ExecuteTime": {
     "end_time": "2019-03-21T17:19:27.576106Z",
     "start_time": "2019-03-21T17:19:27.131442Z"
    }
   },
   "outputs": [],
   "source": [
    "import pandas as pd\n",
    "import string\n",
    "import numpy as np\n",
    "import json\n",
    "\n",
    "from collections import Counter\n",
    "from pathlib import Path\n",
    "from torch.utils.data import DataLoader\n",
    "from torch.utils.data import Dataset"
   ]
  },
  {
   "cell_type": "code",
   "execution_count": null,
   "metadata": {
    "ExecuteTime": {
     "end_time": "2019-03-21T17:19:27.591935Z",
     "start_time": "2019-03-21T17:19:27.577552Z"
    }
   },
   "outputs": [],
   "source": [
    "from yelp.vocab import Vocabulary\n",
    "from yelp.vectorizer import Vectorizer\n",
    "from yelp.dataset import ProjectDataset"
   ]
  },
  {
   "cell_type": "code",
   "execution_count": null,
   "metadata": {
    "ExecuteTime": {
     "end_time": "2019-03-21T17:19:27.605995Z",
     "start_time": "2019-03-21T17:19:27.593301Z"
    }
   },
   "outputs": [],
   "source": [
    "path = Path('./data/yelp')\n",
    "review_csv = path/'reviews_with_splits_lite.csv'\n",
    "scratch = path/'scratch'\n",
    "vectorizer_path = scratch/'vectorizer.json'"
   ]
  },
  {
   "cell_type": "code",
   "execution_count": null,
   "metadata": {
    "ExecuteTime": {
     "end_time": "2019-03-21T17:19:27.618291Z",
     "start_time": "2019-03-21T17:19:27.606875Z"
    }
   },
   "outputs": [],
   "source": [
    "# review_vocab = Vocabulary(add_unk=True)\n",
    "# review_df = pd.read_csv(review_csv)\n",
    "# train_df = review_df[review_df['split'] == 'train']\n",
    "# vectorizer = Vectorizer.from_dataframe(train_df, cutoff=25)\n",
    "# vocab = vectorizer.review_vocab"
   ]
  },
  {
   "cell_type": "code",
   "execution_count": null,
   "metadata": {
    "ExecuteTime": {
     "end_time": "2019-03-21T17:19:28.006205Z",
     "start_time": "2019-03-21T17:19:27.619196Z"
    }
   },
   "outputs": [],
   "source": [
    "# dataset = ProjectDataset.load_data_and_create_vectorizer(review_csv)\n",
    "# dataset.save_vectorizer(vectorizer_path)\n",
    "dataset = ProjectDataset.load_data_and_vectorizer(review_csv, vectorizer_path)"
   ]
  },
  {
   "cell_type": "code",
   "execution_count": null,
   "metadata": {
    "ExecuteTime": {
     "end_time": "2019-03-21T17:16:57.139440Z",
     "start_time": "2019-03-21T17:16:57.117562Z"
    }
   },
   "outputs": [],
   "source": [
    "dataset._vectorizer.review_vocab"
   ]
  },
  {
   "cell_type": "code",
   "execution_count": null,
   "metadata": {
    "ExecuteTime": {
     "end_time": "2019-03-21T17:05:36.592580Z",
     "start_time": "2019-03-21T17:05:36.477292Z"
    }
   },
   "outputs": [],
   "source": [
    "import json"
   ]
  },
  {
   "cell_type": "code",
   "execution_count": null,
   "metadata": {
    "ExecuteTime": {
     "end_time": "2019-03-21T17:06:21.303217Z",
     "start_time": "2019-03-21T17:06:21.285616Z"
    }
   },
   "outputs": [],
   "source": [
    "with open(vectorizer_path) as f:\n",
    "    d = json.load(f)"
   ]
  },
  {
   "cell_type": "code",
   "execution_count": null,
   "metadata": {
    "ExecuteTime": {
     "end_time": "2019-03-21T17:08:40.561926Z",
     "start_time": "2019-03-21T17:08:40.546834Z"
    }
   },
   "outputs": [],
   "source": [
    "v = Vocabulary.from_serializable(d['review_vocab'])"
   ]
  },
  {
   "cell_type": "code",
   "execution_count": null,
   "metadata": {
    "ExecuteTime": {
     "end_time": "2019-03-21T17:10:51.956365Z",
     "start_time": "2019-03-21T17:10:51.944301Z"
    }
   },
   "outputs": [],
   "source": [
    "def f(**d):\n",
    "    print(d)"
   ]
  },
  {
   "cell_type": "code",
   "execution_count": null,
   "metadata": {
    "ExecuteTime": {
     "end_time": "2019-03-21T17:10:52.798433Z",
     "start_time": "2019-03-21T17:10:52.784151Z"
    }
   },
   "outputs": [],
   "source": [
    "f(**d)"
   ]
  },
  {
   "cell_type": "code",
   "execution_count": null,
   "metadata": {
    "ExecuteTime": {
     "end_time": "2019-03-21T17:19:32.190984Z",
     "start_time": "2019-03-21T17:19:32.171467Z"
    }
   },
   "outputs": [],
   "source": [
    "dataset.set_split('train')\n",
    "dataloader = DataLoader(dataset, batch_size=1)"
   ]
  },
  {
   "cell_type": "code",
   "execution_count": null,
   "metadata": {
    "ExecuteTime": {
     "end_time": "2019-03-21T17:19:32.205652Z",
     "start_time": "2019-03-21T17:19:32.192178Z"
    }
   },
   "outputs": [],
   "source": [
    "itr = iter(dataloader)"
   ]
  },
  {
   "cell_type": "code",
   "execution_count": null,
   "metadata": {
    "ExecuteTime": {
     "end_time": "2019-03-21T17:19:32.219371Z",
     "start_time": "2019-03-21T17:19:32.206837Z"
    }
   },
   "outputs": [],
   "source": [
    "out = next(itr)"
   ]
  },
  {
   "cell_type": "code",
   "execution_count": null,
   "metadata": {
    "ExecuteTime": {
     "end_time": "2019-03-21T17:19:32.232047Z",
     "start_time": "2019-03-21T17:19:32.220498Z"
    }
   },
   "outputs": [],
   "source": [
    "x, y = out['x_data'], out['y_target']"
   ]
  },
  {
   "cell_type": "code",
   "execution_count": null,
   "metadata": {
    "ExecuteTime": {
     "end_time": "2019-03-21T17:19:32.251363Z",
     "start_time": "2019-03-21T17:19:32.232985Z"
    }
   },
   "outputs": [],
   "source": [
    "x,y"
   ]
  },
  {
   "cell_type": "code",
   "execution_count": null,
   "metadata": {
    "ExecuteTime": {
     "end_time": "2019-03-21T16:16:53.799734Z",
     "start_time": "2019-03-21T16:16:53.787978Z"
    }
   },
   "outputs": [],
   "source": [
    "nx = x.numpy()"
   ]
  },
  {
   "cell_type": "code",
   "execution_count": null,
   "metadata": {
    "ExecuteTime": {
     "end_time": "2019-03-21T16:16:54.447121Z",
     "start_time": "2019-03-21T16:16:54.433567Z"
    }
   },
   "outputs": [],
   "source": [
    "np.where(nx==1)"
   ]
  },
  {
   "cell_type": "code",
   "execution_count": null,
   "metadata": {
    "ExecuteTime": {
     "end_time": "2019-03-21T16:16:56.914738Z",
     "start_time": "2019-03-21T16:16:56.900809Z"
    }
   },
   "outputs": [],
   "source": [
    "dataset._vectorizer.review_vocab.lookup_idx(72)"
   ]
  },
  {
   "cell_type": "code",
   "execution_count": null,
   "metadata": {
    "ExecuteTime": {
     "end_time": "2019-03-21T16:16:58.840057Z",
     "start_time": "2019-03-21T16:16:58.708087Z"
    }
   },
   "outputs": [],
   "source": [
    "df.iloc[0]['review']"
   ]
  },
  {
   "cell_type": "code",
   "execution_count": null,
   "metadata": {},
   "outputs": [],
   "source": [
    "dataset._lookup_dict.keys['train'][0]."
   ]
  },
  {
   "cell_type": "code",
   "execution_count": null,
   "metadata": {
    "ExecuteTime": {
     "end_time": "2019-03-15T21:39:50.334769Z",
     "start_time": "2019-03-15T21:39:39.711592Z"
    }
   },
   "outputs": [],
   "source": [
    "next(itr)"
   ]
  },
  {
   "cell_type": "code",
   "execution_count": null,
   "metadata": {
    "ExecuteTime": {
     "end_time": "2019-03-15T21:46:12.253388Z",
     "start_time": "2019-03-15T21:46:12.239006Z"
    }
   },
   "outputs": [],
   "source": [
    "def getit():\n",
    "    for d in dataloader:\n",
    "        out = {}\n",
    "        for name, tensor in d.items():\n",
    "            out[name] = d[name]\n",
    "        yield out"
   ]
  },
  {
   "cell_type": "code",
   "execution_count": null,
   "metadata": {
    "ExecuteTime": {
     "end_time": "2019-03-15T21:46:20.041698Z",
     "start_time": "2019-03-15T21:46:20.030193Z"
    }
   },
   "outputs": [],
   "source": [
    "itr = iter(getit())"
   ]
  },
  {
   "cell_type": "code",
   "execution_count": null,
   "metadata": {
    "ExecuteTime": {
     "end_time": "2019-03-15T21:46:26.474761Z",
     "start_time": "2019-03-15T21:46:26.462543Z"
    }
   },
   "outputs": [],
   "source": [
    "next(itr)"
   ]
  },
  {
   "cell_type": "code",
   "execution_count": null,
   "metadata": {},
   "outputs": [],
   "source": [
    "!ls {path}"
   ]
  },
  {
   "cell_type": "code",
   "execution_count": null,
   "metadata": {},
   "outputs": [],
   "source": [
    "df = pd.read_csv(path/'reviews_with_splits_lite.csv')"
   ]
  },
  {
   "cell_type": "code",
   "execution_count": null,
   "metadata": {},
   "outputs": [],
   "source": [
    "df.head()"
   ]
  },
  {
   "cell_type": "code",
   "execution_count": null,
   "metadata": {},
   "outputs": [],
   "source": [
    "df.iloc[16]"
   ]
  }
 ],
 "metadata": {
  "kernelspec": {
   "display_name": "Python 3",
   "language": "python",
   "name": "python3"
  },
  "language_info": {
   "codemirror_mode": {
    "name": "ipython",
    "version": 3
   },
   "file_extension": ".py",
   "mimetype": "text/x-python",
   "name": "python",
   "nbconvert_exporter": "python",
   "pygments_lexer": "ipython3",
   "version": "3.7.2"
  },
  "toc": {
   "base_numbering": 1,
   "nav_menu": {},
   "number_sections": true,
   "sideBar": true,
   "skip_h1_title": false,
   "title_cell": "Table of Contents",
   "title_sidebar": "Contents",
   "toc_cell": false,
   "toc_position": {},
   "toc_section_display": true,
   "toc_window_display": false
  }
 },
 "nbformat": 4,
 "nbformat_minor": 2
}
