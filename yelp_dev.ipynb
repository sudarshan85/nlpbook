{
 "cells": [
  {
   "cell_type": "code",
   "execution_count": 1,
   "metadata": {
    "ExecuteTime": {
     "end_time": "2019-03-23T14:07:33.040109Z",
     "start_time": "2019-03-23T14:07:33.027317Z"
    }
   },
   "outputs": [],
   "source": [
    "%load_ext autoreload\n",
    "%autoreload 2"
   ]
  },
  {
   "cell_type": "code",
   "execution_count": 2,
   "metadata": {
    "ExecuteTime": {
     "end_time": "2019-03-23T14:07:33.674075Z",
     "start_time": "2019-03-23T14:07:33.041513Z"
    }
   },
   "outputs": [],
   "source": [
    "import pandas as pd\n",
    "import numpy as np\n",
    "import torch\n",
    "import pdb\n",
    "\n",
    "from pathlib import Path\n",
    "from torch import nn\n",
    "from torch.nn import functional as F\n",
    "from torch import optim\n",
    "from torch.utils.data import DataLoader\n",
    "from torch.utils.data import Dataset"
   ]
  },
  {
   "cell_type": "code",
   "execution_count": 3,
   "metadata": {
    "ExecuteTime": {
     "end_time": "2019-03-23T14:07:33.719148Z",
     "start_time": "2019-03-23T14:07:33.675437Z"
    }
   },
   "outputs": [],
   "source": [
    "from ignite.metrics import Accuracy, Loss\n",
    "from ignite.contrib.handlers import ProgressBar"
   ]
  },
  {
   "cell_type": "code",
   "execution_count": 4,
   "metadata": {
    "ExecuteTime": {
     "end_time": "2019-03-23T14:07:33.734723Z",
     "start_time": "2019-03-23T14:07:33.720483Z"
    }
   },
   "outputs": [],
   "source": [
    "from yelp.dataset import ProjectDataset\n",
    "from yelp.trainer import YelpTrainer\n",
    "from yelp.model import Classifier\n",
    "from yelp.args import args"
   ]
  },
  {
   "cell_type": "code",
   "execution_count": 5,
   "metadata": {
    "ExecuteTime": {
     "end_time": "2019-03-23T14:07:34.106285Z",
     "start_time": "2019-03-23T14:07:33.735945Z"
    }
   },
   "outputs": [],
   "source": [
    "path = Path('./data/yelp')\n",
    "review_csv = path/args.sample_file\n",
    "scratch = path/args.workdir_name\n",
    "vectorizer_path = scratch/args.vectorizer_fname\n",
    "args.save_dir = scratch\n",
    "\n",
    "df = pd.read_csv(review_csv)"
   ]
  },
  {
   "cell_type": "code",
   "execution_count": 6,
   "metadata": {
    "ExecuteTime": {
     "end_time": "2019-03-23T14:07:34.127359Z",
     "start_time": "2019-03-23T14:07:34.107589Z"
    },
    "scrolled": true
   },
   "outputs": [
    {
     "data": {
      "text/plain": [
       "Namespace(batch_size=1024, checkpointer_name='classifier', checkpointer_prefix='yelp', device='cuda:3', early_stopping_criteria=5, frequency_cutoff=25, learning_rate=0.001, num_epochs=100, sample_file='reviews_with_splits_lite.csv', save_dir=PosixPath('data/yelp/scratch'), save_every=2, save_total=5, vectorizer_fname='vectorizer.json', workdir_name='scratch')"
      ]
     },
     "execution_count": 6,
     "metadata": {},
     "output_type": "execute_result"
    }
   ],
   "source": [
    "args"
   ]
  },
  {
   "cell_type": "code",
   "execution_count": 7,
   "metadata": {
    "ExecuteTime": {
     "end_time": "2019-03-23T14:07:34.142334Z",
     "start_time": "2019-03-23T14:07:34.128508Z"
    }
   },
   "outputs": [],
   "source": [
    "# train_ds = ProjectDataset.load_data_and_create_vectorizer(df.loc[df['split'] == 'train'])\n",
    "# train_ds.save_vectorizer(vectorizer_path)"
   ]
  },
  {
   "cell_type": "code",
   "execution_count": 8,
   "metadata": {
    "ExecuteTime": {
     "end_time": "2019-03-23T14:07:34.172567Z",
     "start_time": "2019-03-23T14:07:34.143420Z"
    }
   },
   "outputs": [],
   "source": [
    "train_df = df.loc[df['split'] == 'train']\n",
    "train_ds = ProjectDataset.load_data_and_vectorizer(train_df, vectorizer_path)\n",
    "vectorizer = train_ds.get_vectorizer()\n",
    "train_dl = DataLoader(train_ds, args.batch_size, shuffle=True, drop_last=True)\n",
    "\n",
    "val_df = df.loc[df['split'] == 'val']\n",
    "val_ds = ProjectDataset.load_data_and_vectorizer(val_df, vectorizer_path)\n",
    "val_dl = DataLoader(val_ds, args.batch_size, shuffle=True, drop_last=True)"
   ]
  },
  {
   "cell_type": "code",
   "execution_count": 9,
   "metadata": {
    "ExecuteTime": {
     "end_time": "2019-03-23T14:07:34.187042Z",
     "start_time": "2019-03-23T14:07:34.173579Z"
    }
   },
   "outputs": [],
   "source": [
    "classifier = Classifier(num_features=len((vectorizer).review_vocab))\n",
    "optimizer = optim.Adam(classifier.parameters(), lr=args.learning_rate)\n",
    "scheduler = optim.lr_scheduler.ReduceLROnPlateau(optimizer=optimizer, mode='min', factor=0.5, patience=1)\n",
    "loss_func = nn.BCEWithLogitsLoss()"
   ]
  },
  {
   "cell_type": "code",
   "execution_count": 10,
   "metadata": {
    "ExecuteTime": {
     "end_time": "2019-03-23T14:07:34.199728Z",
     "start_time": "2019-03-23T14:07:34.188061Z"
    }
   },
   "outputs": [],
   "source": [
    "def bce_logits_wrapper(output):\n",
    "    y_pred, y = output\n",
    "    y_pred = (torch.sigmoid(y_pred) > 0.5).long()\n",
    "    return y_pred, y"
   ]
  },
  {
   "cell_type": "code",
   "execution_count": 11,
   "metadata": {
    "ExecuteTime": {
     "end_time": "2019-03-23T14:07:34.212044Z",
     "start_time": "2019-03-23T14:07:34.200751Z"
    }
   },
   "outputs": [],
   "source": [
    "pbar = ProgressBar(persist=True)\n",
    "metrics = {'accuracy': Accuracy(bce_logits_wrapper), 'loss': Loss(loss_func)}"
   ]
  },
  {
   "cell_type": "code",
   "execution_count": 12,
   "metadata": {
    "ExecuteTime": {
     "end_time": "2019-03-23T14:07:38.748352Z",
     "start_time": "2019-03-23T14:07:34.212891Z"
    }
   },
   "outputs": [],
   "source": [
    "yelp_trainer = YelpTrainer(classifier, optimizer, loss_func, train_dl, val_dl, args, pbar, metrics)"
   ]
  },
  {
   "cell_type": "code",
   "execution_count": 13,
   "metadata": {
    "ExecuteTime": {
     "end_time": "2019-03-23T14:20:59.362013Z",
     "start_time": "2019-03-23T14:07:38.750648Z"
    },
    "scrolled": true
   },
   "outputs": [
    {
     "name": "stderr",
     "output_type": "stream",
     "text": [
      "Epoch [1/100]: [38/38] 100%|██████████, loss=6.48e-01 [00:06<00:00]\n",
      "Epoch [2/100]: [0/38]   0%|          , loss=5.57e-01 [00:00<?]"
     ]
    },
    {
     "name": "stdout",
     "output_type": "stream",
     "text": [
      "Epoch: 1\n",
      "Training - Loss: 0.552, Accuracy: 0.839\n",
      "Validation - Loss: 0.559, Accuracy: 0.829\n"
     ]
    },
    {
     "name": "stderr",
     "output_type": "stream",
     "text": [
      "Epoch [2/100]: [38/38] 100%|██████████, loss=5.31e-01 [00:06<00:00]\n",
      "Epoch [3/100]: [0/38]   0%|          , loss=4.74e-01 [00:00<?]"
     ]
    },
    {
     "name": "stdout",
     "output_type": "stream",
     "text": [
      "Epoch: 2\n",
      "Training - Loss: 0.477, Accuracy: 0.857\n",
      "Validation - Loss: 0.487, Accuracy: 0.846\n"
     ]
    },
    {
     "name": "stderr",
     "output_type": "stream",
     "text": [
      "Epoch [3/100]: [38/38] 100%|██████████, loss=4.62e-01 [00:06<00:00]\n",
      "Epoch [4/100]: [0/38]   0%|          , loss=4.34e-01 [00:00<?]"
     ]
    },
    {
     "name": "stdout",
     "output_type": "stream",
     "text": [
      "Epoch: 3\n",
      "Training - Loss: 0.429, Accuracy: 0.874\n",
      "Validation - Loss: 0.441, Accuracy: 0.860\n"
     ]
    },
    {
     "name": "stderr",
     "output_type": "stream",
     "text": [
      "Epoch [4/100]: [38/38] 100%|██████████, loss=4.21e-01 [00:06<00:00]\n",
      "Epoch [5/100]: [0/38]   0%|          , loss=3.92e-01 [00:00<?]"
     ]
    },
    {
     "name": "stdout",
     "output_type": "stream",
     "text": [
      "Epoch: 4\n",
      "Training - Loss: 0.394, Accuracy: 0.885\n",
      "Validation - Loss: 0.408, Accuracy: 0.874\n"
     ]
    },
    {
     "name": "stderr",
     "output_type": "stream",
     "text": [
      "Epoch [5/100]: [38/38] 100%|██████████, loss=3.86e-01 [00:06<00:00]\n",
      "Epoch [6/100]: [0/38]   0%|          , loss=3.55e-01 [00:00<?]"
     ]
    },
    {
     "name": "stdout",
     "output_type": "stream",
     "text": [
      "Epoch: 5\n",
      "Training - Loss: 0.367, Accuracy: 0.892\n",
      "Validation - Loss: 0.382, Accuracy: 0.883\n"
     ]
    },
    {
     "name": "stderr",
     "output_type": "stream",
     "text": [
      "Epoch [6/100]: [38/38] 100%|██████████, loss=3.55e-01 [00:06<00:00]\n"
     ]
    },
    {
     "name": "stdout",
     "output_type": "stream",
     "text": [
      "Epoch: 6\n",
      "Training - Loss: 0.345, Accuracy: 0.901\n",
      "Validation - Loss: 0.361, Accuracy: 0.890\n"
     ]
    },
    {
     "name": "stderr",
     "output_type": "stream",
     "text": [
      "Epoch [7/100]: [38/38] 100%|██████████, loss=3.39e-01 [00:06<00:00]\n",
      "Epoch [8/100]: [0/38]   0%|          , loss=3.36e-01 [00:00<?]"
     ]
    },
    {
     "name": "stdout",
     "output_type": "stream",
     "text": [
      "Epoch: 7\n",
      "Training - Loss: 0.327, Accuracy: 0.905\n",
      "Validation - Loss: 0.345, Accuracy: 0.893\n"
     ]
    },
    {
     "name": "stderr",
     "output_type": "stream",
     "text": [
      "Epoch [8/100]: [38/38] 100%|██████████, loss=3.27e-01 [00:06<00:00]\n",
      "Epoch [9/100]: [0/38]   0%|          , loss=3.23e-01 [00:00<?]"
     ]
    },
    {
     "name": "stdout",
     "output_type": "stream",
     "text": [
      "Epoch: 8\n",
      "Training - Loss: 0.312, Accuracy: 0.910\n",
      "Validation - Loss: 0.331, Accuracy: 0.898\n"
     ]
    },
    {
     "name": "stderr",
     "output_type": "stream",
     "text": [
      "Epoch [9/100]: [38/38] 100%|██████████, loss=3.14e-01 [00:06<00:00]\n",
      "Epoch [10/100]: [0/38]   0%|          , loss=3.23e-01 [00:00<?]"
     ]
    },
    {
     "name": "stdout",
     "output_type": "stream",
     "text": [
      "Epoch: 9\n",
      "Training - Loss: 0.299, Accuracy: 0.913\n",
      "Validation - Loss: 0.319, Accuracy: 0.900\n"
     ]
    },
    {
     "name": "stderr",
     "output_type": "stream",
     "text": [
      "Epoch [10/100]: [38/38] 100%|██████████, loss=3.07e-01 [00:06<00:00]\n",
      "Epoch [11/100]: [0/38]   0%|          , loss=2.88e-01 [00:00<?]"
     ]
    },
    {
     "name": "stdout",
     "output_type": "stream",
     "text": [
      "Epoch: 10\n",
      "Training - Loss: 0.288, Accuracy: 0.916\n",
      "Validation - Loss: 0.309, Accuracy: 0.902\n"
     ]
    },
    {
     "name": "stderr",
     "output_type": "stream",
     "text": [
      "Epoch [11/100]: [38/38] 100%|██████████, loss=2.85e-01 [00:06<00:00]\n",
      "Epoch [12/100]: [0/38]   0%|          , loss=2.84e-01 [00:00<?]"
     ]
    },
    {
     "name": "stdout",
     "output_type": "stream",
     "text": [
      "Epoch: 11\n",
      "Training - Loss: 0.278, Accuracy: 0.918\n",
      "Validation - Loss: 0.301, Accuracy: 0.902\n"
     ]
    },
    {
     "name": "stderr",
     "output_type": "stream",
     "text": [
      "Epoch [12/100]: [38/38] 100%|██████████, loss=2.78e-01 [00:06<00:00]\n",
      "Epoch [13/100]: [0/38]   0%|          , loss=2.72e-01 [00:00<?]"
     ]
    },
    {
     "name": "stdout",
     "output_type": "stream",
     "text": [
      "Epoch: 12\n",
      "Training - Loss: 0.269, Accuracy: 0.921\n",
      "Validation - Loss: 0.293, Accuracy: 0.906\n"
     ]
    },
    {
     "name": "stderr",
     "output_type": "stream",
     "text": [
      "Epoch [13/100]: [38/38] 100%|██████████, loss=2.69e-01 [00:06<00:00]\n",
      "Epoch [14/100]: [0/38]   0%|          , loss=2.70e-01 [00:00<?]"
     ]
    },
    {
     "name": "stdout",
     "output_type": "stream",
     "text": [
      "Epoch: 13\n",
      "Training - Loss: 0.261, Accuracy: 0.922\n",
      "Validation - Loss: 0.285, Accuracy: 0.907\n"
     ]
    },
    {
     "name": "stderr",
     "output_type": "stream",
     "text": [
      "Epoch [14/100]: [38/38] 100%|██████████, loss=2.64e-01 [00:06<00:00]\n",
      "Epoch [15/100]: [0/38]   0%|          , loss=2.73e-01 [00:00<?]"
     ]
    },
    {
     "name": "stdout",
     "output_type": "stream",
     "text": [
      "Epoch: 14\n",
      "Training - Loss: 0.254, Accuracy: 0.924\n",
      "Validation - Loss: 0.280, Accuracy: 0.908\n"
     ]
    },
    {
     "name": "stderr",
     "output_type": "stream",
     "text": [
      "Epoch [15/100]: [38/38] 100%|██████████, loss=2.62e-01 [00:06<00:00]\n",
      "Epoch [16/100]: [0/38]   0%|          , loss=2.46e-01 [00:00<?]"
     ]
    },
    {
     "name": "stdout",
     "output_type": "stream",
     "text": [
      "Epoch: 15\n",
      "Training - Loss: 0.248, Accuracy: 0.925\n",
      "Validation - Loss: 0.275, Accuracy: 0.908\n"
     ]
    },
    {
     "name": "stderr",
     "output_type": "stream",
     "text": [
      "Epoch [16/100]: [38/38] 100%|██████████, loss=2.46e-01 [00:06<00:00]\n"
     ]
    },
    {
     "name": "stdout",
     "output_type": "stream",
     "text": [
      "Epoch: 16\n",
      "Training - Loss: 0.242, Accuracy: 0.927\n",
      "Validation - Loss: 0.270, Accuracy: 0.909\n"
     ]
    },
    {
     "name": "stderr",
     "output_type": "stream",
     "text": [
      "Epoch [17/100]: [38/38] 100%|██████████, loss=2.45e-01 [00:06<00:00]\n",
      "Epoch [18/100]: [0/38]   0%|          , loss=2.42e-01 [00:00<?]"
     ]
    },
    {
     "name": "stdout",
     "output_type": "stream",
     "text": [
      "Epoch: 17\n",
      "Training - Loss: 0.237, Accuracy: 0.928\n",
      "Validation - Loss: 0.264, Accuracy: 0.910\n"
     ]
    },
    {
     "name": "stderr",
     "output_type": "stream",
     "text": [
      "Epoch [18/100]: [38/38] 100%|██████████, loss=2.38e-01 [00:06<00:00]\n",
      "Epoch [19/100]: [0/38]   0%|          , loss=2.21e-01 [00:00<?]"
     ]
    },
    {
     "name": "stdout",
     "output_type": "stream",
     "text": [
      "Epoch: 18\n",
      "Training - Loss: 0.232, Accuracy: 0.929\n",
      "Validation - Loss: 0.261, Accuracy: 0.911\n"
     ]
    },
    {
     "name": "stderr",
     "output_type": "stream",
     "text": [
      "Epoch [19/100]: [38/38] 100%|██████████, loss=2.26e-01 [00:06<00:00]\n",
      "Epoch [20/100]: [0/38]   0%|          , loss=2.34e-01 [00:00<?]"
     ]
    },
    {
     "name": "stdout",
     "output_type": "stream",
     "text": [
      "Epoch: 19\n",
      "Training - Loss: 0.227, Accuracy: 0.931\n",
      "Validation - Loss: 0.256, Accuracy: 0.912\n"
     ]
    },
    {
     "name": "stderr",
     "output_type": "stream",
     "text": [
      "Epoch [20/100]: [38/38] 100%|██████████, loss=2.29e-01 [00:06<00:00]\n",
      "Epoch [21/100]: [0/38]   0%|          , loss=2.10e-01 [00:00<?]"
     ]
    },
    {
     "name": "stdout",
     "output_type": "stream",
     "text": [
      "Epoch: 20\n",
      "Training - Loss: 0.223, Accuracy: 0.932\n",
      "Validation - Loss: 0.254, Accuracy: 0.912\n"
     ]
    },
    {
     "name": "stderr",
     "output_type": "stream",
     "text": [
      "Epoch [21/100]: [38/38] 100%|██████████, loss=2.16e-01 [00:06<00:00]\n",
      "Epoch [22/100]: [0/38]   0%|          , loss=2.17e-01 [00:00<?]"
     ]
    },
    {
     "name": "stdout",
     "output_type": "stream",
     "text": [
      "Epoch: 21\n",
      "Training - Loss: 0.218, Accuracy: 0.933\n",
      "Validation - Loss: 0.251, Accuracy: 0.912\n"
     ]
    },
    {
     "name": "stderr",
     "output_type": "stream",
     "text": [
      "Epoch [22/100]: [38/38] 100%|██████████, loss=2.17e-01 [00:06<00:00]\n",
      "Epoch [23/100]: [0/38]   0%|          , loss=2.11e-01 [00:00<?]"
     ]
    },
    {
     "name": "stdout",
     "output_type": "stream",
     "text": [
      "Epoch: 22\n",
      "Training - Loss: 0.215, Accuracy: 0.934\n",
      "Validation - Loss: 0.247, Accuracy: 0.913\n"
     ]
    },
    {
     "name": "stderr",
     "output_type": "stream",
     "text": [
      "Epoch [23/100]: [38/38] 100%|██████████, loss=2.12e-01 [00:06<00:00]\n",
      "Epoch [24/100]: [0/38]   0%|          , loss=1.97e-01 [00:00<?]"
     ]
    },
    {
     "name": "stdout",
     "output_type": "stream",
     "text": [
      "Epoch: 23\n",
      "Training - Loss: 0.211, Accuracy: 0.935\n",
      "Validation - Loss: 0.246, Accuracy: 0.912\n"
     ]
    },
    {
     "name": "stderr",
     "output_type": "stream",
     "text": [
      "Epoch [24/100]: [38/38] 100%|██████████, loss=2.04e-01 [00:06<00:00]\n",
      "Epoch [25/100]: [0/38]   0%|          , loss=2.01e-01 [00:00<?]"
     ]
    },
    {
     "name": "stdout",
     "output_type": "stream",
     "text": [
      "Epoch: 24\n",
      "Training - Loss: 0.208, Accuracy: 0.936\n",
      "Validation - Loss: 0.243, Accuracy: 0.914\n"
     ]
    },
    {
     "name": "stderr",
     "output_type": "stream",
     "text": [
      "Epoch [25/100]: [38/38] 100%|██████████, loss=2.04e-01 [00:06<00:00]\n",
      "Epoch [26/100]: [0/38]   0%|          , loss=2.00e-01 [00:00<?]"
     ]
    },
    {
     "name": "stdout",
     "output_type": "stream",
     "text": [
      "Epoch: 25\n",
      "Training - Loss: 0.204, Accuracy: 0.937\n",
      "Validation - Loss: 0.241, Accuracy: 0.915\n"
     ]
    },
    {
     "name": "stderr",
     "output_type": "stream",
     "text": [
      "Epoch [26/100]: [38/38] 100%|██████████, loss=2.02e-01 [00:06<00:00]\n",
      "Epoch [27/100]: [0/38]   0%|          , loss=2.14e-01 [00:00<?]"
     ]
    },
    {
     "name": "stdout",
     "output_type": "stream",
     "text": [
      "Epoch: 26\n",
      "Training - Loss: 0.201, Accuracy: 0.938\n",
      "Validation - Loss: 0.238, Accuracy: 0.915\n"
     ]
    },
    {
     "name": "stderr",
     "output_type": "stream",
     "text": [
      "Epoch [27/100]: [38/38] 100%|██████████, loss=2.07e-01 [00:06<00:00]\n",
      "Epoch [28/100]: [0/38]   0%|          , loss=1.91e-01 [00:00<?]"
     ]
    },
    {
     "name": "stdout",
     "output_type": "stream",
     "text": [
      "Epoch: 27\n",
      "Training - Loss: 0.198, Accuracy: 0.939\n",
      "Validation - Loss: 0.236, Accuracy: 0.916\n"
     ]
    },
    {
     "name": "stderr",
     "output_type": "stream",
     "text": [
      "Epoch [28/100]: [38/38] 100%|██████████, loss=1.94e-01 [00:06<00:00]\n",
      "Epoch [29/100]: [0/38]   0%|          , loss=1.90e-01 [00:00<?]"
     ]
    },
    {
     "name": "stdout",
     "output_type": "stream",
     "text": [
      "Epoch: 28\n",
      "Training - Loss: 0.196, Accuracy: 0.939\n",
      "Validation - Loss: 0.235, Accuracy: 0.916\n"
     ]
    },
    {
     "name": "stderr",
     "output_type": "stream",
     "text": [
      "Epoch [29/100]: [38/38] 100%|██████████, loss=1.93e-01 [00:06<00:00]\n",
      "Epoch [30/100]: [0/38]   0%|          , loss=1.92e-01 [00:00<?]"
     ]
    },
    {
     "name": "stdout",
     "output_type": "stream",
     "text": [
      "Epoch: 29\n",
      "Training - Loss: 0.193, Accuracy: 0.940\n",
      "Validation - Loss: 0.232, Accuracy: 0.917\n"
     ]
    },
    {
     "name": "stderr",
     "output_type": "stream",
     "text": [
      "Epoch [30/100]: [38/38] 100%|██████████, loss=1.92e-01 [00:06<00:00]\n",
      "Epoch [31/100]: [0/38]   0%|          , loss=1.84e-01 [00:00<?]"
     ]
    },
    {
     "name": "stdout",
     "output_type": "stream",
     "text": [
      "Epoch: 30\n",
      "Training - Loss: 0.190, Accuracy: 0.941\n",
      "Validation - Loss: 0.229, Accuracy: 0.918\n"
     ]
    },
    {
     "name": "stderr",
     "output_type": "stream",
     "text": [
      "Epoch [31/100]: [38/38] 100%|██████████, loss=1.87e-01 [00:06<00:00]\n",
      "Epoch [32/100]: [0/38]   0%|          , loss=1.83e-01 [00:00<?]"
     ]
    },
    {
     "name": "stdout",
     "output_type": "stream",
     "text": [
      "Epoch: 31\n",
      "Training - Loss: 0.188, Accuracy: 0.941\n",
      "Validation - Loss: 0.228, Accuracy: 0.919\n"
     ]
    },
    {
     "name": "stderr",
     "output_type": "stream",
     "text": [
      "Epoch [32/100]: [38/38] 100%|██████████, loss=1.86e-01 [00:06<00:00]\n",
      "Epoch [33/100]: [0/38]   0%|          , loss=1.95e-01 [00:00<?]"
     ]
    },
    {
     "name": "stdout",
     "output_type": "stream",
     "text": [
      "Epoch: 32\n",
      "Training - Loss: 0.186, Accuracy: 0.942\n",
      "Validation - Loss: 0.226, Accuracy: 0.919\n"
     ]
    },
    {
     "name": "stderr",
     "output_type": "stream",
     "text": [
      "Epoch [33/100]: [38/38] 100%|██████████, loss=1.90e-01 [00:06<00:00]\n",
      "Epoch [34/100]: [0/38]   0%|          , loss=1.70e-01 [00:00<?]"
     ]
    },
    {
     "name": "stdout",
     "output_type": "stream",
     "text": [
      "Epoch: 33\n",
      "Training - Loss: 0.184, Accuracy: 0.942\n",
      "Validation - Loss: 0.226, Accuracy: 0.920\n"
     ]
    },
    {
     "name": "stderr",
     "output_type": "stream",
     "text": [
      "Epoch [34/100]: [38/38] 100%|██████████, loss=1.77e-01 [00:06<00:00]\n",
      "Epoch [35/100]: [0/38]   0%|          , loss=1.98e-01 [00:00<?]"
     ]
    },
    {
     "name": "stdout",
     "output_type": "stream",
     "text": [
      "Epoch: 34\n",
      "Training - Loss: 0.182, Accuracy: 0.943\n",
      "Validation - Loss: 0.225, Accuracy: 0.918\n"
     ]
    },
    {
     "name": "stderr",
     "output_type": "stream",
     "text": [
      "Epoch [35/100]: [38/38] 100%|██████████, loss=1.89e-01 [00:06<00:00]\n",
      "Epoch [36/100]: [0/38]   0%|          , loss=1.95e-01 [00:00<?]"
     ]
    },
    {
     "name": "stdout",
     "output_type": "stream",
     "text": [
      "Epoch: 35\n",
      "Training - Loss: 0.180, Accuracy: 0.944\n",
      "Validation - Loss: 0.223, Accuracy: 0.920\n"
     ]
    },
    {
     "name": "stderr",
     "output_type": "stream",
     "text": [
      "Epoch [36/100]: [38/38] 100%|██████████, loss=1.87e-01 [00:06<00:00]\n",
      "Epoch [37/100]: [0/38]   0%|          , loss=1.71e-01 [00:00<?]"
     ]
    },
    {
     "name": "stdout",
     "output_type": "stream",
     "text": [
      "Epoch: 36\n",
      "Training - Loss: 0.178, Accuracy: 0.944\n",
      "Validation - Loss: 0.223, Accuracy: 0.920\n"
     ]
    },
    {
     "name": "stderr",
     "output_type": "stream",
     "text": [
      "Epoch [37/100]: [38/38] 100%|██████████, loss=1.74e-01 [00:06<00:00]\n",
      "Epoch [38/100]: [0/38]   0%|          , loss=1.78e-01 [00:00<?]"
     ]
    },
    {
     "name": "stdout",
     "output_type": "stream",
     "text": [
      "Epoch: 37\n",
      "Training - Loss: 0.176, Accuracy: 0.945\n",
      "Validation - Loss: 0.221, Accuracy: 0.920\n"
     ]
    },
    {
     "name": "stderr",
     "output_type": "stream",
     "text": [
      "Epoch [38/100]: [38/38] 100%|██████████, loss=1.76e-01 [00:06<00:00]\n",
      "Epoch [39/100]: [0/38]   0%|          , loss=1.72e-01 [00:00<?]"
     ]
    },
    {
     "name": "stdout",
     "output_type": "stream",
     "text": [
      "Epoch: 38\n",
      "Training - Loss: 0.174, Accuracy: 0.945\n",
      "Validation - Loss: 0.220, Accuracy: 0.920\n"
     ]
    },
    {
     "name": "stderr",
     "output_type": "stream",
     "text": [
      "Epoch [39/100]: [38/38] 100%|██████████, loss=1.73e-01 [00:06<00:00]\n",
      "Epoch [40/100]: [0/38]   0%|          , loss=1.67e-01 [00:00<?]"
     ]
    },
    {
     "name": "stdout",
     "output_type": "stream",
     "text": [
      "Epoch: 39\n",
      "Training - Loss: 0.172, Accuracy: 0.945\n",
      "Validation - Loss: 0.220, Accuracy: 0.920\n"
     ]
    },
    {
     "name": "stderr",
     "output_type": "stream",
     "text": [
      "Epoch [40/100]: [38/38] 100%|██████████, loss=1.70e-01 [00:06<00:00]\n",
      "Epoch [41/100]: [0/38]   0%|          , loss=1.72e-01 [00:00<?]"
     ]
    },
    {
     "name": "stdout",
     "output_type": "stream",
     "text": [
      "Epoch: 40\n",
      "Training - Loss: 0.170, Accuracy: 0.946\n",
      "Validation - Loss: 0.219, Accuracy: 0.921\n"
     ]
    },
    {
     "name": "stderr",
     "output_type": "stream",
     "text": [
      "Epoch [41/100]: [38/38] 100%|██████████, loss=1.71e-01 [00:06<00:00]\n",
      "Epoch [42/100]: [0/38]   0%|          , loss=1.64e-01 [00:00<?]"
     ]
    },
    {
     "name": "stdout",
     "output_type": "stream",
     "text": [
      "Epoch: 41\n",
      "Training - Loss: 0.169, Accuracy: 0.946\n",
      "Validation - Loss: 0.219, Accuracy: 0.921\n"
     ]
    },
    {
     "name": "stderr",
     "output_type": "stream",
     "text": [
      "Epoch [42/100]: [38/38] 100%|██████████, loss=1.66e-01 [00:06<00:00]\n",
      "Epoch [43/100]: [0/38]   0%|          , loss=1.63e-01 [00:00<?]"
     ]
    },
    {
     "name": "stdout",
     "output_type": "stream",
     "text": [
      "Epoch: 42\n",
      "Training - Loss: 0.167, Accuracy: 0.947\n",
      "Validation - Loss: 0.216, Accuracy: 0.922\n"
     ]
    },
    {
     "name": "stderr",
     "output_type": "stream",
     "text": [
      "Epoch [43/100]: [38/38] 100%|██████████, loss=1.66e-01 [00:06<00:00]\n",
      "Epoch [44/100]: [0/38]   0%|          , loss=1.61e-01 [00:00<?]"
     ]
    },
    {
     "name": "stdout",
     "output_type": "stream",
     "text": [
      "Epoch: 43\n",
      "Training - Loss: 0.166, Accuracy: 0.947\n",
      "Validation - Loss: 0.216, Accuracy: 0.920\n"
     ]
    },
    {
     "name": "stderr",
     "output_type": "stream",
     "text": [
      "Epoch [44/100]: [38/38] 100%|██████████, loss=1.63e-01 [00:06<00:00]\n",
      "Epoch [45/100]: [0/38]   0%|          , loss=1.74e-01 [00:00<?]"
     ]
    },
    {
     "name": "stdout",
     "output_type": "stream",
     "text": [
      "Epoch: 44\n",
      "Training - Loss: 0.164, Accuracy: 0.947\n",
      "Validation - Loss: 0.216, Accuracy: 0.922\n"
     ]
    },
    {
     "name": "stderr",
     "output_type": "stream",
     "text": [
      "Epoch [45/100]: [38/38] 100%|██████████, loss=1.69e-01 [00:06<00:00]\n",
      "Epoch [46/100]: [0/38]   0%|          , loss=1.56e-01 [00:00<?]"
     ]
    },
    {
     "name": "stdout",
     "output_type": "stream",
     "text": [
      "Epoch: 45\n",
      "Training - Loss: 0.163, Accuracy: 0.948\n",
      "Validation - Loss: 0.215, Accuracy: 0.921\n"
     ]
    },
    {
     "name": "stderr",
     "output_type": "stream",
     "text": [
      "Epoch [46/100]: [38/38] 100%|██████████, loss=1.60e-01 [00:06<00:00]\n",
      "Epoch [47/100]: [0/38]   0%|          , loss=1.79e-01 [00:00<?]"
     ]
    },
    {
     "name": "stdout",
     "output_type": "stream",
     "text": [
      "Epoch: 46\n",
      "Training - Loss: 0.161, Accuracy: 0.948\n",
      "Validation - Loss: 0.213, Accuracy: 0.922\n"
     ]
    },
    {
     "name": "stderr",
     "output_type": "stream",
     "text": [
      "Epoch [47/100]: [38/38] 100%|██████████, loss=1.70e-01 [00:06<00:00]\n",
      "Epoch [48/100]: [0/38]   0%|          , loss=1.49e-01 [00:00<?]"
     ]
    },
    {
     "name": "stdout",
     "output_type": "stream",
     "text": [
      "Epoch: 47\n",
      "Training - Loss: 0.160, Accuracy: 0.949\n",
      "Validation - Loss: 0.214, Accuracy: 0.922\n"
     ]
    },
    {
     "name": "stderr",
     "output_type": "stream",
     "text": [
      "Epoch [48/100]: [38/38] 100%|██████████, loss=1.55e-01 [00:06<00:00]\n",
      "Epoch [49/100]: [0/38]   0%|          , loss=1.40e-01 [00:00<?]"
     ]
    },
    {
     "name": "stdout",
     "output_type": "stream",
     "text": [
      "Epoch: 48\n",
      "Training - Loss: 0.159, Accuracy: 0.949\n",
      "Validation - Loss: 0.213, Accuracy: 0.922\n"
     ]
    },
    {
     "name": "stderr",
     "output_type": "stream",
     "text": [
      "Epoch [49/100]: [38/38] 100%|██████████, loss=1.50e-01 [00:06<00:00]\n",
      "Epoch [50/100]: [0/38]   0%|          , loss=1.59e-01 [00:00<?]"
     ]
    },
    {
     "name": "stdout",
     "output_type": "stream",
     "text": [
      "Epoch: 49\n",
      "Training - Loss: 0.157, Accuracy: 0.949\n",
      "Validation - Loss: 0.213, Accuracy: 0.921\n"
     ]
    },
    {
     "name": "stderr",
     "output_type": "stream",
     "text": [
      "Epoch [50/100]: [38/38] 100%|██████████, loss=1.58e-01 [00:06<00:00]\n",
      "Epoch [51/100]: [0/38]   0%|          , loss=1.58e-01 [00:00<?]"
     ]
    },
    {
     "name": "stdout",
     "output_type": "stream",
     "text": [
      "Epoch: 50\n",
      "Training - Loss: 0.156, Accuracy: 0.950\n",
      "Validation - Loss: 0.210, Accuracy: 0.924\n"
     ]
    },
    {
     "name": "stderr",
     "output_type": "stream",
     "text": [
      "Epoch [51/100]: [38/38] 100%|██████████, loss=1.57e-01 [00:06<00:00]\n",
      "Epoch [52/100]: [0/38]   0%|          , loss=1.83e-01 [00:00<?]"
     ]
    },
    {
     "name": "stdout",
     "output_type": "stream",
     "text": [
      "Epoch: 51\n",
      "Training - Loss: 0.155, Accuracy: 0.950\n",
      "Validation - Loss: 0.213, Accuracy: 0.921\n"
     ]
    },
    {
     "name": "stderr",
     "output_type": "stream",
     "text": [
      "Epoch [52/100]: [38/38] 100%|██████████, loss=1.68e-01 [00:06<00:00]\n",
      "Epoch [53/100]: [0/38]   0%|          , loss=1.52e-01 [00:00<?]"
     ]
    },
    {
     "name": "stdout",
     "output_type": "stream",
     "text": [
      "Epoch: 52\n",
      "Training - Loss: 0.154, Accuracy: 0.950\n",
      "Validation - Loss: 0.210, Accuracy: 0.922\n"
     ]
    },
    {
     "name": "stderr",
     "output_type": "stream",
     "text": [
      "Epoch [53/100]: [38/38] 100%|██████████, loss=1.53e-01 [00:06<00:00]\n",
      "Epoch [54/100]: [0/38]   0%|          , loss=1.57e-01 [00:00<?]"
     ]
    },
    {
     "name": "stdout",
     "output_type": "stream",
     "text": [
      "Epoch: 53\n",
      "Training - Loss: 0.153, Accuracy: 0.951\n",
      "Validation - Loss: 0.211, Accuracy: 0.921\n"
     ]
    },
    {
     "name": "stderr",
     "output_type": "stream",
     "text": [
      "Epoch [54/100]: [38/38] 100%|██████████, loss=1.55e-01 [00:06<00:00]\n",
      "Epoch [55/100]: [0/38]   0%|          , loss=1.47e-01 [00:00<?]"
     ]
    },
    {
     "name": "stdout",
     "output_type": "stream",
     "text": [
      "Epoch: 54\n",
      "Training - Loss: 0.152, Accuracy: 0.951\n",
      "Validation - Loss: 0.211, Accuracy: 0.921\n"
     ]
    },
    {
     "name": "stderr",
     "output_type": "stream",
     "text": [
      "Epoch [55/100]: [38/38] 100%|██████████, loss=1.50e-01 [00:06<00:00]\n"
     ]
    },
    {
     "name": "stdout",
     "output_type": "stream",
     "text": [
      "Epoch: 55\n",
      "Training - Loss: 0.150, Accuracy: 0.951\n",
      "Validation - Loss: 0.210, Accuracy: 0.921\n"
     ]
    }
   ],
   "source": [
    "yelp_trainer.run()"
   ]
  }
 ],
 "metadata": {
  "kernelspec": {
   "display_name": "Python 3",
   "language": "python",
   "name": "python3"
  },
  "language_info": {
   "codemirror_mode": {
    "name": "ipython",
    "version": 3
   },
   "file_extension": ".py",
   "mimetype": "text/x-python",
   "name": "python",
   "nbconvert_exporter": "python",
   "pygments_lexer": "ipython3",
   "version": "3.7.2"
  },
  "toc": {
   "base_numbering": 1,
   "nav_menu": {},
   "number_sections": true,
   "sideBar": true,
   "skip_h1_title": false,
   "title_cell": "Table of Contents",
   "title_sidebar": "Contents",
   "toc_cell": false,
   "toc_position": {},
   "toc_section_display": true,
   "toc_window_display": false
  }
 },
 "nbformat": 4,
 "nbformat_minor": 2
}
