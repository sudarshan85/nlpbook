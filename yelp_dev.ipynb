{
 "cells": [
  {
   "cell_type": "code",
   "execution_count": null,
   "metadata": {
    "ExecuteTime": {
     "end_time": "2019-03-22T02:12:20.866697Z",
     "start_time": "2019-03-22T02:12:20.785842Z"
    }
   },
   "outputs": [],
   "source": [
    "%load_ext autoreload\n",
    "%autoreload 2"
   ]
  },
  {
   "cell_type": "code",
   "execution_count": null,
   "metadata": {
    "ExecuteTime": {
     "end_time": "2019-03-22T02:12:21.864726Z",
     "start_time": "2019-03-22T02:12:20.867983Z"
    }
   },
   "outputs": [],
   "source": [
    "import pandas as pd\n",
    "import numpy as np\n",
    "import torch\n",
    "import pdb\n",
    "\n",
    "from pathlib import Path\n",
    "from torch import nn\n",
    "from torch.nn import functional as F\n",
    "from torch import optim\n",
    "from torch.utils.data import DataLoader\n",
    "from torch.utils.data import Dataset\n",
    "\n",
    "from yelp.dataset import ProjectDataset"
   ]
  },
  {
   "cell_type": "code",
   "execution_count": null,
   "metadata": {
    "ExecuteTime": {
     "end_time": "2019-03-22T02:12:21.910660Z",
     "start_time": "2019-03-22T02:12:21.866056Z"
    }
   },
   "outputs": [],
   "source": [
    "from ignite.engine import Events, create_supervised_trainer, create_supervised_evaluator\n",
    "from ignite.metrics import Accuracy, Loss\n",
    "from ignite.contrib.handlers import ProgressBar"
   ]
  },
  {
   "cell_type": "code",
   "execution_count": null,
   "metadata": {
    "ExecuteTime": {
     "end_time": "2019-03-22T02:12:21.924987Z",
     "start_time": "2019-03-22T02:12:21.911979Z"
    }
   },
   "outputs": [],
   "source": [
    "def set_all_seed(seed, cuda):\n",
    "  np.random.seed(seed)\n",
    "  torch.manual_seed(seed)\n",
    "  if cuda:\n",
    "    torch.cuda.manual_seed(seed)"
   ]
  },
  {
   "cell_type": "code",
   "execution_count": null,
   "metadata": {
    "ExecuteTime": {
     "end_time": "2019-03-22T02:12:21.938443Z",
     "start_time": "2019-03-22T02:12:21.926288Z"
    }
   },
   "outputs": [],
   "source": [
    "path = Path('./data/yelp')\n",
    "review_csv = path/'reviews_with_splits_lite.csv'\n",
    "scratch = path/'scratch'\n",
    "vectorizer_path = scratch/'vectorizer.json'"
   ]
  },
  {
   "cell_type": "code",
   "execution_count": null,
   "metadata": {
    "ExecuteTime": {
     "end_time": "2019-03-22T02:12:21.950787Z",
     "start_time": "2019-03-22T02:12:21.939472Z"
    }
   },
   "outputs": [],
   "source": [
    "# dataset = ProjectDataset.load_data_and_create_vectorizer(review_csv)\n",
    "# dataset.save_vectorizer(vectorizer_path)"
   ]
  },
  {
   "cell_type": "code",
   "execution_count": null,
   "metadata": {
    "ExecuteTime": {
     "end_time": "2019-03-22T02:14:04.259433Z",
     "start_time": "2019-03-22T02:14:03.794932Z"
    }
   },
   "outputs": [],
   "source": [
    "dataset = ProjectDataset.load_data_and_vectorizer(review_csv, vectorizer_path)\n",
    "vectorizer = dataset.get_vectorizer()\n",
    "\n",
    "dataset.set_split('train')\n",
    "train_dl = DataLoader(dataset, batch_size=128, shuffle=True, drop_last=True)\n",
    "dataset.set_split('val')\n",
    "val_dl = DataLoader(dataset, batch_size=128, shuffle=True, drop_last=True)"
   ]
  },
  {
   "cell_type": "code",
   "execution_count": null,
   "metadata": {
    "ExecuteTime": {
     "end_time": "2019-03-22T02:14:04.276622Z",
     "start_time": "2019-03-22T02:14:04.260837Z"
    }
   },
   "outputs": [],
   "source": [
    "class ReviewClassifier(nn.Module):\n",
    "  def __init__(self, num_features):\n",
    "    super(ReviewClassifier, self).__init__()\n",
    "    self.fc1 = nn.Linear(in_features=num_features, out_features=1)\n",
    "    \n",
    "  def forward(self, x_in, apply_sigmoid=False):\n",
    "    y_out = self.fc1(x_in).squeeze(1)\n",
    "    if apply_sigmoid:\n",
    "      y_out = torch.sigmoid(y_out)\n",
    "    return y_out"
   ]
  },
  {
   "cell_type": "code",
   "execution_count": null,
   "metadata": {
    "ExecuteTime": {
     "end_time": "2019-03-22T02:14:04.292046Z",
     "start_time": "2019-03-22T02:14:04.277946Z"
    }
   },
   "outputs": [],
   "source": [
    "classifier = ReviewClassifier(num_features=len(vectorizer.review_vocab))\n",
    "optimizer = optim.Adam(classifier.parameters(), lr=0.001)\n",
    "loss_func = nn.BCEWithLogitsLoss()"
   ]
  },
  {
   "cell_type": "code",
   "execution_count": null,
   "metadata": {
    "ExecuteTime": {
     "end_time": "2019-03-22T02:14:04.305263Z",
     "start_time": "2019-03-22T02:14:04.293165Z"
    }
   },
   "outputs": [],
   "source": [
    "def bce_logits_wrapper(output):\n",
    "    y_pred, y = output\n",
    "    y_pred = (torch.sigmoid(y_pred) > 0.5).long()\n",
    "    return y_pred, y"
   ]
  },
  {
   "cell_type": "code",
   "execution_count": null,
   "metadata": {
    "ExecuteTime": {
     "end_time": "2019-03-22T02:14:04.318866Z",
     "start_time": "2019-03-22T02:14:04.306188Z"
    }
   },
   "outputs": [],
   "source": [
    "trainer = create_supervised_trainer(classifier, optimizer, loss_func, device='cuda:3')\n",
    "evaluator = create_supervised_evaluator(classifier, metrics=\\\n",
    "                                        {'accuracy':Accuracy(bce_logits_wrapper),\\\n",
    "                                         'bce': Loss(loss_func)}, device='cuda:3')"
   ]
  },
  {
   "cell_type": "code",
   "execution_count": null,
   "metadata": {
    "ExecuteTime": {
     "end_time": "2019-03-22T02:14:05.164403Z",
     "start_time": "2019-03-22T02:14:05.152330Z"
    }
   },
   "outputs": [],
   "source": [
    "pbar = ProgressBar(persist=True)\n",
    "pbar.attach(trainer, output_transform=lambda x: {'loss': x})"
   ]
  },
  {
   "cell_type": "code",
   "execution_count": null,
   "metadata": {
    "ExecuteTime": {
     "end_time": "2019-03-22T02:14:06.558128Z",
     "start_time": "2019-03-22T02:14:06.545569Z"
    }
   },
   "outputs": [],
   "source": [
    "@trainer.on(Events.EPOCH_COMPLETED)\n",
    "def log_training_results(engine):\n",
    "  evaluator.run(train_dl)\n",
    "  metrics = evaluator.state.metrics\n",
    "  pbar.log_message(f\"Training Results - Epoch: {engine.state.epoch}\\\n",
    "                    Avg accuracy: {metrics['accuracy']:0.2f}\\\n",
    "                    Avg loss: {metrics['bce']:0.2f}\")"
   ]
  },
  {
   "cell_type": "code",
   "execution_count": null,
   "metadata": {
    "ExecuteTime": {
     "end_time": "2019-03-22T02:14:13.009522Z",
     "start_time": "2019-03-22T02:14:07.257517Z"
    }
   },
   "outputs": [],
   "source": [
    "trainer.run(train_dl, max_epochs=2)"
   ]
  },
  {
   "cell_type": "code",
   "execution_count": null,
   "metadata": {
    "ExecuteTime": {
     "end_time": "2019-03-22T01:50:02.255593Z",
     "start_time": "2019-03-22T01:50:02.243131Z"
    }
   },
   "outputs": [],
   "source": [
    "from ignite.contrib.handlers.param_scheduler import LRScheduler"
   ]
  },
  {
   "cell_type": "code",
   "execution_count": null,
   "metadata": {
    "ExecuteTime": {
     "end_time": "2019-03-21T23:21:37.974916Z",
     "start_time": "2019-03-21T23:21:37.962283Z"
    }
   },
   "outputs": [],
   "source": [
    "itr = iter(train_dl)"
   ]
  },
  {
   "cell_type": "code",
   "execution_count": null,
   "metadata": {
    "ExecuteTime": {
     "end_time": "2019-03-21T23:21:38.012608Z",
     "start_time": "2019-03-21T23:21:37.976056Z"
    }
   },
   "outputs": [],
   "source": [
    "x,y = next(itr)\n",
    "y_pred = classifier(x)\n",
    "loss = loss_func(y_pred, y)"
   ]
  }
 ],
 "metadata": {
  "kernelspec": {
   "display_name": "Python 3",
   "language": "python",
   "name": "python3"
  },
  "language_info": {
   "codemirror_mode": {
    "name": "ipython",
    "version": 3
   },
   "file_extension": ".py",
   "mimetype": "text/x-python",
   "name": "python",
   "nbconvert_exporter": "python",
   "pygments_lexer": "ipython3",
   "version": "3.7.2"
  },
  "toc": {
   "base_numbering": 1,
   "nav_menu": {},
   "number_sections": true,
   "sideBar": true,
   "skip_h1_title": false,
   "title_cell": "Table of Contents",
   "title_sidebar": "Contents",
   "toc_cell": false,
   "toc_position": {},
   "toc_section_display": true,
   "toc_window_display": false
  }
 },
 "nbformat": 4,
 "nbformat_minor": 2
}
