{
 "cells": [
  {
   "cell_type": "markdown",
   "metadata": {
    "toc": true
   },
   "source": [
    "<h1>Table of Contents<span class=\"tocSkip\"></span></h1>\n",
    "<div class=\"toc\"><ul class=\"toc-item\"><li><span><a href=\"#Imports-&amp;-Inits\" data-toc-modified-id=\"Imports-&amp;-Inits-1\"><span class=\"toc-item-num\">1&nbsp;&nbsp;</span>Imports &amp; Inits</a></span></li><li><span><a href=\"#Data-Preparation\" data-toc-modified-id=\"Data-Preparation-2\"><span class=\"toc-item-num\">2&nbsp;&nbsp;</span>Data Preparation</a></span></li><li><span><a href=\"#Model\" data-toc-modified-id=\"Model-3\"><span class=\"toc-item-num\">3&nbsp;&nbsp;</span>Model</a></span></li><li><span><a href=\"#Training\" data-toc-modified-id=\"Training-4\"><span class=\"toc-item-num\">4&nbsp;&nbsp;</span>Training</a></span></li><li><span><a href=\"#Testing\" data-toc-modified-id=\"Testing-5\"><span class=\"toc-item-num\">5&nbsp;&nbsp;</span>Testing</a></span><ul class=\"toc-item\"><li><span><a href=\"#Ignite-Testing\" data-toc-modified-id=\"Ignite-Testing-5.1\"><span class=\"toc-item-num\">5.1&nbsp;&nbsp;</span>Ignite Testing</a></span></li><li><span><a href=\"#NLPBook-Testing\" data-toc-modified-id=\"NLPBook-Testing-5.2\"><span class=\"toc-item-num\">5.2&nbsp;&nbsp;</span>NLPBook Testing</a></span></li></ul></li><li><span><a href=\"#Inference\" data-toc-modified-id=\"Inference-6\"><span class=\"toc-item-num\">6&nbsp;&nbsp;</span>Inference</a></span><ul class=\"toc-item\"><li><span><a href=\"#Single-Inference\" data-toc-modified-id=\"Single-Inference-6.1\"><span class=\"toc-item-num\">6.1&nbsp;&nbsp;</span>Single Inference</a></span></li><li><span><a href=\"#TopK-Inference\" data-toc-modified-id=\"TopK-Inference-6.2\"><span class=\"toc-item-num\">6.2&nbsp;&nbsp;</span>TopK Inference</a></span></li></ul></li></ul></div>"
   ]
  },
  {
   "cell_type": "markdown",
   "metadata": {},
   "source": [
    "# Surname Classifier with MLP\n",
    "\n",
    "Classifying surnames based on national origin."
   ]
  },
  {
   "cell_type": "markdown",
   "metadata": {},
   "source": [
    "## Imports & Inits"
   ]
  },
  {
   "cell_type": "code",
   "execution_count": 1,
   "metadata": {
    "ExecuteTime": {
     "end_time": "2019-03-25T16:53:26.899025Z",
     "start_time": "2019-03-25T16:53:26.886938Z"
    }
   },
   "outputs": [],
   "source": [
    "%load_ext autoreload\n",
    "%autoreload 2"
   ]
  },
  {
   "cell_type": "code",
   "execution_count": 2,
   "metadata": {
    "ExecuteTime": {
     "end_time": "2019-03-25T16:53:27.722478Z",
     "start_time": "2019-03-25T16:53:26.900118Z"
    }
   },
   "outputs": [],
   "source": [
    "import pandas as pd\n",
    "import numpy as np\n",
    "import torch\n",
    "\n",
    "from torch import nn\n",
    "from torch import optim\n",
    "from torch.utils.data import DataLoader\n",
    "from pathlib import Path"
   ]
  },
  {
   "cell_type": "code",
   "execution_count": 3,
   "metadata": {
    "ExecuteTime": {
     "end_time": "2019-03-25T16:53:27.768047Z",
     "start_time": "2019-03-25T16:53:27.724171Z"
    }
   },
   "outputs": [],
   "source": [
    "from ignite.engine import Events, create_supervised_evaluator\n",
    "from ignite.metrics import Accuracy, Loss\n",
    "from ignite.contrib.handlers import ProgressBar"
   ]
  },
  {
   "cell_type": "code",
   "execution_count": 4,
   "metadata": {
    "ExecuteTime": {
     "end_time": "2019-03-25T16:53:27.783355Z",
     "start_time": "2019-03-25T16:53:27.769344Z"
    }
   },
   "outputs": [],
   "source": [
    "from surname.dataset import MLPDataset as ProjectDataset\n",
    "from surname.model import MLPClassifier as Classifier\n",
    "from surname.trainer import Trainer \n",
    "from surname.args import mlp_args as args"
   ]
  },
  {
   "cell_type": "code",
   "execution_count": 5,
   "metadata": {
    "ExecuteTime": {
     "end_time": "2019-03-25T16:53:27.796430Z",
     "start_time": "2019-03-25T16:53:27.784348Z"
    }
   },
   "outputs": [],
   "source": [
    "path = Path('../data/surnames')"
   ]
  },
  {
   "cell_type": "markdown",
   "metadata": {},
   "source": [
    "## Data Preparation"
   ]
  },
  {
   "cell_type": "code",
   "execution_count": 6,
   "metadata": {
    "ExecuteTime": {
     "end_time": "2019-03-25T16:53:27.814146Z",
     "start_time": "2019-03-25T16:53:27.797388Z"
    }
   },
   "outputs": [
    {
     "data": {
      "text/plain": [
       "Namespace(batch_size=64, checkpointer_name='mlp_classifier', checkpointer_prefix='surname', cw_file='class_weights.pt', device='cuda:3', early_stopping_criteria=5, hidden_dim=300, learning_rate=0.001, model_dir='models', num_epochs=100, proc_dataset_csv='surnames_with_splits.csv', raw_dataset_csv='surnames.csv', save_every=2, save_total=5, train_proportion=0.7, vectorizer_fname='mlp_vectorizer.json')"
      ]
     },
     "execution_count": 6,
     "metadata": {},
     "output_type": "execute_result"
    }
   ],
   "source": [
    "work_dir = path/'work_dir'\n",
    "surnames_csv = path/args.proc_dataset_csv\n",
    "vectorizer_path = work_dir/args.vectorizer_fname\n",
    "cw_file = work_dir/args.cw_file\n",
    "\n",
    "args"
   ]
  },
  {
   "cell_type": "code",
   "execution_count": 7,
   "metadata": {
    "ExecuteTime": {
     "end_time": "2019-03-25T16:53:27.838111Z",
     "start_time": "2019-03-25T16:53:27.815149Z"
    }
   },
   "outputs": [
    {
     "data": {
      "text/plain": [
       "10980"
      ]
     },
     "execution_count": 7,
     "metadata": {},
     "output_type": "execute_result"
    }
   ],
   "source": [
    "df = pd.read_csv(surnames_csv)\n",
    "len(df)"
   ]
  },
  {
   "cell_type": "code",
   "execution_count": 8,
   "metadata": {
    "ExecuteTime": {
     "end_time": "2019-03-25T16:53:27.851652Z",
     "start_time": "2019-03-25T16:53:27.839575Z"
    }
   },
   "outputs": [],
   "source": [
    "is_load = True"
   ]
  },
  {
   "cell_type": "code",
   "execution_count": 9,
   "metadata": {
    "ExecuteTime": {
     "end_time": "2019-03-25T16:53:27.866055Z",
     "start_time": "2019-03-25T16:53:27.852868Z"
    }
   },
   "outputs": [],
   "source": [
    "if not is_load:\n",
    "  train_ds = ProjectDataset.load_data_and_create_vectorizer(df.loc[df['split'] == 'train'])\n",
    "  train_ds.save_vectorizer(vectorizer_path)\n",
    "  vectorizer = train_ds.get_vectorizer()\n",
    "  class_counts = df['nationality'].value_counts().to_dict()\n",
    "  sorted_counts = sorted(class_counts.items(), key=lambda x: vectorizer.nationality_vocab.lookup_token(x[0]))\n",
    "  freq = [count for _, count in sorted_counts]\n",
    "  class_weights = 1.0/torch.tensor(freq, dtype=torch.float32)\n",
    "  torch.save(class_weights, cw_file)"
   ]
  },
  {
   "cell_type": "code",
   "execution_count": 10,
   "metadata": {
    "ExecuteTime": {
     "end_time": "2019-03-25T16:53:27.886320Z",
     "start_time": "2019-03-25T16:53:27.867071Z"
    }
   },
   "outputs": [],
   "source": [
    "train_df = df.loc[df['split'] == 'train']\n",
    "train_ds = ProjectDataset.load_data_and_vectorizer(train_df, vectorizer_path)\n",
    "vectorizer = train_ds.get_vectorizer()\n",
    "class_weights = torch.load(cw_file)\n",
    "train_dl = DataLoader(train_ds, args.batch_size, shuffle=True, drop_last=True)\n",
    "\n",
    "val_df = df.loc[df['split'] == 'val']\n",
    "val_ds = ProjectDataset.load_data_and_vectorizer(val_df, vectorizer_path)\n",
    "val_dl = DataLoader(val_ds, args.batch_size, shuffle=True, drop_last=True)\n",
    "\n",
    "data_bundle = {\n",
    "  'train_dl': train_dl,\n",
    "  'val_dl': val_dl\n",
    "}\n",
    "\n",
    "test_df = df.loc[df['split'] == 'test']\n",
    "test_ds = ProjectDataset.load_data_and_vectorizer(test_df, vectorizer_path)\n",
    "test_dl = DataLoader(test_ds, args.batch_size, shuffle=True, drop_last=True)"
   ]
  },
  {
   "cell_type": "code",
   "execution_count": 11,
   "metadata": {
    "ExecuteTime": {
     "end_time": "2019-03-25T16:53:27.899751Z",
     "start_time": "2019-03-25T16:53:27.887241Z"
    }
   },
   "outputs": [
    {
     "data": {
      "text/plain": [
       "(7680, 1640, 1660)"
      ]
     },
     "execution_count": 11,
     "metadata": {},
     "output_type": "execute_result"
    }
   ],
   "source": [
    "len(train_dl.dataset), len(val_dl.dataset), len(test_dl.dataset)"
   ]
  },
  {
   "cell_type": "markdown",
   "metadata": {},
   "source": [
    "## Model"
   ]
  },
  {
   "cell_type": "code",
   "execution_count": 12,
   "metadata": {
    "ExecuteTime": {
     "end_time": "2019-03-25T16:53:33.620247Z",
     "start_time": "2019-03-25T16:53:27.900695Z"
    }
   },
   "outputs": [],
   "source": [
    "classifier = Classifier(input_dim=len(vectorizer.surname_vocab), hidden_dim=args.hidden_dim,\n",
    "                        output_dim=len(vectorizer.nationality_vocab))\n",
    "optimizer = optim.Adam(classifier.parameters(), lr=args.learning_rate)\n",
    "scheduler = optim.lr_scheduler.ReduceLROnPlateau(optimizer=optimizer, mode='min', factor=0.5, patience=1)\n",
    "class_weights = class_weights.to(args.device)\n",
    "loss_func = nn.CrossEntropyLoss(class_weights)"
   ]
  },
  {
   "cell_type": "code",
   "execution_count": 13,
   "metadata": {
    "ExecuteTime": {
     "end_time": "2019-03-25T16:53:33.768432Z",
     "start_time": "2019-03-25T16:53:33.622269Z"
    }
   },
   "outputs": [],
   "source": [
    "model_bundle = {\n",
    "  'module': classifier,\n",
    "  'optimizer' : optimizer,\n",
    "  'scheduler': scheduler,\n",
    "  'loss_fn': loss_func\n",
    "}"
   ]
  },
  {
   "cell_type": "code",
   "execution_count": 14,
   "metadata": {
    "ExecuteTime": {
     "end_time": "2019-03-25T16:53:33.782777Z",
     "start_time": "2019-03-25T16:53:33.769585Z"
    }
   },
   "outputs": [],
   "source": [
    "pbar = ProgressBar(persist=True)\n",
    "metrics = {'accuracy': Accuracy(), 'loss': Loss(loss_func)}"
   ]
  },
  {
   "cell_type": "markdown",
   "metadata": {},
   "source": [
    "## Training"
   ]
  },
  {
   "cell_type": "code",
   "execution_count": 15,
   "metadata": {
    "ExecuteTime": {
     "end_time": "2019-03-25T16:55:08.755953Z",
     "start_time": "2019-03-25T16:53:33.783763Z"
    }
   },
   "outputs": [
    {
     "name": "stderr",
     "output_type": "stream",
     "text": [
      "Epoch [1/100]: [120/120] 100%|██████████, loss=2.73e+00 [00:01<00:00]\n",
      "Epoch [2/100]: [16/120]  13%|█▎        , loss=2.67e+00 [00:00<00:01]"
     ]
    },
    {
     "name": "stdout",
     "output_type": "stream",
     "text": [
      "Epoch: 1\n",
      "Training - Loss: 2.559, Accuracy: 0.405\n",
      "Validation - Loss: 2.587, Accuracy: 0.406\n"
     ]
    },
    {
     "name": "stderr",
     "output_type": "stream",
     "text": [
      "Epoch [2/100]: [120/120] 100%|██████████, loss=2.37e+00 [00:01<00:00]\n",
      "Epoch [3/100]: [14/120]  12%|█▏        , loss=2.19e+00 [00:00<00:01]"
     ]
    },
    {
     "name": "stdout",
     "output_type": "stream",
     "text": [
      "Epoch: 2\n",
      "Training - Loss: 2.143, Accuracy: 0.441\n",
      "Validation - Loss: 2.232, Accuracy: 0.420\n"
     ]
    },
    {
     "name": "stderr",
     "output_type": "stream",
     "text": [
      "Epoch [3/100]: [120/120] 100%|██████████, loss=2.06e+00 [00:01<00:00]\n",
      "Epoch [4/100]: [15/120]  12%|█▎        , loss=1.90e+00 [00:00<00:01]"
     ]
    },
    {
     "name": "stdout",
     "output_type": "stream",
     "text": [
      "Epoch: 3\n",
      "Training - Loss: 1.906, Accuracy: 0.447\n",
      "Validation - Loss: 2.046, Accuracy: 0.434\n"
     ]
    },
    {
     "name": "stderr",
     "output_type": "stream",
     "text": [
      "Epoch [4/100]: [120/120] 100%|██████████, loss=1.90e+00 [00:01<00:00]\n",
      "Epoch [5/100]: [14/120]  12%|█▏        , loss=1.67e+00 [00:00<00:01]"
     ]
    },
    {
     "name": "stdout",
     "output_type": "stream",
     "text": [
      "Epoch: 4\n",
      "Training - Loss: 1.770, Accuracy: 0.459\n",
      "Validation - Loss: 1.957, Accuracy: 0.436\n"
     ]
    },
    {
     "name": "stderr",
     "output_type": "stream",
     "text": [
      "Epoch [5/100]: [120/120] 100%|██████████, loss=1.79e+00 [00:01<00:00]\n",
      "Epoch [6/100]: [16/120]  13%|█▎        , loss=1.89e+00 [00:00<00:01]"
     ]
    },
    {
     "name": "stdout",
     "output_type": "stream",
     "text": [
      "Epoch: 5\n",
      "Training - Loss: 1.671, Accuracy: 0.477\n",
      "Validation - Loss: 1.902, Accuracy: 0.450\n"
     ]
    },
    {
     "name": "stderr",
     "output_type": "stream",
     "text": [
      "Epoch [6/100]: [120/120] 100%|██████████, loss=1.74e+00 [00:01<00:00]\n",
      "Epoch [7/100]: [15/120]  12%|█▎        , loss=1.51e+00 [00:00<00:01]"
     ]
    },
    {
     "name": "stdout",
     "output_type": "stream",
     "text": [
      "Epoch: 6\n",
      "Training - Loss: 1.604, Accuracy: 0.478\n",
      "Validation - Loss: 1.865, Accuracy: 0.441\n"
     ]
    },
    {
     "name": "stderr",
     "output_type": "stream",
     "text": [
      "Epoch [7/100]: [120/120] 100%|██████████, loss=1.63e+00 [00:01<00:00]\n",
      "Epoch [8/100]: [16/120]  13%|█▎        , loss=1.67e+00 [00:00<00:01]"
     ]
    },
    {
     "name": "stdout",
     "output_type": "stream",
     "text": [
      "Epoch: 7\n",
      "Training - Loss: 1.541, Accuracy: 0.475\n",
      "Validation - Loss: 1.811, Accuracy: 0.431\n"
     ]
    },
    {
     "name": "stderr",
     "output_type": "stream",
     "text": [
      "Epoch [8/100]: [120/120] 100%|██████████, loss=1.65e+00 [00:01<00:00]\n",
      "Epoch [9/100]: [15/120]  12%|█▎        , loss=1.69e+00 [00:00<00:01]"
     ]
    },
    {
     "name": "stdout",
     "output_type": "stream",
     "text": [
      "Epoch: 8\n",
      "Training - Loss: 1.500, Accuracy: 0.501\n",
      "Validation - Loss: 1.801, Accuracy: 0.454\n"
     ]
    },
    {
     "name": "stderr",
     "output_type": "stream",
     "text": [
      "Epoch [9/100]: [120/120] 100%|██████████, loss=1.64e+00 [00:01<00:00]\n",
      "Epoch [10/100]: [16/120]  13%|█▎        , loss=1.74e+00 [00:00<00:01]"
     ]
    },
    {
     "name": "stdout",
     "output_type": "stream",
     "text": [
      "Epoch: 9\n",
      "Training - Loss: 1.469, Accuracy: 0.479\n",
      "Validation - Loss: 1.781, Accuracy: 0.431\n"
     ]
    },
    {
     "name": "stderr",
     "output_type": "stream",
     "text": [
      "Epoch [10/100]: [120/120] 100%|██████████, loss=1.61e+00 [00:01<00:00]\n",
      "Epoch [11/100]: [15/120]  12%|█▎        , loss=1.86e+00 [00:00<00:01]"
     ]
    },
    {
     "name": "stdout",
     "output_type": "stream",
     "text": [
      "Epoch: 10\n",
      "Training - Loss: 1.440, Accuracy: 0.483\n",
      "Validation - Loss: 1.777, Accuracy: 0.427\n"
     ]
    },
    {
     "name": "stderr",
     "output_type": "stream",
     "text": [
      "Epoch [11/100]: [120/120] 100%|██████████, loss=1.58e+00 [00:01<00:00]\n",
      "Epoch [12/100]: [16/120]  13%|█▎        , loss=1.52e+00 [00:00<00:01]"
     ]
    },
    {
     "name": "stdout",
     "output_type": "stream",
     "text": [
      "Epoch: 11\n",
      "Training - Loss: 1.402, Accuracy: 0.502\n",
      "Validation - Loss: 1.772, Accuracy: 0.455\n"
     ]
    },
    {
     "name": "stderr",
     "output_type": "stream",
     "text": [
      "Epoch [12/100]: [120/120] 100%|██████████, loss=1.50e+00 [00:01<00:00]\n",
      "Epoch [13/100]: [15/120]  12%|█▎        , loss=1.62e+00 [00:00<00:01]"
     ]
    },
    {
     "name": "stdout",
     "output_type": "stream",
     "text": [
      "Epoch: 12\n",
      "Training - Loss: 1.374, Accuracy: 0.508\n",
      "Validation - Loss: 1.764, Accuracy: 0.465\n"
     ]
    },
    {
     "name": "stderr",
     "output_type": "stream",
     "text": [
      "Epoch [13/100]: [120/120] 100%|██████████, loss=1.48e+00 [00:01<00:00]\n",
      "Epoch [14/100]: [16/120]  13%|█▎        , loss=1.24e+00 [00:00<00:01]"
     ]
    },
    {
     "name": "stdout",
     "output_type": "stream",
     "text": [
      "Epoch: 13\n",
      "Training - Loss: 1.350, Accuracy: 0.523\n",
      "Validation - Loss: 1.757, Accuracy: 0.471\n"
     ]
    },
    {
     "name": "stderr",
     "output_type": "stream",
     "text": [
      "Epoch [14/100]: [120/120] 100%|██████████, loss=1.46e+00 [00:01<00:00]\n",
      "Epoch [15/100]: [15/120]  12%|█▎        , loss=1.54e+00 [00:00<00:01]"
     ]
    },
    {
     "name": "stdout",
     "output_type": "stream",
     "text": [
      "Epoch: 14\n",
      "Training - Loss: 1.327, Accuracy: 0.530\n",
      "Validation - Loss: 1.731, Accuracy: 0.472\n"
     ]
    },
    {
     "name": "stderr",
     "output_type": "stream",
     "text": [
      "Epoch [15/100]: [120/120] 100%|██████████, loss=1.45e+00 [00:01<00:00]\n",
      "Epoch [16/100]: [16/120]  13%|█▎        , loss=1.69e+00 [00:00<00:01]"
     ]
    },
    {
     "name": "stdout",
     "output_type": "stream",
     "text": [
      "Epoch: 15\n",
      "Training - Loss: 1.310, Accuracy: 0.545\n",
      "Validation - Loss: 1.740, Accuracy: 0.477\n"
     ]
    },
    {
     "name": "stderr",
     "output_type": "stream",
     "text": [
      "Epoch [16/100]: [120/120] 100%|██████████, loss=1.45e+00 [00:01<00:00]\n",
      "Epoch [17/100]: [15/120]  12%|█▎        , loss=1.32e+00 [00:00<00:01]"
     ]
    },
    {
     "name": "stdout",
     "output_type": "stream",
     "text": [
      "Epoch: 16\n",
      "Training - Loss: 1.277, Accuracy: 0.538\n",
      "Validation - Loss: 1.712, Accuracy: 0.472\n"
     ]
    },
    {
     "name": "stderr",
     "output_type": "stream",
     "text": [
      "Epoch [17/100]: [120/120] 100%|██████████, loss=1.39e+00 [00:01<00:00]\n",
      "Epoch [18/100]: [16/120]  13%|█▎        , loss=1.35e+00 [00:00<00:01]"
     ]
    },
    {
     "name": "stdout",
     "output_type": "stream",
     "text": [
      "Epoch: 17\n",
      "Training - Loss: 1.265, Accuracy: 0.540\n",
      "Validation - Loss: 1.710, Accuracy: 0.472\n"
     ]
    },
    {
     "name": "stderr",
     "output_type": "stream",
     "text": [
      "Epoch [18/100]: [120/120] 100%|██████████, loss=1.40e+00 [00:01<00:00]\n",
      "Epoch [19/100]: [15/120]  12%|█▎        , loss=1.64e+00 [00:00<00:01]"
     ]
    },
    {
     "name": "stdout",
     "output_type": "stream",
     "text": [
      "Epoch: 18\n",
      "Training - Loss: 1.245, Accuracy: 0.554\n",
      "Validation - Loss: 1.684, Accuracy: 0.492\n"
     ]
    },
    {
     "name": "stderr",
     "output_type": "stream",
     "text": [
      "Epoch [19/100]: [120/120] 100%|██████████, loss=1.39e+00 [00:01<00:00]\n",
      "Epoch [20/100]: [16/120]  13%|█▎        , loss=1.52e+00 [00:00<00:01]"
     ]
    },
    {
     "name": "stdout",
     "output_type": "stream",
     "text": [
      "Epoch: 19\n",
      "Training - Loss: 1.219, Accuracy: 0.561\n",
      "Validation - Loss: 1.712, Accuracy: 0.489\n"
     ]
    },
    {
     "name": "stderr",
     "output_type": "stream",
     "text": [
      "Epoch [20/100]: [120/120] 100%|██████████, loss=1.39e+00 [00:01<00:00]\n",
      "Epoch [21/100]: [15/120]  12%|█▎        , loss=1.21e+00 [00:00<00:01]"
     ]
    },
    {
     "name": "stdout",
     "output_type": "stream",
     "text": [
      "Epoch: 20\n",
      "Training - Loss: 1.202, Accuracy: 0.546\n",
      "Validation - Loss: 1.677, Accuracy: 0.477\n"
     ]
    },
    {
     "name": "stderr",
     "output_type": "stream",
     "text": [
      "Epoch [21/100]: [120/120] 100%|██████████, loss=1.35e+00 [00:01<00:00]\n",
      "Epoch [22/100]: [16/120]  13%|█▎        , loss=1.31e+00 [00:00<00:01]"
     ]
    },
    {
     "name": "stdout",
     "output_type": "stream",
     "text": [
      "Epoch: 21\n",
      "Training - Loss: 1.188, Accuracy: 0.551\n",
      "Validation - Loss: 1.710, Accuracy: 0.481\n"
     ]
    },
    {
     "name": "stderr",
     "output_type": "stream",
     "text": [
      "Epoch [22/100]: [120/120] 100%|██████████, loss=1.35e+00 [00:01<00:00]\n",
      "Epoch [23/100]: [14/120]  12%|█▏        , loss=1.52e+00 [00:00<00:01]"
     ]
    },
    {
     "name": "stdout",
     "output_type": "stream",
     "text": [
      "Epoch: 22\n",
      "Training - Loss: 1.167, Accuracy: 0.561\n",
      "Validation - Loss: 1.701, Accuracy: 0.492\n"
     ]
    },
    {
     "name": "stderr",
     "output_type": "stream",
     "text": [
      "Epoch [23/100]: [120/120] 100%|██████████, loss=1.33e+00 [00:01<00:00]\n",
      "Epoch [24/100]: [16/120]  13%|█▎        , loss=1.25e+00 [00:00<00:01]"
     ]
    },
    {
     "name": "stdout",
     "output_type": "stream",
     "text": [
      "Epoch: 23\n",
      "Training - Loss: 1.155, Accuracy: 0.565\n",
      "Validation - Loss: 1.668, Accuracy: 0.494\n"
     ]
    },
    {
     "name": "stderr",
     "output_type": "stream",
     "text": [
      "Epoch [24/100]: [120/120] 100%|██████████, loss=1.28e+00 [00:01<00:00]\n",
      "Epoch [25/100]: [15/120]  12%|█▎        , loss=1.15e+00 [00:00<00:01]"
     ]
    },
    {
     "name": "stdout",
     "output_type": "stream",
     "text": [
      "Epoch: 24\n",
      "Training - Loss: 1.154, Accuracy: 0.574\n",
      "Validation - Loss: 1.704, Accuracy: 0.500\n"
     ]
    },
    {
     "name": "stderr",
     "output_type": "stream",
     "text": [
      "Epoch [25/100]: [120/120] 100%|██████████, loss=1.27e+00 [00:01<00:00]\n",
      "Epoch [26/100]: [16/120]  13%|█▎        , loss=1.13e+00 [00:00<00:01]"
     ]
    },
    {
     "name": "stdout",
     "output_type": "stream",
     "text": [
      "Epoch: 25\n",
      "Training - Loss: 1.140, Accuracy: 0.560\n",
      "Validation - Loss: 1.669, Accuracy: 0.486\n"
     ]
    },
    {
     "name": "stderr",
     "output_type": "stream",
     "text": [
      "Epoch [26/100]: [120/120] 100%|██████████, loss=1.24e+00 [00:01<00:00]\n",
      "Epoch [27/100]: [15/120]  12%|█▎        , loss=1.14e+00 [00:00<00:01]"
     ]
    },
    {
     "name": "stdout",
     "output_type": "stream",
     "text": [
      "Epoch: 26\n",
      "Training - Loss: 1.131, Accuracy: 0.573\n",
      "Validation - Loss: 1.664, Accuracy: 0.499\n"
     ]
    },
    {
     "name": "stderr",
     "output_type": "stream",
     "text": [
      "Epoch [27/100]: [120/120] 100%|██████████, loss=1.24e+00 [00:01<00:00]\n",
      "Epoch [28/100]: [16/120]  13%|█▎        , loss=1.34e+00 [00:00<00:01]"
     ]
    },
    {
     "name": "stdout",
     "output_type": "stream",
     "text": [
      "Epoch: 27\n",
      "Training - Loss: 1.126, Accuracy: 0.579\n",
      "Validation - Loss: 1.699, Accuracy: 0.505\n"
     ]
    },
    {
     "name": "stderr",
     "output_type": "stream",
     "text": [
      "Epoch [28/100]: [120/120] 100%|██████████, loss=1.25e+00 [00:01<00:00]\n",
      "Epoch [29/100]: [15/120]  12%|█▎        , loss=1.39e+00 [00:00<00:01]"
     ]
    },
    {
     "name": "stdout",
     "output_type": "stream",
     "text": [
      "Epoch: 28\n",
      "Training - Loss: 1.123, Accuracy: 0.575\n",
      "Validation - Loss: 1.703, Accuracy: 0.502\n"
     ]
    },
    {
     "name": "stderr",
     "output_type": "stream",
     "text": [
      "Epoch [29/100]: [120/120] 100%|██████████, loss=1.27e+00 [00:01<00:00]\n",
      "Epoch [30/100]: [16/120]  13%|█▎        , loss=1.31e+00 [00:00<00:01]"
     ]
    },
    {
     "name": "stdout",
     "output_type": "stream",
     "text": [
      "Epoch: 29\n",
      "Training - Loss: 1.116, Accuracy: 0.578\n",
      "Validation - Loss: 1.651, Accuracy: 0.505\n"
     ]
    },
    {
     "name": "stderr",
     "output_type": "stream",
     "text": [
      "Epoch [30/100]: [120/120] 100%|██████████, loss=1.26e+00 [00:01<00:00]\n",
      "Epoch [31/100]: [14/120]  12%|█▏        , loss=1.27e+00 [00:00<00:01]"
     ]
    },
    {
     "name": "stdout",
     "output_type": "stream",
     "text": [
      "Epoch: 30\n",
      "Training - Loss: 1.106, Accuracy: 0.581\n",
      "Validation - Loss: 1.681, Accuracy: 0.511\n"
     ]
    },
    {
     "name": "stderr",
     "output_type": "stream",
     "text": [
      "Epoch [31/100]: [120/120] 100%|██████████, loss=1.23e+00 [00:01<00:00]\n",
      "Epoch [32/100]: [16/120]  13%|█▎        , loss=8.70e-01 [00:00<00:01]"
     ]
    },
    {
     "name": "stdout",
     "output_type": "stream",
     "text": [
      "Epoch: 31\n",
      "Training - Loss: 1.110, Accuracy: 0.582\n",
      "Validation - Loss: 1.688, Accuracy: 0.506\n"
     ]
    },
    {
     "name": "stderr",
     "output_type": "stream",
     "text": [
      "Epoch [32/100]: [120/120] 100%|██████████, loss=1.19e+00 [00:01<00:00]\n",
      "Epoch [33/100]: [14/120]  12%|█▏        , loss=1.36e+00 [00:00<00:01]"
     ]
    },
    {
     "name": "stdout",
     "output_type": "stream",
     "text": [
      "Epoch: 32\n",
      "Training - Loss: 1.111, Accuracy: 0.580\n",
      "Validation - Loss: 1.668, Accuracy: 0.513\n"
     ]
    },
    {
     "name": "stderr",
     "output_type": "stream",
     "text": [
      "Epoch [33/100]: [120/120] 100%|██████████, loss=1.26e+00 [00:01<00:00]\n",
      "Epoch [34/100]: [16/120]  13%|█▎        , loss=1.32e+00 [00:00<00:01]"
     ]
    },
    {
     "name": "stdout",
     "output_type": "stream",
     "text": [
      "Epoch: 33\n",
      "Training - Loss: 1.108, Accuracy: 0.583\n",
      "Validation - Loss: 1.683, Accuracy: 0.514\n"
     ]
    },
    {
     "name": "stderr",
     "output_type": "stream",
     "text": [
      "Epoch [34/100]: [120/120] 100%|██████████, loss=1.22e+00 [00:01<00:00]\n"
     ]
    },
    {
     "name": "stdout",
     "output_type": "stream",
     "text": [
      "Epoch: 34\n",
      "Training - Loss: 1.109, Accuracy: 0.583\n",
      "Validation - Loss: 1.697, Accuracy: 0.505\n"
     ]
    }
   ],
   "source": [
    "surname_trainer = Trainer(model_bundle, data_bundle, work_dir, args, pbar, metrics)\n",
    "surname_trainer.run()"
   ]
  },
  {
   "cell_type": "markdown",
   "metadata": {},
   "source": [
    "## Testing"
   ]
  },
  {
   "cell_type": "markdown",
   "metadata": {},
   "source": [
    "### Ignite Testing"
   ]
  },
  {
   "cell_type": "code",
   "execution_count": 16,
   "metadata": {
    "ExecuteTime": {
     "end_time": "2019-03-25T16:55:49.491560Z",
     "start_time": "2019-03-25T16:55:49.338593Z"
    }
   },
   "outputs": [],
   "source": [
    "args.device = 'cpu'\n",
    "classifier = Classifier(input_dim=len(vectorizer.surname_vocab), hidden_dim=args.hidden_dim,\\\n",
    "                        output_dim=len(vectorizer.nationality_vocab))\n",
    "state_dict = torch.load(work_dir/'surname_mlp_classifier.pth')\n",
    "classifier.load_state_dict(state_dict)\n",
    "\n",
    "class_weights = class_weights.to(args.device)\n",
    "loss_func = nn.CrossEntropyLoss(class_weights)\n",
    "metrics = {'accuracy': Accuracy(), 'loss': Loss(loss_func)}"
   ]
  },
  {
   "cell_type": "code",
   "execution_count": 17,
   "metadata": {
    "ExecuteTime": {
     "end_time": "2019-03-25T16:55:50.992154Z",
     "start_time": "2019-03-25T16:55:50.977280Z"
    }
   },
   "outputs": [],
   "source": [
    "evaluator = create_supervised_evaluator(classifier, metrics=metrics)\n",
    "\n",
    "@evaluator.on(Events.COMPLETED)\n",
    "def log_testing_results(engine):\n",
    "  metrics = engine.state.metrics\n",
    "  print(f\"Test loss: {metrics['loss']:0.3f}\")\n",
    "  print(f\"Test accuracy: {metrics['accuracy']:0.3f}\")"
   ]
  },
  {
   "cell_type": "code",
   "execution_count": 18,
   "metadata": {
    "ExecuteTime": {
     "end_time": "2019-03-25T16:55:51.336157Z",
     "start_time": "2019-03-25T16:55:50.993675Z"
    }
   },
   "outputs": [
    {
     "name": "stdout",
     "output_type": "stream",
     "text": [
      "Test loss: 1.669\n",
      "Test accuracy: 0.522\n"
     ]
    },
    {
     "data": {
      "text/plain": [
       "<ignite.engine.engine.State at 0x7f8a777f9cc0>"
      ]
     },
     "execution_count": 18,
     "metadata": {},
     "output_type": "execute_result"
    }
   ],
   "source": [
    "evaluator.run(test_dl)"
   ]
  },
  {
   "cell_type": "markdown",
   "metadata": {},
   "source": [
    "### NLPBook Testing"
   ]
  },
  {
   "cell_type": "code",
   "execution_count": 19,
   "metadata": {
    "ExecuteTime": {
     "end_time": "2019-03-25T16:55:54.806157Z",
     "start_time": "2019-03-25T16:55:54.792485Z"
    }
   },
   "outputs": [],
   "source": [
    "def compute_accuracy(y_pred, y_target):\n",
    "  _, y_pred_indices = y_pred.max(dim=1)\n",
    "  n_correct = torch.eq(y_pred_indices, y_target).sum().item()\n",
    "  return n_correct / len(y_pred_indices) * 100"
   ]
  },
  {
   "cell_type": "code",
   "execution_count": 20,
   "metadata": {
    "ExecuteTime": {
     "end_time": "2019-03-25T16:55:55.137784Z",
     "start_time": "2019-03-25T16:55:54.807525Z"
    }
   },
   "outputs": [],
   "source": [
    "running_loss = 0.\n",
    "running_acc = 0.\n",
    "\n",
    "classifier.eval()\n",
    "for i, batch in enumerate(test_dl):\n",
    "  x,y = batch\n",
    "  y_pred = classifier(x_in=x.float())\n",
    "  \n",
    "  loss = loss_func(y_pred, y)\n",
    "  loss_t = loss.item()\n",
    "  running_loss += (loss_t-running_loss)/(i+1)\n",
    "  \n",
    "  acc_t = compute_accuracy(y_pred, y)\n",
    "  running_acc += (acc_t-running_acc)/(i+1)"
   ]
  },
  {
   "cell_type": "code",
   "execution_count": 21,
   "metadata": {
    "ExecuteTime": {
     "end_time": "2019-03-25T16:55:55.154541Z",
     "start_time": "2019-03-25T16:55:55.138996Z"
    }
   },
   "outputs": [
    {
     "name": "stdout",
     "output_type": "stream",
     "text": [
      "Test loss: 1.698\n",
      "Test acc: 52.375\n"
     ]
    }
   ],
   "source": [
    "print(f\"Test loss: {running_loss:0.3f}\")\n",
    "print(f\"Test acc: {running_acc:0.3f}\")"
   ]
  },
  {
   "cell_type": "markdown",
   "metadata": {},
   "source": [
    "## Inference"
   ]
  },
  {
   "cell_type": "markdown",
   "metadata": {},
   "source": [
    "### Single Inference"
   ]
  },
  {
   "cell_type": "code",
   "execution_count": 22,
   "metadata": {
    "ExecuteTime": {
     "end_time": "2019-03-25T16:56:00.561047Z",
     "start_time": "2019-03-25T16:56:00.545246Z"
    }
   },
   "outputs": [],
   "source": [
    "def predict_natinoality(surname, classifier, vectorizer):\n",
    "  \"\"\"\n",
    "    Predict the nationality from a new surname\n",
    "    \n",
    "    Args:\n",
    "      surname: the surname to classify\n",
    "      classifier: an instance of the classifier\n",
    "      vectorizer: the corresponding vectorizer\n",
    "      \n",
    "    Returns:\n",
    "      a dictionary with most likely natinoality and its probability\n",
    "  \"\"\"\n",
    "  vectorized_surname = vectorizer.vectorize(surname)\n",
    "  vectorized_surname = torch.tensor(vectorized_surname).view(1,-1)\n",
    "  result = classifier(vectorized_surname, apply_softmax=True)\n",
    "  \n",
    "  probability_values, indices = result.max(dim=1)\n",
    "  idx = indices.item()\n",
    "  \n",
    "  predicted_nationality = vectorizer.nationality_vocab.lookup_idx(idx)\n",
    "  probability_value = probability_values.item()\n",
    "  \n",
    "  return {'nationality': predicted_nationality, 'probability': probability_value}"
   ]
  },
  {
   "cell_type": "code",
   "execution_count": 23,
   "metadata": {
    "ExecuteTime": {
     "end_time": "2019-03-25T16:56:02.498070Z",
     "start_time": "2019-03-25T16:56:00.562449Z"
    }
   },
   "outputs": [
    {
     "name": "stdout",
     "output_type": "stream",
     "text": [
      "Enter a surname to classify: Jeevan\n",
      "Jeevan -> Russian p=0.58\n"
     ]
    },
    {
     "name": "stderr",
     "output_type": "stream",
     "text": [
      "/home/su0/nlpbook/surname/surname/model.py:22: UserWarning: Implicit dimension choice for softmax has been deprecated. Change the call to include dim=X as an argument.\n",
      "  y_out = self.softmax(y_out)\n"
     ]
    }
   ],
   "source": [
    "new_surname = input(\"Enter a surname to classify: \")\n",
    "prediction = predict_natinoality(new_surname, classifier, vectorizer)\n",
    "print(f\"{new_surname} -> {prediction['nationality']} p={prediction['probability']:0.2f}\")"
   ]
  },
  {
   "cell_type": "markdown",
   "metadata": {},
   "source": [
    "### TopK Inference"
   ]
  },
  {
   "cell_type": "code",
   "execution_count": 24,
   "metadata": {
    "ExecuteTime": {
     "end_time": "2019-03-25T16:56:08.313531Z",
     "start_time": "2019-03-25T16:56:08.298084Z"
    }
   },
   "outputs": [],
   "source": [
    "def predict_topk_nationality(name, classifier, vectorizer, k=5):\n",
    "  vectorized_name = vectorizer.vectorize(name)\n",
    "  vectorized_name = torch.tensor(vectorized_name).view(1, -1)\n",
    "  prediction_vector = classifier(vectorized_name, apply_softmax=True)\n",
    "  probability_values, indices = torch.topk(prediction_vector, k=k)\n",
    "\n",
    "  # returned size is 1,k\n",
    "  probability_values = probability_values.detach().numpy()[0]\n",
    "  indices = indices.detach().numpy()[0]\n",
    "\n",
    "  results = []\n",
    "  for prob_value, idx in zip(probability_values, indices):\n",
    "      nationality = vectorizer.nationality_vocab.lookup_idx(idx)\n",
    "      results.append({'nationality': nationality, \n",
    "                      'probability': prob_value})\n",
    "\n",
    "  return results"
   ]
  },
  {
   "cell_type": "code",
   "execution_count": 25,
   "metadata": {
    "ExecuteTime": {
     "end_time": "2019-03-25T16:56:14.340195Z",
     "start_time": "2019-03-25T16:56:08.314941Z"
    }
   },
   "outputs": [
    {
     "name": "stdout",
     "output_type": "stream",
     "text": [
      "Enter a surname to classify: Kumar\n",
      "How many of the top predictions to see? 5\n",
      "Top 5 predictions:\n",
      "===================\n",
      "Kumar -> Arabic p=0.26\n",
      "Kumar -> Japanese p=0.20\n",
      "Kumar -> German p=0.16\n",
      "Kumar -> Czech p=0.14\n",
      "Kumar -> Dutch p=0.09\n"
     ]
    }
   ],
   "source": [
    "new_surname = input(\"Enter a surname to classify: \")\n",
    "classifier = classifier.to(\"cpu\")\n",
    "\n",
    "k = int(input(\"How many of the top predictions to see? \"))\n",
    "if k > len(vectorizer.nationality_vocab):\n",
    "  print(\"Sorry! That's more than the # of nationalities we have.. defaulting you to max size :)\")\n",
    "  k = len(vectorizer.nationality_vocab)\n",
    "    \n",
    "predictions = predict_topk_nationality(new_surname, classifier, vectorizer, k=k)\n",
    "\n",
    "print(\"Top {} predictions:\".format(k))\n",
    "print(\"===================\")\n",
    "for prediction in predictions:\n",
    "  print(f\"{new_surname} -> {prediction['nationality']} p={prediction['probability']:0.2f}\")"
   ]
  }
 ],
 "metadata": {
  "kernelspec": {
   "display_name": "Python 3",
   "language": "python",
   "name": "python3"
  },
  "language_info": {
   "codemirror_mode": {
    "name": "ipython",
    "version": 3
   },
   "file_extension": ".py",
   "mimetype": "text/x-python",
   "name": "python",
   "nbconvert_exporter": "python",
   "pygments_lexer": "ipython3",
   "version": "3.7.2"
  },
  "toc": {
   "base_numbering": 1,
   "nav_menu": {},
   "number_sections": true,
   "sideBar": true,
   "skip_h1_title": true,
   "title_cell": "Table of Contents",
   "title_sidebar": "Contents",
   "toc_cell": true,
   "toc_position": {},
   "toc_section_display": true,
   "toc_window_display": false
  }
 },
 "nbformat": 4,
 "nbformat_minor": 2
}
