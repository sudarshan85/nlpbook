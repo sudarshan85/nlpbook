{
 "cells": [
  {
   "cell_type": "markdown",
   "metadata": {
    "toc": true
   },
   "source": [
    "<h1>Table of Contents<span class=\"tocSkip\"></span></h1>\n",
    "<div class=\"toc\"><ul class=\"toc-item\"><li><span><a href=\"#Imports-&amp;-Inits\" data-toc-modified-id=\"Imports-&amp;-Inits-1\"><span class=\"toc-item-num\">1&nbsp;&nbsp;</span>Imports &amp; Inits</a></span></li><li><span><a href=\"#Data-Preparation\" data-toc-modified-id=\"Data-Preparation-2\"><span class=\"toc-item-num\">2&nbsp;&nbsp;</span>Data Preparation</a></span></li><li><span><a href=\"#Model\" data-toc-modified-id=\"Model-3\"><span class=\"toc-item-num\">3&nbsp;&nbsp;</span>Model</a></span></li><li><span><a href=\"#Training\" data-toc-modified-id=\"Training-4\"><span class=\"toc-item-num\">4&nbsp;&nbsp;</span>Training</a></span></li><li><span><a href=\"#Testing\" data-toc-modified-id=\"Testing-5\"><span class=\"toc-item-num\">5&nbsp;&nbsp;</span>Testing</a></span><ul class=\"toc-item\"><li><span><a href=\"#Ignite-Testing\" data-toc-modified-id=\"Ignite-Testing-5.1\"><span class=\"toc-item-num\">5.1&nbsp;&nbsp;</span>Ignite Testing</a></span></li><li><span><a href=\"#NLPBook-Testing\" data-toc-modified-id=\"NLPBook-Testing-5.2\"><span class=\"toc-item-num\">5.2&nbsp;&nbsp;</span>NLPBook Testing</a></span></li></ul></li><li><span><a href=\"#Inference\" data-toc-modified-id=\"Inference-6\"><span class=\"toc-item-num\">6&nbsp;&nbsp;</span>Inference</a></span><ul class=\"toc-item\"><li><span><a href=\"#Single-Inference\" data-toc-modified-id=\"Single-Inference-6.1\"><span class=\"toc-item-num\">6.1&nbsp;&nbsp;</span>Single Inference</a></span></li><li><span><a href=\"#TopK-Inference\" data-toc-modified-id=\"TopK-Inference-6.2\"><span class=\"toc-item-num\">6.2&nbsp;&nbsp;</span>TopK Inference</a></span></li></ul></li></ul></div>"
   ]
  },
  {
   "cell_type": "markdown",
   "metadata": {},
   "source": [
    "# Surname Classifier with MLP\n",
    "\n",
    "Classifying surnames based on national origin."
   ]
  },
  {
   "cell_type": "markdown",
   "metadata": {},
   "source": [
    "## Imports & Inits"
   ]
  },
  {
   "cell_type": "code",
   "execution_count": 1,
   "metadata": {
    "ExecuteTime": {
     "end_time": "2019-03-24T22:59:17.320326Z",
     "start_time": "2019-03-24T22:59:17.307613Z"
    }
   },
   "outputs": [],
   "source": [
    "%load_ext autoreload\n",
    "%autoreload 2"
   ]
  },
  {
   "cell_type": "code",
   "execution_count": 2,
   "metadata": {
    "ExecuteTime": {
     "end_time": "2019-03-24T22:59:18.236422Z",
     "start_time": "2019-03-24T22:59:17.321517Z"
    }
   },
   "outputs": [],
   "source": [
    "import pandas as pd\n",
    "import numpy as np\n",
    "import torch\n",
    "\n",
    "from torch import nn\n",
    "from torch import optim\n",
    "from torch.utils.data import DataLoader\n",
    "from pathlib import Path"
   ]
  },
  {
   "cell_type": "code",
   "execution_count": 3,
   "metadata": {
    "ExecuteTime": {
     "end_time": "2019-03-24T22:59:18.283145Z",
     "start_time": "2019-03-24T22:59:18.238466Z"
    }
   },
   "outputs": [],
   "source": [
    "from ignite.engine import Events, create_supervised_evaluator\n",
    "from ignite.metrics import Accuracy, Loss\n",
    "from ignite.contrib.handlers import ProgressBar"
   ]
  },
  {
   "cell_type": "code",
   "execution_count": 4,
   "metadata": {
    "ExecuteTime": {
     "end_time": "2019-03-24T22:59:18.300382Z",
     "start_time": "2019-03-24T22:59:18.284620Z"
    }
   },
   "outputs": [],
   "source": [
    "from surname.dataset import ProjectDataset\n",
    "from surname.mlp_model import Classifier\n",
    "from surname.trainer import Trainer\n",
    "from surname.args import args"
   ]
  },
  {
   "cell_type": "code",
   "execution_count": 5,
   "metadata": {
    "ExecuteTime": {
     "end_time": "2019-03-24T22:59:18.315364Z",
     "start_time": "2019-03-24T22:59:18.301554Z"
    }
   },
   "outputs": [],
   "source": [
    "path = Path('../data/surnames')"
   ]
  },
  {
   "cell_type": "markdown",
   "metadata": {},
   "source": [
    "## Data Preparation"
   ]
  },
  {
   "cell_type": "code",
   "execution_count": 6,
   "metadata": {
    "ExecuteTime": {
     "end_time": "2019-03-24T22:59:18.333188Z",
     "start_time": "2019-03-24T22:59:18.316456Z"
    }
   },
   "outputs": [
    {
     "data": {
      "text/plain": [
       "Namespace(batch_size=64, checkpointer_name='classifier', checkpointer_prefix='surname', cw_file='class_weights.pt', device='cuda:3', early_stopping_criteria=5, hidden_dim=300, learning_rate=0.001, model_dir='models', num_epochs=100, proc_dataset_csv='surnames_with_splits.csv', raw_dataset_csv='surnames.csv', save_every=2, save_total=5, train_proportion=0.7, vectorizer_fname='vectorizer.json')"
      ]
     },
     "execution_count": 6,
     "metadata": {},
     "output_type": "execute_result"
    }
   ],
   "source": [
    "work_dir = path/'work_dir'\n",
    "surnames_csv = path/args.proc_dataset_csv\n",
    "vectorizer_path = work_dir/args.vectorizer_fname\n",
    "cw_file = work_dir/args.cw_file\n",
    "\n",
    "args"
   ]
  },
  {
   "cell_type": "code",
   "execution_count": 7,
   "metadata": {
    "ExecuteTime": {
     "end_time": "2019-03-24T22:59:18.357858Z",
     "start_time": "2019-03-24T22:59:18.334213Z"
    }
   },
   "outputs": [
    {
     "data": {
      "text/plain": [
       "10980"
      ]
     },
     "execution_count": 7,
     "metadata": {},
     "output_type": "execute_result"
    }
   ],
   "source": [
    "df = pd.read_csv(surnames_csv)\n",
    "len(df)"
   ]
  },
  {
   "cell_type": "code",
   "execution_count": 10,
   "metadata": {
    "ExecuteTime": {
     "end_time": "2019-03-24T22:59:24.566559Z",
     "start_time": "2019-03-24T22:59:24.553113Z"
    }
   },
   "outputs": [],
   "source": [
    "is_load = True"
   ]
  },
  {
   "cell_type": "code",
   "execution_count": 9,
   "metadata": {
    "ExecuteTime": {
     "end_time": "2019-03-24T22:59:21.781698Z",
     "start_time": "2019-03-24T22:59:21.252318Z"
    }
   },
   "outputs": [],
   "source": [
    "if not is_load:\n",
    "  train_ds = ProjectDataset.load_data_and_create_vectorizer(df.loc[df['split'] == 'train'])\n",
    "  train_ds.save_vectorizer(vectorizer_path)\n",
    "  vectorizer = train_ds.get_vectorizer()\n",
    "  class_counts = df['nationality'].value_counts().to_dict()\n",
    "  sorted_counts = sorted(class_counts.items(), key=lambda x: vectorizer.nationality_vocab.lookup_token(x[0]))\n",
    "  freq = [count for _, count in sorted_counts]\n",
    "  class_weights = 1.0/torch.tensor(freq, dtype=torch.float32)\n",
    "  torch.save(class_weights, cw_file)"
   ]
  },
  {
   "cell_type": "code",
   "execution_count": 11,
   "metadata": {
    "ExecuteTime": {
     "end_time": "2019-03-24T22:59:28.727743Z",
     "start_time": "2019-03-24T22:59:28.706951Z"
    }
   },
   "outputs": [],
   "source": [
    "train_df = df.loc[df['split'] == 'train']\n",
    "train_ds = ProjectDataset.load_data_and_vectorizer(train_df, vectorizer_path)\n",
    "vectorizer = train_ds.get_vectorizer()\n",
    "class_weights = torch.load(cw_file)\n",
    "train_dl = DataLoader(train_ds, args.batch_size, shuffle=True, drop_last=True)"
   ]
  },
  {
   "cell_type": "code",
   "execution_count": 12,
   "metadata": {
    "ExecuteTime": {
     "end_time": "2019-03-24T22:59:28.743079Z",
     "start_time": "2019-03-24T22:59:28.728898Z"
    }
   },
   "outputs": [],
   "source": [
    "val_df = df.loc[df['split'] == 'val']\n",
    "val_ds = ProjectDataset.load_data_and_vectorizer(val_df, vectorizer_path)\n",
    "val_dl = DataLoader(val_ds, args.batch_size, shuffle=True, drop_last=True)"
   ]
  },
  {
   "cell_type": "code",
   "execution_count": 13,
   "metadata": {
    "ExecuteTime": {
     "end_time": "2019-03-24T22:59:28.757886Z",
     "start_time": "2019-03-24T22:59:28.744250Z"
    }
   },
   "outputs": [],
   "source": [
    "test_df = df.loc[df['split'] == 'test']\n",
    "test_ds = ProjectDataset.load_data_and_vectorizer(test_df, vectorizer_path)\n",
    "test_dl = DataLoader(test_ds, args.batch_size, shuffle=True, drop_last=True)"
   ]
  },
  {
   "cell_type": "code",
   "execution_count": 14,
   "metadata": {
    "ExecuteTime": {
     "end_time": "2019-03-24T22:59:28.771864Z",
     "start_time": "2019-03-24T22:59:28.759172Z"
    }
   },
   "outputs": [
    {
     "data": {
      "text/plain": [
       "(7680, 1640, 1660)"
      ]
     },
     "execution_count": 14,
     "metadata": {},
     "output_type": "execute_result"
    }
   ],
   "source": [
    "len(train_dl.dataset), len(val_dl.dataset), len(test_dl.dataset)"
   ]
  },
  {
   "cell_type": "markdown",
   "metadata": {},
   "source": [
    "## Model"
   ]
  },
  {
   "cell_type": "code",
   "execution_count": 15,
   "metadata": {
    "ExecuteTime": {
     "end_time": "2019-03-24T22:59:34.450429Z",
     "start_time": "2019-03-24T22:59:28.772815Z"
    }
   },
   "outputs": [],
   "source": [
    "classifier = Classifier(input_dim=len(vectorizer.surname_vocab), hidden_dim=args.hidden_dim, output_dim=len(vectorizer.nationality_vocab))\n",
    "optimizer = optim.Adam(classifier.parameters(), lr=args.learning_rate)\n",
    "class_weights = class_weights.to(args.device)\n",
    "loss_func = nn.CrossEntropyLoss(class_weights)\n",
    "\n",
    "pbar = ProgressBar(persist=True)\n",
    "metrics = {'accuracy': Accuracy(), 'loss': Loss(loss_func)}"
   ]
  },
  {
   "cell_type": "markdown",
   "metadata": {},
   "source": [
    "## Training"
   ]
  },
  {
   "cell_type": "code",
   "execution_count": 16,
   "metadata": {
    "ExecuteTime": {
     "end_time": "2019-03-24T23:01:36.997810Z",
     "start_time": "2019-03-24T22:59:46.187435Z"
    }
   },
   "outputs": [
    {
     "name": "stderr",
     "output_type": "stream",
     "text": [
      "Epoch [1/100]: [120/120] 100%|██████████, loss=2.70e+00 [00:01<00:00]\n",
      "Epoch [2/100]: [15/120]  12%|█▎        , loss=2.66e+00 [00:00<00:01]"
     ]
    },
    {
     "name": "stdout",
     "output_type": "stream",
     "text": [
      "Epoch: 1\n",
      "Training - Loss: 2.535, Accuracy: 0.426\n",
      "Validation - Loss: 2.569, Accuracy: 0.422\n"
     ]
    },
    {
     "name": "stderr",
     "output_type": "stream",
     "text": [
      "Epoch [2/100]: [120/120] 100%|██████████, loss=2.35e+00 [00:01<00:00]\n",
      "Epoch [3/100]: [15/120]  12%|█▎        , loss=2.27e+00 [00:00<00:01]"
     ]
    },
    {
     "name": "stdout",
     "output_type": "stream",
     "text": [
      "Epoch: 2\n",
      "Training - Loss: 2.144, Accuracy: 0.408\n",
      "Validation - Loss: 2.231, Accuracy: 0.383\n"
     ]
    },
    {
     "name": "stderr",
     "output_type": "stream",
     "text": [
      "Epoch [3/100]: [120/120] 100%|██████████, loss=2.06e+00 [00:01<00:00]\n",
      "Epoch [4/100]: [16/120]  13%|█▎        , loss=1.65e+00 [00:00<00:01]"
     ]
    },
    {
     "name": "stdout",
     "output_type": "stream",
     "text": [
      "Epoch: 3\n",
      "Training - Loss: 1.903, Accuracy: 0.449\n",
      "Validation - Loss: 2.037, Accuracy: 0.433\n"
     ]
    },
    {
     "name": "stderr",
     "output_type": "stream",
     "text": [
      "Epoch [4/100]: [120/120] 100%|██████████, loss=1.86e+00 [00:01<00:00]\n",
      "Epoch [5/100]: [15/120]  12%|█▎        , loss=1.80e+00 [00:00<00:01]"
     ]
    },
    {
     "name": "stdout",
     "output_type": "stream",
     "text": [
      "Epoch: 4\n",
      "Training - Loss: 1.758, Accuracy: 0.456\n",
      "Validation - Loss: 1.950, Accuracy: 0.427\n"
     ]
    },
    {
     "name": "stderr",
     "output_type": "stream",
     "text": [
      "Epoch [5/100]: [120/120] 100%|██████████, loss=1.80e+00 [00:01<00:00]\n",
      "Epoch [6/100]: [16/120]  13%|█▎        , loss=1.50e+00 [00:00<00:01]"
     ]
    },
    {
     "name": "stdout",
     "output_type": "stream",
     "text": [
      "Epoch: 5\n",
      "Training - Loss: 1.658, Accuracy: 0.465\n",
      "Validation - Loss: 1.905, Accuracy: 0.429\n"
     ]
    },
    {
     "name": "stderr",
     "output_type": "stream",
     "text": [
      "Epoch [6/100]: [120/120] 100%|██████████, loss=1.69e+00 [00:01<00:00]\n",
      "Epoch [7/100]: [15/120]  12%|█▎        , loss=1.78e+00 [00:00<00:01]"
     ]
    },
    {
     "name": "stdout",
     "output_type": "stream",
     "text": [
      "Epoch: 6\n",
      "Training - Loss: 1.596, Accuracy: 0.483\n",
      "Validation - Loss: 1.865, Accuracy: 0.439\n"
     ]
    },
    {
     "name": "stderr",
     "output_type": "stream",
     "text": [
      "Epoch [7/100]: [120/120] 100%|██████████, loss=1.68e+00 [00:01<00:00]\n",
      "Epoch [8/100]: [16/120]  13%|█▎        , loss=1.42e+00 [00:00<00:01]"
     ]
    },
    {
     "name": "stdout",
     "output_type": "stream",
     "text": [
      "Epoch: 7\n",
      "Training - Loss: 1.549, Accuracy: 0.490\n",
      "Validation - Loss: 1.839, Accuracy: 0.448\n"
     ]
    },
    {
     "name": "stderr",
     "output_type": "stream",
     "text": [
      "Epoch [8/100]: [120/120] 100%|██████████, loss=1.60e+00 [00:01<00:00]\n",
      "Epoch [9/100]: [16/120]  13%|█▎        , loss=1.73e+00 [00:00<00:01]"
     ]
    },
    {
     "name": "stdout",
     "output_type": "stream",
     "text": [
      "Epoch: 8\n",
      "Training - Loss: 1.504, Accuracy: 0.510\n",
      "Validation - Loss: 1.808, Accuracy: 0.459\n"
     ]
    },
    {
     "name": "stderr",
     "output_type": "stream",
     "text": [
      "Epoch [9/100]: [120/120] 100%|██████████, loss=1.61e+00 [00:01<00:00]\n",
      "Epoch [10/100]: [16/120]  13%|█▎        , loss=1.38e+00 [00:00<00:01]"
     ]
    },
    {
     "name": "stdout",
     "output_type": "stream",
     "text": [
      "Epoch: 9\n",
      "Training - Loss: 1.466, Accuracy: 0.485\n",
      "Validation - Loss: 1.807, Accuracy: 0.441\n"
     ]
    },
    {
     "name": "stderr",
     "output_type": "stream",
     "text": [
      "Epoch [10/100]: [120/120] 100%|██████████, loss=1.55e+00 [00:01<00:00]\n",
      "Epoch [11/100]: [16/120]  13%|█▎        , loss=1.43e+00 [00:00<00:01]"
     ]
    },
    {
     "name": "stdout",
     "output_type": "stream",
     "text": [
      "Epoch: 10\n",
      "Training - Loss: 1.435, Accuracy: 0.499\n",
      "Validation - Loss: 1.764, Accuracy: 0.453\n"
     ]
    },
    {
     "name": "stderr",
     "output_type": "stream",
     "text": [
      "Epoch [11/100]: [120/120] 100%|██████████, loss=1.50e+00 [00:01<00:00]\n",
      "Epoch [12/100]: [16/120]  13%|█▎        , loss=1.95e+00 [00:00<00:01]"
     ]
    },
    {
     "name": "stdout",
     "output_type": "stream",
     "text": [
      "Epoch: 11\n",
      "Training - Loss: 1.408, Accuracy: 0.509\n",
      "Validation - Loss: 1.771, Accuracy: 0.455\n"
     ]
    },
    {
     "name": "stderr",
     "output_type": "stream",
     "text": [
      "Epoch [12/100]: [120/120] 100%|██████████, loss=1.55e+00 [00:01<00:00]\n",
      "Epoch [13/100]: [16/120]  13%|█▎        , loss=1.95e+00 [00:00<00:01]"
     ]
    },
    {
     "name": "stdout",
     "output_type": "stream",
     "text": [
      "Epoch: 12\n",
      "Training - Loss: 1.382, Accuracy: 0.503\n",
      "Validation - Loss: 1.764, Accuracy: 0.446\n"
     ]
    },
    {
     "name": "stderr",
     "output_type": "stream",
     "text": [
      "Epoch [13/100]: [120/120] 100%|██████████, loss=1.57e+00 [00:01<00:00]\n",
      "Epoch [14/100]: [16/120]  13%|█▎        , loss=1.47e+00 [00:00<00:01]"
     ]
    },
    {
     "name": "stdout",
     "output_type": "stream",
     "text": [
      "Epoch: 13\n",
      "Training - Loss: 1.360, Accuracy: 0.495\n",
      "Validation - Loss: 1.745, Accuracy: 0.451\n"
     ]
    },
    {
     "name": "stderr",
     "output_type": "stream",
     "text": [
      "Epoch [14/100]: [120/120] 100%|██████████, loss=1.49e+00 [00:01<00:00]\n",
      "Epoch [15/100]: [15/120]  12%|█▎        , loss=1.16e+00 [00:00<00:01]"
     ]
    },
    {
     "name": "stdout",
     "output_type": "stream",
     "text": [
      "Epoch: 14\n",
      "Training - Loss: 1.327, Accuracy: 0.520\n",
      "Validation - Loss: 1.764, Accuracy: 0.463\n"
     ]
    },
    {
     "name": "stderr",
     "output_type": "stream",
     "text": [
      "Epoch [15/100]: [120/120] 100%|██████████, loss=1.41e+00 [00:01<00:00]\n",
      "Epoch [16/100]: [16/120]  13%|█▎        , loss=1.42e+00 [00:00<00:01]"
     ]
    },
    {
     "name": "stdout",
     "output_type": "stream",
     "text": [
      "Epoch: 15\n",
      "Training - Loss: 1.313, Accuracy: 0.515\n",
      "Validation - Loss: 1.752, Accuracy: 0.456\n"
     ]
    },
    {
     "name": "stderr",
     "output_type": "stream",
     "text": [
      "Epoch [16/100]: [120/120] 100%|██████████, loss=1.43e+00 [00:01<00:00]\n",
      "Epoch [17/100]: [15/120]  12%|█▎        , loss=1.25e+00 [00:00<00:01]"
     ]
    },
    {
     "name": "stdout",
     "output_type": "stream",
     "text": [
      "Epoch: 16\n",
      "Training - Loss: 1.290, Accuracy: 0.532\n",
      "Validation - Loss: 1.728, Accuracy: 0.477\n"
     ]
    },
    {
     "name": "stderr",
     "output_type": "stream",
     "text": [
      "Epoch [17/100]: [120/120] 100%|██████████, loss=1.40e+00 [00:01<00:00]\n",
      "Epoch [18/100]: [16/120]  13%|█▎        , loss=1.49e+00 [00:00<00:01]"
     ]
    },
    {
     "name": "stdout",
     "output_type": "stream",
     "text": [
      "Epoch: 17\n",
      "Training - Loss: 1.274, Accuracy: 0.537\n",
      "Validation - Loss: 1.719, Accuracy: 0.479\n"
     ]
    },
    {
     "name": "stderr",
     "output_type": "stream",
     "text": [
      "Epoch [18/100]: [120/120] 100%|██████████, loss=1.41e+00 [00:01<00:00]\n",
      "Epoch [19/100]: [15/120]  12%|█▎        , loss=1.14e+00 [00:00<00:01]"
     ]
    },
    {
     "name": "stdout",
     "output_type": "stream",
     "text": [
      "Epoch: 18\n",
      "Training - Loss: 1.251, Accuracy: 0.542\n",
      "Validation - Loss: 1.720, Accuracy: 0.480\n"
     ]
    },
    {
     "name": "stderr",
     "output_type": "stream",
     "text": [
      "Epoch [19/100]: [120/120] 100%|██████████, loss=1.35e+00 [00:01<00:00]\n",
      "Epoch [20/100]: [16/120]  13%|█▎        , loss=1.51e+00 [00:00<00:01]"
     ]
    },
    {
     "name": "stdout",
     "output_type": "stream",
     "text": [
      "Epoch: 19\n",
      "Training - Loss: 1.228, Accuracy: 0.531\n",
      "Validation - Loss: 1.710, Accuracy: 0.479\n"
     ]
    },
    {
     "name": "stderr",
     "output_type": "stream",
     "text": [
      "Epoch [20/100]: [120/120] 100%|██████████, loss=1.39e+00 [00:01<00:00]\n",
      "Epoch [21/100]: [15/120]  12%|█▎        , loss=1.21e+00 [00:00<00:01]"
     ]
    },
    {
     "name": "stdout",
     "output_type": "stream",
     "text": [
      "Epoch: 20\n",
      "Training - Loss: 1.220, Accuracy: 0.539\n",
      "Validation - Loss: 1.690, Accuracy: 0.482\n"
     ]
    },
    {
     "name": "stderr",
     "output_type": "stream",
     "text": [
      "Epoch [21/100]: [120/120] 100%|██████████, loss=1.33e+00 [00:01<00:00]\n",
      "Epoch [22/100]: [17/120]  14%|█▍        , loss=1.30e+00 [00:00<00:01]"
     ]
    },
    {
     "name": "stdout",
     "output_type": "stream",
     "text": [
      "Epoch: 21\n",
      "Training - Loss: 1.200, Accuracy: 0.560\n",
      "Validation - Loss: 1.698, Accuracy: 0.498\n"
     ]
    },
    {
     "name": "stderr",
     "output_type": "stream",
     "text": [
      "Epoch [22/100]: [120/120] 100%|██████████, loss=1.35e+00 [00:01<00:00]\n",
      "Epoch [23/100]: [15/120]  12%|█▎        , loss=1.55e+00 [00:00<00:01]"
     ]
    },
    {
     "name": "stdout",
     "output_type": "stream",
     "text": [
      "Epoch: 22\n",
      "Training - Loss: 1.183, Accuracy: 0.549\n",
      "Validation - Loss: 1.727, Accuracy: 0.477\n"
     ]
    },
    {
     "name": "stderr",
     "output_type": "stream",
     "text": [
      "Epoch [23/100]: [120/120] 100%|██████████, loss=1.34e+00 [00:01<00:00]\n",
      "Epoch [24/100]: [16/120]  13%|█▎        , loss=1.67e+00 [00:00<00:01]"
     ]
    },
    {
     "name": "stdout",
     "output_type": "stream",
     "text": [
      "Epoch: 23\n",
      "Training - Loss: 1.163, Accuracy: 0.576\n",
      "Validation - Loss: 1.706, Accuracy: 0.511\n"
     ]
    },
    {
     "name": "stderr",
     "output_type": "stream",
     "text": [
      "Epoch [24/100]: [120/120] 100%|██████████, loss=1.35e+00 [00:01<00:00]\n",
      "Epoch [25/100]: [15/120]  12%|█▎        , loss=1.04e+00 [00:00<00:01]"
     ]
    },
    {
     "name": "stdout",
     "output_type": "stream",
     "text": [
      "Epoch: 24\n",
      "Training - Loss: 1.146, Accuracy: 0.553\n",
      "Validation - Loss: 1.687, Accuracy: 0.486\n"
     ]
    },
    {
     "name": "stderr",
     "output_type": "stream",
     "text": [
      "Epoch [25/100]: [120/120] 100%|██████████, loss=1.28e+00 [00:01<00:00]\n",
      "Epoch [26/100]: [16/120]  13%|█▎        , loss=1.32e+00 [00:00<00:01]"
     ]
    },
    {
     "name": "stdout",
     "output_type": "stream",
     "text": [
      "Epoch: 25\n",
      "Training - Loss: 1.129, Accuracy: 0.570\n",
      "Validation - Loss: 1.691, Accuracy: 0.506\n"
     ]
    },
    {
     "name": "stderr",
     "output_type": "stream",
     "text": [
      "Epoch [26/100]: [120/120] 100%|██████████, loss=1.28e+00 [00:01<00:00]\n",
      "Epoch [27/100]: [15/120]  12%|█▎        , loss=1.24e+00 [00:00<00:01]"
     ]
    },
    {
     "name": "stdout",
     "output_type": "stream",
     "text": [
      "Epoch: 26\n",
      "Training - Loss: 1.115, Accuracy: 0.569\n",
      "Validation - Loss: 1.702, Accuracy: 0.500\n"
     ]
    },
    {
     "name": "stderr",
     "output_type": "stream",
     "text": [
      "Epoch [27/100]: [120/120] 100%|██████████, loss=1.29e+00 [00:01<00:00]\n",
      "Epoch [28/100]: [17/120]  14%|█▍        , loss=1.19e+00 [00:00<00:01]"
     ]
    },
    {
     "name": "stdout",
     "output_type": "stream",
     "text": [
      "Epoch: 27\n",
      "Training - Loss: 1.101, Accuracy: 0.588\n",
      "Validation - Loss: 1.681, Accuracy: 0.521\n"
     ]
    },
    {
     "name": "stderr",
     "output_type": "stream",
     "text": [
      "Epoch [28/100]: [120/120] 100%|██████████, loss=1.24e+00 [00:01<00:00]\n",
      "Epoch [29/100]: [16/120]  13%|█▎        , loss=1.12e+00 [00:00<00:01]"
     ]
    },
    {
     "name": "stdout",
     "output_type": "stream",
     "text": [
      "Epoch: 28\n",
      "Training - Loss: 1.083, Accuracy: 0.570\n",
      "Validation - Loss: 1.675, Accuracy: 0.498\n"
     ]
    },
    {
     "name": "stderr",
     "output_type": "stream",
     "text": [
      "Epoch [29/100]: [120/120] 100%|██████████, loss=1.23e+00 [00:01<00:00]\n",
      "Epoch [30/100]: [16/120]  13%|█▎        , loss=1.03e+00 [00:00<00:01]"
     ]
    },
    {
     "name": "stdout",
     "output_type": "stream",
     "text": [
      "Epoch: 29\n",
      "Training - Loss: 1.073, Accuracy: 0.573\n",
      "Validation - Loss: 1.671, Accuracy: 0.496\n"
     ]
    },
    {
     "name": "stderr",
     "output_type": "stream",
     "text": [
      "Epoch [30/100]: [120/120] 100%|██████████, loss=1.21e+00 [00:01<00:00]\n",
      "Epoch [31/100]: [15/120]  12%|█▎        , loss=1.12e+00 [00:00<00:01]"
     ]
    },
    {
     "name": "stdout",
     "output_type": "stream",
     "text": [
      "Epoch: 30\n",
      "Training - Loss: 1.065, Accuracy: 0.581\n",
      "Validation - Loss: 1.678, Accuracy: 0.504\n"
     ]
    },
    {
     "name": "stderr",
     "output_type": "stream",
     "text": [
      "Epoch [31/100]: [120/120] 100%|██████████, loss=1.21e+00 [00:01<00:00]\n",
      "Epoch [32/100]: [17/120]  14%|█▍        , loss=1.19e+00 [00:00<00:01]"
     ]
    },
    {
     "name": "stdout",
     "output_type": "stream",
     "text": [
      "Epoch: 31\n",
      "Training - Loss: 1.045, Accuracy: 0.583\n",
      "Validation - Loss: 1.670, Accuracy: 0.498\n"
     ]
    },
    {
     "name": "stderr",
     "output_type": "stream",
     "text": [
      "Epoch [32/100]: [120/120] 100%|██████████, loss=1.19e+00 [00:01<00:00]\n",
      "Epoch [33/100]: [15/120]  12%|█▎        , loss=1.15e+00 [00:00<00:01]"
     ]
    },
    {
     "name": "stdout",
     "output_type": "stream",
     "text": [
      "Epoch: 32\n",
      "Training - Loss: 1.040, Accuracy: 0.591\n",
      "Validation - Loss: 1.688, Accuracy: 0.509\n"
     ]
    },
    {
     "name": "stderr",
     "output_type": "stream",
     "text": [
      "Epoch [33/100]: [120/120] 100%|██████████, loss=1.21e+00 [00:01<00:00]\n",
      "Epoch [34/100]: [16/120]  13%|█▎        , loss=1.21e+00 [00:00<00:01]"
     ]
    },
    {
     "name": "stdout",
     "output_type": "stream",
     "text": [
      "Epoch: 33\n",
      "Training - Loss: 1.019, Accuracy: 0.600\n",
      "Validation - Loss: 1.701, Accuracy: 0.517\n"
     ]
    },
    {
     "name": "stderr",
     "output_type": "stream",
     "text": [
      "Epoch [34/100]: [120/120] 100%|██████████, loss=1.18e+00 [00:01<00:00]\n",
      "Epoch [35/100]: [16/120]  13%|█▎        , loss=1.18e+00 [00:00<00:01]"
     ]
    },
    {
     "name": "stdout",
     "output_type": "stream",
     "text": [
      "Epoch: 34\n",
      "Training - Loss: 1.005, Accuracy: 0.610\n",
      "Validation - Loss: 1.674, Accuracy: 0.522\n"
     ]
    },
    {
     "name": "stderr",
     "output_type": "stream",
     "text": [
      "Epoch [35/100]: [120/120] 100%|██████████, loss=1.18e+00 [00:01<00:00]\n",
      "Epoch [36/100]: [17/120]  14%|█▍        , loss=1.12e+00 [00:00<00:01]"
     ]
    },
    {
     "name": "stdout",
     "output_type": "stream",
     "text": [
      "Epoch: 35\n",
      "Training - Loss: 0.991, Accuracy: 0.598\n",
      "Validation - Loss: 1.659, Accuracy: 0.513\n"
     ]
    },
    {
     "name": "stderr",
     "output_type": "stream",
     "text": [
      "Epoch [36/100]: [120/120] 100%|██████████, loss=1.16e+00 [00:01<00:00]\n",
      "Epoch [37/100]: [16/120]  13%|█▎        , loss=1.09e+00 [00:00<00:01]"
     ]
    },
    {
     "name": "stdout",
     "output_type": "stream",
     "text": [
      "Epoch: 36\n",
      "Training - Loss: 0.982, Accuracy: 0.608\n",
      "Validation - Loss: 1.663, Accuracy: 0.526\n"
     ]
    },
    {
     "name": "stderr",
     "output_type": "stream",
     "text": [
      "Epoch [37/100]: [120/120] 100%|██████████, loss=1.13e+00 [00:01<00:00]\n",
      "Epoch [38/100]: [16/120]  13%|█▎        , loss=1.15e+00 [00:00<00:01]"
     ]
    },
    {
     "name": "stdout",
     "output_type": "stream",
     "text": [
      "Epoch: 37\n",
      "Training - Loss: 0.961, Accuracy: 0.612\n",
      "Validation - Loss: 1.668, Accuracy: 0.524\n"
     ]
    },
    {
     "name": "stderr",
     "output_type": "stream",
     "text": [
      "Epoch [38/100]: [120/120] 100%|██████████, loss=1.13e+00 [00:01<00:00]\n",
      "Epoch [39/100]: [15/120]  12%|█▎        , loss=1.12e+00 [00:00<00:01]"
     ]
    },
    {
     "name": "stdout",
     "output_type": "stream",
     "text": [
      "Epoch: 38\n",
      "Training - Loss: 0.953, Accuracy: 0.611\n",
      "Validation - Loss: 1.664, Accuracy: 0.524\n"
     ]
    },
    {
     "name": "stderr",
     "output_type": "stream",
     "text": [
      "Epoch [39/100]: [120/120] 100%|██████████, loss=1.14e+00 [00:01<00:00]\n",
      "Epoch [40/100]: [17/120]  14%|█▍        , loss=8.80e-01 [00:00<00:01]"
     ]
    },
    {
     "name": "stdout",
     "output_type": "stream",
     "text": [
      "Epoch: 39\n",
      "Training - Loss: 0.941, Accuracy: 0.619\n",
      "Validation - Loss: 1.684, Accuracy: 0.526\n"
     ]
    },
    {
     "name": "stderr",
     "output_type": "stream",
     "text": [
      "Epoch [40/100]: [120/120] 100%|██████████, loss=1.09e+00 [00:01<00:00]\n"
     ]
    },
    {
     "name": "stdout",
     "output_type": "stream",
     "text": [
      "Epoch: 40\n",
      "Training - Loss: 0.934, Accuracy: 0.625\n",
      "Validation - Loss: 1.701, Accuracy: 0.538\n"
     ]
    }
   ],
   "source": [
    "surname_trainer = Trainer(classifier, optimizer, loss_func, train_dl, val_dl, work_dir, args, pbar, metrics)\n",
    "surname_trainer.run()"
   ]
  },
  {
   "cell_type": "markdown",
   "metadata": {},
   "source": [
    "## Testing"
   ]
  },
  {
   "cell_type": "markdown",
   "metadata": {},
   "source": [
    "### Ignite Testing"
   ]
  },
  {
   "cell_type": "code",
   "execution_count": 17,
   "metadata": {
    "ExecuteTime": {
     "end_time": "2019-03-24T23:01:53.981992Z",
     "start_time": "2019-03-24T23:01:53.831655Z"
    }
   },
   "outputs": [],
   "source": [
    "args.device = 'cpu'\n",
    "classifier = Classifier(input_dim=len(vectorizer.surname_vocab), hidden_dim=args.hidden_dim,\\\n",
    "                        output_dim=len(vectorizer.nationality_vocab))\n",
    "state_dict = torch.load(work_dir/args.model_dir/'surname_classifier_40.pth')\n",
    "# state_dict = torch.load(work_dir/'surname_classifier_model.pth')\n",
    "classifier.load_state_dict(state_dict)\n",
    "\n",
    "class_weights = class_weights.to(args.device)\n",
    "loss_func = nn.CrossEntropyLoss(class_weights)\n",
    "metrics = {'accuracy': Accuracy(), 'loss': Loss(loss_func)}"
   ]
  },
  {
   "cell_type": "code",
   "execution_count": 18,
   "metadata": {
    "ExecuteTime": {
     "end_time": "2019-03-24T23:01:55.173952Z",
     "start_time": "2019-03-24T23:01:55.160278Z"
    }
   },
   "outputs": [],
   "source": [
    "evaluator = create_supervised_evaluator(classifier, metrics=metrics)\n",
    "\n",
    "@evaluator.on(Events.COMPLETED)\n",
    "def log_testing_results(engine):\n",
    "  metrics = engine.state.metrics\n",
    "  print(f\"Test loss: {metrics['loss']:0.3f}\")\n",
    "  print(f\"Test accuracy: {metrics['accuracy']:0.3f}\")"
   ]
  },
  {
   "cell_type": "code",
   "execution_count": 19,
   "metadata": {
    "ExecuteTime": {
     "end_time": "2019-03-24T23:01:55.514829Z",
     "start_time": "2019-03-24T23:01:55.174995Z"
    }
   },
   "outputs": [
    {
     "name": "stdout",
     "output_type": "stream",
     "text": [
      "Test loss: 1.717\n",
      "Test accuracy: 0.549\n"
     ]
    },
    {
     "data": {
      "text/plain": [
       "<ignite.engine.engine.State at 0x7fc4de0520b8>"
      ]
     },
     "execution_count": 19,
     "metadata": {},
     "output_type": "execute_result"
    }
   ],
   "source": [
    "evaluator.run(test_dl)"
   ]
  },
  {
   "cell_type": "markdown",
   "metadata": {},
   "source": [
    "### NLPBook Testing"
   ]
  },
  {
   "cell_type": "code",
   "execution_count": 20,
   "metadata": {
    "ExecuteTime": {
     "end_time": "2019-03-24T23:02:00.644798Z",
     "start_time": "2019-03-24T23:02:00.631296Z"
    }
   },
   "outputs": [],
   "source": [
    "def compute_accuracy(y_pred, y_target):\n",
    "  _, y_pred_indices = y_pred.max(dim=1)\n",
    "  n_correct = torch.eq(y_pred_indices, y_target).sum().item()\n",
    "  return n_correct / len(y_pred_indices) * 100"
   ]
  },
  {
   "cell_type": "code",
   "execution_count": 21,
   "metadata": {
    "ExecuteTime": {
     "end_time": "2019-03-24T23:02:00.977580Z",
     "start_time": "2019-03-24T23:02:00.645984Z"
    }
   },
   "outputs": [],
   "source": [
    "running_loss = 0.\n",
    "running_acc = 0.\n",
    "\n",
    "classifier.eval()\n",
    "for i, batch in enumerate(test_dl):\n",
    "  x,y = batch\n",
    "  y_pred = classifier(x_in=x.float())\n",
    "  \n",
    "  loss = loss_func(y_pred, y)\n",
    "  loss_t = loss.item()\n",
    "  running_loss += (loss_t-running_loss)/(i+1)\n",
    "  \n",
    "  acc_t = compute_accuracy(y_pred, y)\n",
    "  running_acc += (acc_t-running_acc)/(i+1)"
   ]
  },
  {
   "cell_type": "code",
   "execution_count": 22,
   "metadata": {
    "ExecuteTime": {
     "end_time": "2019-03-24T23:02:00.994123Z",
     "start_time": "2019-03-24T23:02:00.978931Z"
    }
   },
   "outputs": [
    {
     "name": "stdout",
     "output_type": "stream",
     "text": [
      "Test loss: 1.717\n",
      "Test acc: 54.562\n"
     ]
    }
   ],
   "source": [
    "print(f\"Test loss: {running_loss:0.3f}\")\n",
    "print(f\"Test acc: {running_acc:0.3f}\")"
   ]
  },
  {
   "cell_type": "markdown",
   "metadata": {},
   "source": [
    "## Inference"
   ]
  },
  {
   "cell_type": "markdown",
   "metadata": {},
   "source": [
    "### Single Inference"
   ]
  },
  {
   "cell_type": "code",
   "execution_count": 23,
   "metadata": {
    "ExecuteTime": {
     "end_time": "2019-03-24T23:02:05.993842Z",
     "start_time": "2019-03-24T23:02:05.977682Z"
    }
   },
   "outputs": [],
   "source": [
    "def predict_natinoality(surname, classifier, vectorizer):\n",
    "  \"\"\"\n",
    "    Predict the nationality from a new surname\n",
    "    \n",
    "    Args:\n",
    "      surname: the surname to classify\n",
    "      classifier: an instance of the classifier\n",
    "      vectorizer: the corresponding vectorizer\n",
    "      \n",
    "    Returns:\n",
    "      a dictionary with most likely natinoality and its probability\n",
    "  \"\"\"\n",
    "  vectorized_surname = vectorizer.vectorize(surname)\n",
    "  vectorized_surname = torch.tensor(vectorized_surname).view(1,-1)\n",
    "  result = classifier(vectorized_surname, apply_softmax=True)\n",
    "  \n",
    "  probability_values, indices = result.max(dim=1)\n",
    "  idx = indices.item()\n",
    "  \n",
    "  predicted_nationality = vectorizer.nationality_vocab.lookup_idx(idx)\n",
    "  probability_value = probability_values.item()\n",
    "  \n",
    "  return {'nationality': predicted_nationality, 'probability': probability_value}"
   ]
  },
  {
   "cell_type": "code",
   "execution_count": 25,
   "metadata": {
    "ExecuteTime": {
     "end_time": "2019-03-24T23:02:14.665798Z",
     "start_time": "2019-03-24T23:02:11.851465Z"
    }
   },
   "outputs": [
    {
     "name": "stdout",
     "output_type": "stream",
     "text": [
      "Enter a surname to classify: Srinivasan\n",
      "Srinivasan -> Italian p=0.36\n"
     ]
    }
   ],
   "source": [
    "new_surname = input(\"Enter a surname to classify: \")\n",
    "prediction = predict_natinoality(new_surname, classifier, vectorizer)\n",
    "print(f\"{new_surname} -> {prediction['nationality']} p={prediction['probability']:0.2f}\")"
   ]
  },
  {
   "cell_type": "markdown",
   "metadata": {},
   "source": [
    "### TopK Inference"
   ]
  },
  {
   "cell_type": "code",
   "execution_count": 26,
   "metadata": {
    "ExecuteTime": {
     "end_time": "2019-03-24T23:02:20.689288Z",
     "start_time": "2019-03-24T23:02:20.673157Z"
    }
   },
   "outputs": [],
   "source": [
    "def predict_topk_nationality(name, classifier, vectorizer, k=5):\n",
    "  vectorized_name = vectorizer.vectorize(name)\n",
    "  vectorized_name = torch.tensor(vectorized_name).view(1, -1)\n",
    "  prediction_vector = classifier(vectorized_name, apply_softmax=True)\n",
    "  probability_values, indices = torch.topk(prediction_vector, k=k)\n",
    "\n",
    "  # returned size is 1,k\n",
    "  probability_values = probability_values.detach().numpy()[0]\n",
    "  indices = indices.detach().numpy()[0]\n",
    "\n",
    "  results = []\n",
    "  for prob_value, idx in zip(probability_values, indices):\n",
    "      nationality = vectorizer.nationality_vocab.lookup_idx(idx)\n",
    "      results.append({'nationality': nationality, \n",
    "                      'probability': prob_value})\n",
    "\n",
    "  return results"
   ]
  },
  {
   "cell_type": "code",
   "execution_count": 27,
   "metadata": {
    "ExecuteTime": {
     "end_time": "2019-03-24T23:02:25.216330Z",
     "start_time": "2019-03-24T23:02:21.808575Z"
    }
   },
   "outputs": [
    {
     "name": "stdout",
     "output_type": "stream",
     "text": [
      "Enter a surname to classify: Srinivasan\n",
      "How many of the top predictions to see? 5\n",
      "Top 5 predictions:\n",
      "===================\n",
      "Srinivasan -> Italian p=0.36\n",
      "Srinivasan -> Russian p=0.15\n",
      "Srinivasan -> Greek p=0.13\n",
      "Srinivasan -> French p=0.12\n",
      "Srinivasan -> Czech p=0.08\n"
     ]
    }
   ],
   "source": [
    "new_surname = input(\"Enter a surname to classify: \")\n",
    "classifier = classifier.to(\"cpu\")\n",
    "\n",
    "k = int(input(\"How many of the top predictions to see? \"))\n",
    "if k > len(vectorizer.nationality_vocab):\n",
    "  print(\"Sorry! That's more than the # of nationalities we have.. defaulting you to max size :)\")\n",
    "  k = len(vectorizer.nationality_vocab)\n",
    "    \n",
    "predictions = predict_topk_nationality(new_surname, classifier, vectorizer, k=k)\n",
    "\n",
    "print(\"Top {} predictions:\".format(k))\n",
    "print(\"===================\")\n",
    "for prediction in predictions:\n",
    "  print(f\"{new_surname} -> {prediction['nationality']} p={prediction['probability']:0.2f}\")"
   ]
  }
 ],
 "metadata": {
  "kernelspec": {
   "display_name": "Python 3",
   "language": "python",
   "name": "python3"
  },
  "language_info": {
   "codemirror_mode": {
    "name": "ipython",
    "version": 3
   },
   "file_extension": ".py",
   "mimetype": "text/x-python",
   "name": "python",
   "nbconvert_exporter": "python",
   "pygments_lexer": "ipython3",
   "version": "3.7.2"
  },
  "toc": {
   "base_numbering": 1,
   "nav_menu": {},
   "number_sections": true,
   "sideBar": true,
   "skip_h1_title": true,
   "title_cell": "Table of Contents",
   "title_sidebar": "Contents",
   "toc_cell": true,
   "toc_position": {},
   "toc_section_display": true,
   "toc_window_display": false
  }
 },
 "nbformat": 4,
 "nbformat_minor": 2
}
