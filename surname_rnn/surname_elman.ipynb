{
 "cells": [
  {
   "cell_type": "markdown",
   "metadata": {
    "toc": true
   },
   "source": [
    "<h1>Table of Contents<span class=\"tocSkip\"></span></h1>\n",
    "<div class=\"toc\"><ul class=\"toc-item\"><li><span><a href=\"#Imports-&amp;-Inits\" data-toc-modified-id=\"Imports-&amp;-Inits-1\"><span class=\"toc-item-num\">1&nbsp;&nbsp;</span>Imports &amp; Inits</a></span></li><li><span><a href=\"#Data-Loading\" data-toc-modified-id=\"Data-Loading-2\"><span class=\"toc-item-num\">2&nbsp;&nbsp;</span>Data Loading</a></span></li><li><span><a href=\"#Model\" data-toc-modified-id=\"Model-3\"><span class=\"toc-item-num\">3&nbsp;&nbsp;</span>Model</a></span></li><li><span><a href=\"#Training\" data-toc-modified-id=\"Training-4\"><span class=\"toc-item-num\">4&nbsp;&nbsp;</span>Training</a></span></li><li><span><a href=\"#Testing\" data-toc-modified-id=\"Testing-5\"><span class=\"toc-item-num\">5&nbsp;&nbsp;</span>Testing</a></span><ul class=\"toc-item\"><li><span><a href=\"#Plots\" data-toc-modified-id=\"Plots-5.1\"><span class=\"toc-item-num\">5.1&nbsp;&nbsp;</span>Plots</a></span></li><li><span><a href=\"#Ignite-Testing\" data-toc-modified-id=\"Ignite-Testing-5.2\"><span class=\"toc-item-num\">5.2&nbsp;&nbsp;</span>Ignite Testing</a></span></li><li><span><a href=\"#NLPBook-Testing\" data-toc-modified-id=\"NLPBook-Testing-5.3\"><span class=\"toc-item-num\">5.3&nbsp;&nbsp;</span>NLPBook Testing</a></span></li></ul></li><li><span><a href=\"#Inference\" data-toc-modified-id=\"Inference-6\"><span class=\"toc-item-num\">6&nbsp;&nbsp;</span>Inference</a></span></li><li><span><a href=\"#Playground\" data-toc-modified-id=\"Playground-7\"><span class=\"toc-item-num\">7&nbsp;&nbsp;</span>Playground</a></span></li></ul></div>"
   ]
  },
  {
   "cell_type": "markdown",
   "metadata": {},
   "source": [
    "# Surname Classifier Using ElmanRNN"
   ]
  },
  {
   "cell_type": "markdown",
   "metadata": {},
   "source": [
    "## Imports & Inits"
   ]
  },
  {
   "cell_type": "code",
   "execution_count": 1,
   "metadata": {
    "ExecuteTime": {
     "end_time": "2019-04-01T20:31:50.624401Z",
     "start_time": "2019-04-01T20:31:50.613107Z"
    }
   },
   "outputs": [],
   "source": [
    "%load_ext autoreload\n",
    "%autoreload 2"
   ]
  },
  {
   "cell_type": "code",
   "execution_count": 2,
   "metadata": {
    "ExecuteTime": {
     "end_time": "2019-04-01T20:31:51.671128Z",
     "start_time": "2019-04-01T20:31:50.625798Z"
    }
   },
   "outputs": [],
   "source": [
    "import matplotlib.pyplot as plt\n",
    "%matplotlib inline\n",
    "\n",
    "import pdb\n",
    "import pandas as pd\n",
    "import numpy as np\n",
    "import torch\n",
    "import re\n",
    "\n",
    "from torch import nn\n",
    "from torch.nn import functional as F\n",
    "from torch import optim\n",
    "from torch.utils.data import DataLoader\n",
    "from pathlib import Path\n",
    "\n",
    "from ignite.engine import Events\n",
    "from ignite.metrics import Accuracy, Loss\n",
    "from ignite.contrib.handlers import ProgressBar"
   ]
  },
  {
   "cell_type": "code",
   "execution_count": 3,
   "metadata": {
    "ExecuteTime": {
     "end_time": "2019-04-01T20:31:51.742786Z",
     "start_time": "2019-04-01T20:31:51.672780Z"
    }
   },
   "outputs": [
    {
     "data": {
      "text/plain": [
       "{'path': PosixPath('../data/surnames'),\n",
       " 'workdir': PosixPath('../data/surnames/rnn_workdir'),\n",
       " 'proc_dataset_csv': PosixPath('../data/surnames/surnames_with_splits.csv'),\n",
       " 'model_dir': PosixPath('../data/surnames/rnn_workdir/models'),\n",
       " 'vectorizer_json': PosixPath('../data/surnames/rnn_workdir/elman_vectorizer.json'),\n",
       " 'metrics_file': PosixPath('../data/surnames/rnn_workdir/elman_metrics.csv'),\n",
       " 'class_weights_pth': PosixPath('../data/surnames/rnn_workdir/class_weights.pth'),\n",
       " 'char_embedding_sz': 100,\n",
       " 'rnn_hidden_sz': 64,\n",
       " 'bs': 64,\n",
       " 'lr': 0.001,\n",
       " 'n_epochs': 100,\n",
       " 'device': 'cuda:3',\n",
       " 'checkpointer_prefix': 'elman',\n",
       " 'checkpointer_name': 'classifier',\n",
       " 'es_patience': 5,\n",
       " 'save_every': 2,\n",
       " 'save_total': 5}"
      ]
     },
     "execution_count": 3,
     "metadata": {},
     "output_type": "execute_result"
    }
   ],
   "source": [
    "from surname.dataset import ElmanSurname\n",
    "from surname.containers import DataContainer, ModelContainer\n",
    "from surname.model import SurnameClassifier\n",
    "from surname.trainer import IgniteTrainer\n",
    "from surname.custom_engine import custom_evaluator\n",
    "from consts import consts\n",
    "vars(consts)"
   ]
  },
  {
   "cell_type": "markdown",
   "metadata": {},
   "source": [
    "## Data Loading"
   ]
  },
  {
   "cell_type": "code",
   "execution_count": 4,
   "metadata": {
    "ExecuteTime": {
     "end_time": "2019-04-01T20:31:51.777040Z",
     "start_time": "2019-04-01T20:31:51.744051Z"
    }
   },
   "outputs": [
    {
     "name": "stdout",
     "output_type": "stream",
     "text": [
      "(10980, 4)\n"
     ]
    },
    {
     "data": {
      "text/html": [
       "<div>\n",
       "<style scoped>\n",
       "    .dataframe tbody tr th:only-of-type {\n",
       "        vertical-align: middle;\n",
       "    }\n",
       "\n",
       "    .dataframe tbody tr th {\n",
       "        vertical-align: top;\n",
       "    }\n",
       "\n",
       "    .dataframe thead th {\n",
       "        text-align: right;\n",
       "    }\n",
       "</style>\n",
       "<table border=\"1\" class=\"dataframe\">\n",
       "  <thead>\n",
       "    <tr style=\"text-align: right;\">\n",
       "      <th></th>\n",
       "      <th>nationality</th>\n",
       "      <th>nationality_index</th>\n",
       "      <th>split</th>\n",
       "      <th>surname</th>\n",
       "    </tr>\n",
       "  </thead>\n",
       "  <tbody>\n",
       "    <tr>\n",
       "      <th>0</th>\n",
       "      <td>Arabic</td>\n",
       "      <td>15</td>\n",
       "      <td>train</td>\n",
       "      <td>Totah</td>\n",
       "    </tr>\n",
       "    <tr>\n",
       "      <th>1</th>\n",
       "      <td>Arabic</td>\n",
       "      <td>15</td>\n",
       "      <td>train</td>\n",
       "      <td>Abboud</td>\n",
       "    </tr>\n",
       "    <tr>\n",
       "      <th>2</th>\n",
       "      <td>Arabic</td>\n",
       "      <td>15</td>\n",
       "      <td>train</td>\n",
       "      <td>Fakhoury</td>\n",
       "    </tr>\n",
       "    <tr>\n",
       "      <th>3</th>\n",
       "      <td>Arabic</td>\n",
       "      <td>15</td>\n",
       "      <td>train</td>\n",
       "      <td>Srour</td>\n",
       "    </tr>\n",
       "    <tr>\n",
       "      <th>4</th>\n",
       "      <td>Arabic</td>\n",
       "      <td>15</td>\n",
       "      <td>train</td>\n",
       "      <td>Sayegh</td>\n",
       "    </tr>\n",
       "  </tbody>\n",
       "</table>\n",
       "</div>"
      ],
      "text/plain": [
       "  nationality  nationality_index  split   surname\n",
       "0      Arabic                 15  train     Totah\n",
       "1      Arabic                 15  train    Abboud\n",
       "2      Arabic                 15  train  Fakhoury\n",
       "3      Arabic                 15  train     Srour\n",
       "4      Arabic                 15  train    Sayegh"
      ]
     },
     "execution_count": 4,
     "metadata": {},
     "output_type": "execute_result"
    }
   ],
   "source": [
    "df = pd.read_csv(consts.proc_dataset_csv)\n",
    "print(df.shape)\n",
    "df.head()"
   ]
  },
  {
   "cell_type": "code",
   "execution_count": 5,
   "metadata": {
    "ExecuteTime": {
     "end_time": "2019-04-01T20:31:52.312261Z",
     "start_time": "2019-04-01T20:31:51.778063Z"
    }
   },
   "outputs": [
    {
     "name": "stdout",
     "output_type": "stream",
     "text": [
      "Creating and saving vectorizer\n"
     ]
    }
   ],
   "source": [
    "dc = DataContainer(df, ElmanSurname, consts.vectorizer_json, consts.bs, is_load=False)"
   ]
  },
  {
   "cell_type": "code",
   "execution_count": 14,
   "metadata": {
    "ExecuteTime": {
     "end_time": "2019-04-01T20:33:19.772640Z",
     "start_time": "2019-04-01T20:33:19.755487Z"
    }
   },
   "outputs": [],
   "source": [
    "try:\n",
    "  class_weights = torch.load(consts.class_weights_pth)\n",
    "except FileNotFoundError:\n",
    "  nationality_vocab = dc.nationality_vocab\n",
    "  class_counts = df['nationality'].value_counts().to_dict()\n",
    "  sorted_counts = sorted(class_counts.items(), key=lambda x: nationality_vocab.lookup_token(x[0]))\n",
    "  freq = [count for _, count in sorted_counts]\n",
    "  class_weights = 1.0/torch.tensor(freq, dtype=torch.float32)\n",
    "  torch.save(class_weights, consts.class_weights_pth)"
   ]
  },
  {
   "cell_type": "markdown",
   "metadata": {},
   "source": [
    "## Model"
   ]
  },
  {
   "cell_type": "code",
   "execution_count": 7,
   "metadata": {
    "ExecuteTime": {
     "end_time": "2019-04-01T20:32:05.828045Z",
     "start_time": "2019-04-01T20:32:00.063760Z"
    }
   },
   "outputs": [
    {
     "data": {
      "text/plain": [
       "SurnameClassifier(\n",
       "  (emb): Embedding(80, 100, padding_idx=0)\n",
       "  (rnn): ElmanRNN(\n",
       "    (rnn_cell): RNNCell(100, 64)\n",
       "  )\n",
       "  (dropout): Dropout(p=0.5)\n",
       "  (mlp): Sequential(\n",
       "    (0): Linear(in_features=64, out_features=64, bias=True)\n",
       "    (1): ReLU()\n",
       "    (2): Dropout(p=0.5)\n",
       "    (3): Linear(in_features=64, out_features=18, bias=True)\n",
       "  )\n",
       "  (softmax): Softmax()\n",
       ")"
      ]
     },
     "execution_count": 7,
     "metadata": {},
     "output_type": "execute_result"
    }
   ],
   "source": [
    "classifier = SurnameClassifier(consts.char_embedding_sz, dc.vocab_size, dc.n_classes, consts.rnn_hidden_sz, \\\n",
    "                       padding_idx=dc.surname_vocab.mask_idx)\n",
    "class_weights = class_weights.to(consts.device)\n",
    "loss_fn = nn.CrossEntropyLoss(class_weights)\n",
    "optimizer = optim.Adam(classifier.parameters(), lr=consts.lr)\n",
    "scheduler = optim.lr_scheduler.ReduceLROnPlateau(optimizer, 'min', 0.5, patience=1)\n",
    "mc = ModelContainer(classifier, optimizer, loss_fn, scheduler)\n",
    "mc.model"
   ]
  },
  {
   "cell_type": "code",
   "execution_count": null,
   "metadata": {
    "ExecuteTime": {
     "end_time": "2019-03-31T19:06:23.579007Z",
     "start_time": "2019-03-31T19:06:23.566641Z"
    }
   },
   "outputs": [],
   "source": [
    "itr = iter(dc.train_dl)"
   ]
  },
  {
   "cell_type": "code",
   "execution_count": null,
   "metadata": {
    "ExecuteTime": {
     "end_time": "2019-03-31T19:06:53.972367Z",
     "start_time": "2019-03-31T19:06:53.831558Z"
    }
   },
   "outputs": [],
   "source": [
    "inp,y = next(itr)\n",
    "y_pred = mc.model(x,l)\n",
    "loss_fn(y_pred, y)"
   ]
  },
  {
   "cell_type": "markdown",
   "metadata": {},
   "source": [
    "## Training"
   ]
  },
  {
   "cell_type": "code",
   "execution_count": 8,
   "metadata": {
    "ExecuteTime": {
     "end_time": "2019-04-01T20:32:15.106187Z",
     "start_time": "2019-04-01T20:32:15.084770Z"
    }
   },
   "outputs": [],
   "source": [
    "pbar = ProgressBar(persist=True)\n",
    "metrics = {'accuracy': Accuracy(), 'loss': Loss(loss_fn)}"
   ]
  },
  {
   "cell_type": "code",
   "execution_count": 9,
   "metadata": {
    "ExecuteTime": {
     "end_time": "2019-04-01T20:32:35.651851Z",
     "start_time": "2019-04-01T20:32:27.572972Z"
    }
   },
   "outputs": [
    {
     "name": "stderr",
     "output_type": "stream",
     "text": [
      "Epoch [1/2]: [120/120] 100%|██████████, loss=2.81e+00 [00:02<00:00]\n",
      "Epoch [2/2]: [9/120]   8%|▊         , loss=2.73e+00 [00:00<00:01]"
     ]
    },
    {
     "name": "stdout",
     "output_type": "stream",
     "text": [
      "Epoch: 1\n",
      "Training - Loss: 2.657, Accuracy: 0.284\n",
      "Validation - Loss: 2.680, Accuracy: 0.274\n",
      "Time per batch 1.556[s]\n"
     ]
    },
    {
     "name": "stderr",
     "output_type": "stream",
     "text": [
      "Epoch [2/2]: [120/120] 100%|██████████, loss=2.55e+00 [00:02<00:00]\n"
     ]
    },
    {
     "name": "stdout",
     "output_type": "stream",
     "text": [
      "Epoch: 2\n",
      "Training - Loss: 2.268, Accuracy: 0.371\n",
      "Validation - Loss: 2.337, Accuracy: 0.367\n",
      "Time per batch 1.552[s]\n",
      "Training Done. Total training time: 0:00:08.057258\n"
     ]
    }
   ],
   "source": [
    "consts.n_epochs=2\n",
    "ig = IgniteTrainer(mc, dc, consts, pbar, metrics)\n",
    "ig.run()"
   ]
  },
  {
   "cell_type": "markdown",
   "metadata": {},
   "source": [
    "## Testing"
   ]
  },
  {
   "cell_type": "markdown",
   "metadata": {},
   "source": [
    "### Plots"
   ]
  },
  {
   "cell_type": "code",
   "execution_count": 10,
   "metadata": {
    "ExecuteTime": {
     "end_time": "2019-04-01T20:32:38.253718Z",
     "start_time": "2019-04-01T20:32:38.235527Z"
    }
   },
   "outputs": [],
   "source": [
    "training_metrics = pd.read_csv(consts.metrics_file)\n",
    "training_metrics = training_metrics[:-1]"
   ]
  },
  {
   "cell_type": "code",
   "execution_count": 11,
   "metadata": {
    "ExecuteTime": {
     "end_time": "2019-04-01T20:32:38.495642Z",
     "start_time": "2019-04-01T20:32:38.255040Z"
    }
   },
   "outputs": [
    {
     "data": {
      "text/plain": [
       "<matplotlib.axes._subplots.AxesSubplot at 0x7f52994f8080>"
      ]
     },
     "execution_count": 11,
     "metadata": {},
     "output_type": "execute_result"
    },
    {
     "data": {
      "image/png": "[encoded data removed]",
      "text/plain": [
       "<Figure size 1080x360 with 2 Axes>"
      ]
     },
     "metadata": {
      "needs_background": "light"
     },
     "output_type": "display_data"
    }
   ],
   "source": [
    "fig, axes = plt.subplots(nrows=1, ncols=2, figsize=(15,5))\n",
    "training_metrics.plot(x='epoch', y=['training_loss', 'validation_loss'], kind='line',\n",
    "                      title='Training and validation loss', ax=axes[0])\n",
    "training_metrics.plot(x='epoch', y=['training_acc', 'validation_acc'], kind='line',\n",
    "                      title='Training and validation accuracy', ax=axes[1])"
   ]
  },
  {
   "cell_type": "markdown",
   "metadata": {},
   "source": [
    "### Ignite Testing"
   ]
  },
  {
   "cell_type": "code",
   "execution_count": 16,
   "metadata": {
    "ExecuteTime": {
     "end_time": "2019-04-01T20:33:37.051899Z",
     "start_time": "2019-04-01T20:33:37.034283Z"
    }
   },
   "outputs": [],
   "source": [
    "classifier = SurnameClassifier(consts.char_embedding_sz, dc.vocab_size, dc.n_classes, consts.rnn_hidden_sz, \\\n",
    "                       padding_idx=dc.surname_vocab.mask_idx)\n",
    "state_dict = torch.load(consts.workdir/'elman_classifier.pth')\n",
    "classifier.load_state_dict(state_dict)\n",
    "class_weights = class_weights.to('cpu')\n",
    "loss_fn = nn.CrossEntropyLoss(class_weights)\n",
    "metrics = {'accuracy': Accuracy(), 'loss': Loss(loss_fn)}"
   ]
  },
  {
   "cell_type": "code",
   "execution_count": 17,
   "metadata": {
    "ExecuteTime": {
     "end_time": "2019-04-01T20:33:38.076944Z",
     "start_time": "2019-04-01T20:33:37.685798Z"
    }
   },
   "outputs": [
    {
     "name": "stdout",
     "output_type": "stream",
     "text": [
      "Test loss: 1.634\n",
      "Test accuracy: 0.456\n"
     ]
    },
    {
     "data": {
      "text/plain": [
       "<ignite.engine.engine.State at 0x7f529946c7b8>"
      ]
     },
     "execution_count": 17,
     "metadata": {},
     "output_type": "execute_result"
    }
   ],
   "source": [
    "evaluator = custom_evaluator(classifier, metrics=metrics)\n",
    "\n",
    "@evaluator.on(Events.COMPLETED)\n",
    "def log_testing_results(engine):\n",
    "  metrics = engine.state.metrics\n",
    "  print(f\"Test loss: {metrics['loss']:0.3f}\")\n",
    "  print(f\"Test accuracy: {metrics['accuracy']:0.3f}\")\n",
    "\n",
    "evaluator.run(dc.test_dl)"
   ]
  },
  {
   "cell_type": "markdown",
   "metadata": {},
   "source": [
    "### NLPBook Testing"
   ]
  },
  {
   "cell_type": "code",
   "execution_count": 18,
   "metadata": {
    "ExecuteTime": {
     "end_time": "2019-04-01T20:33:40.036782Z",
     "start_time": "2019-04-01T20:33:39.627921Z"
    }
   },
   "outputs": [
    {
     "name": "stdout",
     "output_type": "stream",
     "text": [
      "Test loss: 1.675\n",
      "Test acc: 45.375%\n"
     ]
    }
   ],
   "source": [
    "def compute_accuracy(y_pred, y_target):\n",
    "  _, y_pred_indices = y_pred.max(dim=1)\n",
    "  n_correct = torch.eq(y_pred_indices, y_target).sum().item()\n",
    "  return n_correct / len(y_pred_indices) * 100\n",
    "\n",
    "running_loss = 0.\n",
    "running_acc = 0.\n",
    "\n",
    "classifier.eval()\n",
    "for i, batch in enumerate(dc.test_dl):\n",
    "  model_inp,y = batch\n",
    "  y_pred = classifier(*model_inp)\n",
    "  \n",
    "  loss = loss_fn(y_pred, y)\n",
    "  loss_t = loss.item()\n",
    "  running_loss += (loss_t-running_loss)/(i+1)\n",
    "  \n",
    "  acc_t = compute_accuracy(y_pred, y)\n",
    "  running_acc += (acc_t-running_acc)/(i+1)\n",
    "\n",
    "print(f\"Test loss: {running_loss:0.3f}\")\n",
    "print(f\"Test acc: {running_acc:0.3f}%\")"
   ]
  },
  {
   "cell_type": "markdown",
   "metadata": {},
   "source": [
    "## Inference"
   ]
  },
  {
   "cell_type": "code",
   "execution_count": 19,
   "metadata": {
    "ExecuteTime": {
     "end_time": "2019-04-01T20:33:42.596018Z",
     "start_time": "2019-04-01T20:33:42.580362Z"
    }
   },
   "outputs": [],
   "source": [
    "import math"
   ]
  },
  {
   "cell_type": "code",
   "execution_count": 20,
   "metadata": {
    "ExecuteTime": {
     "end_time": "2019-04-01T20:33:42.612509Z",
     "start_time": "2019-04-01T20:33:42.597195Z"
    }
   },
   "outputs": [],
   "source": [
    "def predict_nationality(surname, classifier, vectorizer):\n",
    "  vectorized_surname, vec_length = vectorizer.vectorize(surname, len(surname)+2)\n",
    "  vectorized_surname = torch.tensor(vectorized_surname).unsqueeze(dim=0) # bs of 1\n",
    "  vec_length = torch.tensor([vec_length], dtype=torch.int64)\n",
    "  \n",
    "  result = classifier(vectorized_surname, vec_length, apply_softmax=True)\n",
    "  assert(math.isclose(result.sum(dim=1).item(), 1.0, abs_tol=1e-7))\n",
    "  prob_vals, idxs = result.max(dim=1)\n",
    "  \n",
    "  idx = idxs.item()\n",
    "  prob_val = prob_vals.item()\n",
    "  \n",
    "  predicted_nationality = vectorizer.nationality_vocab.lookup_idx(idx)\n",
    "  return {'nationality': predicted_nationality, 'probability': prob_val, 'surname': surname}"
   ]
  },
  {
   "cell_type": "code",
   "execution_count": 21,
   "metadata": {
    "ExecuteTime": {
     "end_time": "2019-04-01T20:33:43.396320Z",
     "start_time": "2019-04-01T20:33:43.377853Z"
    }
   },
   "outputs": [
    {
     "name": "stdout",
     "output_type": "stream",
     "text": [
      "{'nationality': 'Irish', 'probability': 0.42430001497268677, 'surname': 'McMahan'}\n",
      "{'nationality': 'Japanese', 'probability': 0.8683664798736572, 'surname': 'Nakamoto'}\n",
      "{'nationality': 'Chinese', 'probability': 0.47296518087387085, 'surname': 'Wan'}\n",
      "{'nationality': 'Korean', 'probability': 0.4813567101955414, 'surname': 'Cho'}\n"
     ]
    }
   ],
   "source": [
    "for surname in ['McMahan', 'Nakamoto', 'Wan', 'Cho']:\n",
    "  print(predict_nationality(surname, classifier, dc.vectorizer))"
   ]
  },
  {
   "cell_type": "markdown",
   "metadata": {},
   "source": [
    "## Playground"
   ]
  },
  {
   "cell_type": "code",
   "execution_count": null,
   "metadata": {
    "ExecuteTime": {
     "end_time": "2019-03-31T14:58:49.303863Z",
     "start_time": "2019-03-31T14:58:49.234525Z"
    }
   },
   "outputs": [],
   "source": [
    "bs=3\n",
    "hidden_sz=7\n",
    "seq_sz =5 "
   ]
  },
  {
   "cell_type": "code",
   "execution_count": null,
   "metadata": {
    "ExecuteTime": {
     "end_time": "2019-03-31T14:58:49.318921Z",
     "start_time": "2019-03-31T14:58:49.305208Z"
    }
   },
   "outputs": [],
   "source": [
    "x_lens = torch.randint(1, seq_sz+1, (bs,))\n",
    "x_lens = x_lens.long().detach().cpu().numpy()-1\n",
    "y_out = torch.randn(bs, seq_sz, hidden_sz)"
   ]
  },
  {
   "cell_type": "code",
   "execution_count": null,
   "metadata": {
    "ExecuteTime": {
     "end_time": "2019-03-31T14:58:49.333806Z",
     "start_time": "2019-03-31T14:58:49.320222Z"
    }
   },
   "outputs": [],
   "source": [
    "print(x_lens.shape)\n",
    "x_lens"
   ]
  },
  {
   "cell_type": "code",
   "execution_count": null,
   "metadata": {
    "ExecuteTime": {
     "end_time": "2019-03-31T14:58:49.349130Z",
     "start_time": "2019-03-31T14:58:49.335043Z"
    }
   },
   "outputs": [],
   "source": [
    "print(y_out.shape)\n",
    "y_out"
   ]
  },
  {
   "cell_type": "code",
   "execution_count": null,
   "metadata": {
    "ExecuteTime": {
     "end_time": "2019-03-31T14:58:49.362427Z",
     "start_time": "2019-03-31T14:58:49.350084Z"
    }
   },
   "outputs": [],
   "source": [
    "out = []\n",
    "\n",
    "for batch_idx, column_idx in enumerate(x_lens):\n",
    "  out.append(y_out[batch_idx, column_idx])\n",
    "#   print(batch_idx, column_idx)"
   ]
  },
  {
   "cell_type": "code",
   "execution_count": null,
   "metadata": {
    "ExecuteTime": {
     "end_time": "2019-03-31T14:58:49.375812Z",
     "start_time": "2019-03-31T14:58:49.363497Z"
    }
   },
   "outputs": [],
   "source": [
    "y = torch.stack(out)"
   ]
  },
  {
   "cell_type": "code",
   "execution_count": null,
   "metadata": {
    "ExecuteTime": {
     "end_time": "2019-03-31T14:58:49.390314Z",
     "start_time": "2019-03-31T14:58:49.376865Z"
    }
   },
   "outputs": [],
   "source": [
    "print(y.shape)\n",
    "y"
   ]
  },
  {
   "cell_type": "code",
   "execution_count": null,
   "metadata": {
    "ExecuteTime": {
     "end_time": "2019-03-31T19:41:15.992869Z",
     "start_time": "2019-03-31T19:41:15.979240Z"
    }
   },
   "outputs": [],
   "source": [
    "bs=3\n",
    "hidden_sz=7\n",
    "seq_sz =5 "
   ]
  },
  {
   "cell_type": "code",
   "execution_count": null,
   "metadata": {
    "ExecuteTime": {
     "end_time": "2019-03-31T22:12:43.749634Z",
     "start_time": "2019-03-31T22:12:43.733148Z"
    }
   },
   "outputs": [],
   "source": [
    "from surname.elman import ElmanRNN\n",
    "e = ElmanRNN(consts.char_embedding_sz, consts.rnn_hidden_sz, batch_first=True)"
   ]
  },
  {
   "cell_type": "code",
   "execution_count": null,
   "metadata": {
    "ExecuteTime": {
     "end_time": "2019-03-31T22:12:43.770074Z",
     "start_time": "2019-03-31T22:12:43.751037Z"
    }
   },
   "outputs": [],
   "source": [
    "inp = torch.randn(2,10,100)\n",
    "e(inp)"
   ]
  },
  {
   "cell_type": "code",
   "execution_count": null,
   "metadata": {
    "ExecuteTime": {
     "end_time": "2019-03-31T22:12:50.675293Z",
     "start_time": "2019-03-31T22:12:44.973238Z"
    }
   },
   "outputs": [],
   "source": [
    "inp = inp.to('cuda:3')\n",
    "e = e.to('cuda:3')"
   ]
  },
  {
   "cell_type": "code",
   "execution_count": null,
   "metadata": {
    "ExecuteTime": {
     "end_time": "2019-03-31T19:42:00.906434Z",
     "start_time": "2019-03-31T19:42:00.891644Z"
    }
   },
   "outputs": [],
   "source": [
    "inp = inp.cpu()\n",
    "e = e.cpu()"
   ]
  },
  {
   "cell_type": "code",
   "execution_count": null,
   "metadata": {
    "ExecuteTime": {
     "end_time": "2019-03-31T22:12:50.925817Z",
     "start_time": "2019-03-31T22:12:50.677968Z"
    }
   },
   "outputs": [],
   "source": [
    "e(inp)"
   ]
  },
  {
   "cell_type": "code",
   "execution_count": null,
   "metadata": {
    "ExecuteTime": {
     "end_time": "2019-03-31T22:04:58.237564Z",
     "start_time": "2019-03-31T22:04:52.415006Z"
    }
   },
   "outputs": [],
   "source": [
    "x = torch.zeros(5, device='cuda:3')"
   ]
  },
  {
   "cell_type": "code",
   "execution_count": null,
   "metadata": {
    "ExecuteTime": {
     "end_time": "2019-03-31T22:05:05.520940Z",
     "start_time": "2019-03-31T22:05:05.500584Z"
    }
   },
   "outputs": [],
   "source": [
    "x"
   ]
  }
 ],
 "metadata": {
  "kernelspec": {
   "display_name": "Python 3",
   "language": "python",
   "name": "python3"
  },
  "language_info": {
   "codemirror_mode": {
    "name": "ipython",
    "version": 3
   },
   "file_extension": ".py",
   "mimetype": "text/x-python",
   "name": "python",
   "nbconvert_exporter": "python",
   "pygments_lexer": "ipython3",
   "version": "3.7.2"
  },
  "toc": {
   "base_numbering": 1,
   "nav_menu": {},
   "number_sections": true,
   "sideBar": true,
   "skip_h1_title": true,
   "title_cell": "Table of Contents",
   "title_sidebar": "Contents",
   "toc_cell": true,
   "toc_position": {},
   "toc_section_display": true,
   "toc_window_display": false
  }
 },
 "nbformat": 4,
 "nbformat_minor": 2
}
