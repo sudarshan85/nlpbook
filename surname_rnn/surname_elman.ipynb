{
 "cells": [
  {
   "cell_type": "markdown",
   "metadata": {
    "toc": true
   },
   "source": [
    "<h1>Table of Contents<span class=\"tocSkip\"></span></h1>\n",
    "<div class=\"toc\"><ul class=\"toc-item\"><li><span><a href=\"#Imports-&amp;-Inits\" data-toc-modified-id=\"Imports-&amp;-Inits-1\"><span class=\"toc-item-num\">1&nbsp;&nbsp;</span>Imports &amp; Inits</a></span></li><li><span><a href=\"#Data-Loading\" data-toc-modified-id=\"Data-Loading-2\"><span class=\"toc-item-num\">2&nbsp;&nbsp;</span>Data Loading</a></span></li><li><span><a href=\"#Model\" data-toc-modified-id=\"Model-3\"><span class=\"toc-item-num\">3&nbsp;&nbsp;</span>Model</a></span></li><li><span><a href=\"#Training\" data-toc-modified-id=\"Training-4\"><span class=\"toc-item-num\">4&nbsp;&nbsp;</span>Training</a></span></li><li><span><a href=\"#Misc\" data-toc-modified-id=\"Misc-5\"><span class=\"toc-item-num\">5&nbsp;&nbsp;</span>Misc</a></span></li></ul></div>"
   ]
  },
  {
   "cell_type": "markdown",
   "metadata": {},
   "source": [
    "# Surname Classifier Using ElmanRNN"
   ]
  },
  {
   "cell_type": "markdown",
   "metadata": {},
   "source": [
    "## Imports & Inits"
   ]
  },
  {
   "cell_type": "code",
   "execution_count": 1,
   "metadata": {
    "ExecuteTime": {
     "end_time": "2019-03-31T22:10:43.902432Z",
     "start_time": "2019-03-31T22:10:43.891211Z"
    }
   },
   "outputs": [],
   "source": [
    "%load_ext autoreload\n",
    "%autoreload 2"
   ]
  },
  {
   "cell_type": "code",
   "execution_count": 2,
   "metadata": {
    "ExecuteTime": {
     "end_time": "2019-03-31T22:10:44.970831Z",
     "start_time": "2019-03-31T22:10:43.903624Z"
    }
   },
   "outputs": [],
   "source": [
    "import matplotlib.pyplot as plt\n",
    "%matplotlib inline\n",
    "\n",
    "import pdb\n",
    "import pandas as pd\n",
    "import numpy as np\n",
    "import torch\n",
    "import re\n",
    "\n",
    "from torch import nn\n",
    "from torch.nn import functional as F\n",
    "from torch import optim\n",
    "from torch.utils.data import DataLoader\n",
    "from pathlib import Path\n",
    "\n",
    "from ignite.engine import Events, create_supervised_evaluator\n",
    "from ignite.metrics import Accuracy, Loss\n",
    "from ignite.contrib.handlers import ProgressBar"
   ]
  },
  {
   "cell_type": "code",
   "execution_count": 3,
   "metadata": {
    "ExecuteTime": {
     "end_time": "2019-03-31T22:10:45.041892Z",
     "start_time": "2019-03-31T22:10:44.972458Z"
    }
   },
   "outputs": [
    {
     "data": {
      "text/plain": [
       "{'path': PosixPath('../data/surnames'),\n",
       " 'workdir': PosixPath('../data/surnames/rnn_workdir'),\n",
       " 'proc_dataset_csv': PosixPath('../data/surnames/surnames_with_splits.csv'),\n",
       " 'model_dir': PosixPath('../data/surnames/rnn_workdir/models'),\n",
       " 'vectorizer_json': PosixPath('../data/surnames/rnn_workdir/elman_vectorizer.json'),\n",
       " 'metrics_file': PosixPath('../data/surnames/rnn_workdir/elman_metrics.csv'),\n",
       " 'class_weights_pth': PosixPath('../data/surnames/rnn_workdir/class_weights.pth'),\n",
       " 'char_embedding_sz': 100,\n",
       " 'rnn_hidden_sz': 64,\n",
       " 'bs': 64,\n",
       " 'lr': 0.001,\n",
       " 'n_epochs': 97,\n",
       " 'device': 'cuda:3',\n",
       " 'checkpointer_prefix': 'elman',\n",
       " 'checkpointer_name': 'classifier',\n",
       " 'es_patience': 11,\n",
       " 'save_every': 2,\n",
       " 'save_total': 5}"
      ]
     },
     "execution_count": 3,
     "metadata": {},
     "output_type": "execute_result"
    }
   ],
   "source": [
    "from surname.dataset import SurnameDataset\n",
    "from surname.containers import DataContainer, ModelContainer\n",
    "from surname.model import SurnameClassifier\n",
    "from surname.trainer import IgniteTrainer\n",
    "from consts import consts\n",
    "vars(consts)"
   ]
  },
  {
   "cell_type": "markdown",
   "metadata": {},
   "source": [
    "## Data Loading"
   ]
  },
  {
   "cell_type": "code",
   "execution_count": null,
   "metadata": {
    "ExecuteTime": {
     "end_time": "2019-03-31T19:18:04.159331Z",
     "start_time": "2019-03-31T19:18:04.127904Z"
    }
   },
   "outputs": [],
   "source": [
    "df = pd.read_csv(consts.proc_dataset_csv)\n",
    "print(df.shape)\n",
    "df.head()"
   ]
  },
  {
   "cell_type": "code",
   "execution_count": null,
   "metadata": {
    "ExecuteTime": {
     "end_time": "2019-03-31T19:18:05.688032Z",
     "start_time": "2019-03-31T19:18:05.669025Z"
    }
   },
   "outputs": [],
   "source": [
    "dc = DataContainer(df, SurnameDataset, consts.vectorizer_json, consts.bs, is_load=True)"
   ]
  },
  {
   "cell_type": "code",
   "execution_count": null,
   "metadata": {
    "ExecuteTime": {
     "end_time": "2019-03-31T19:18:06.149154Z",
     "start_time": "2019-03-31T19:18:06.133822Z"
    }
   },
   "outputs": [],
   "source": [
    "try:\n",
    "  class_weights = torch.load(consts.class_weights_pth)\n",
    "except FileNotFoundError:\n",
    "  nationality_vocab = dc.nationality_vocab\n",
    "  class_counts = df['nationality'].value_counts().to_dict()\n",
    "  sorted_counts = sorted(class_counts.items(), key=lambda x: nationality_vocab.lookup_token(x[0]))\n",
    "  freq = [count for _, count in sorted_counts]\n",
    "  class_weights = 1.0/torch.tensor(freq, dtype=torch.float32)\n",
    "  torch.save(class_weights, consts.class_weights_pth)"
   ]
  },
  {
   "cell_type": "markdown",
   "metadata": {},
   "source": [
    "## Model"
   ]
  },
  {
   "cell_type": "code",
   "execution_count": null,
   "metadata": {
    "ExecuteTime": {
     "end_time": "2019-03-31T19:18:12.471683Z",
     "start_time": "2019-03-31T19:18:06.718671Z"
    }
   },
   "outputs": [],
   "source": [
    "classifier = SurnameClassifier(consts.char_embedding_sz, dc.vocab_size, dc.n_classes, consts.rnn_hidden_sz, \\\n",
    "                       padding_idx=dc.surname_vocab.mask_idx)\n",
    "class_weights = class_weights.to(consts.device)\n",
    "loss_fn = nn.CrossEntropyLoss(class_weights)\n",
    "optimizer = optim.Adam(classifier.parameters(), lr=consts.lr)\n",
    "scheduler = optim.lr_scheduler.ReduceLROnPlateau(optimizer, 'min', 0.5, patience=1)\n",
    "mc = ModelContainer(classifier, optimizer, loss_fn, scheduler)\n",
    "mc.model"
   ]
  },
  {
   "cell_type": "code",
   "execution_count": null,
   "metadata": {
    "ExecuteTime": {
     "end_time": "2019-03-31T19:06:23.579007Z",
     "start_time": "2019-03-31T19:06:23.566641Z"
    }
   },
   "outputs": [],
   "source": [
    "itr = iter(dc.train_dl)"
   ]
  },
  {
   "cell_type": "code",
   "execution_count": null,
   "metadata": {
    "ExecuteTime": {
     "end_time": "2019-03-31T19:06:53.972367Z",
     "start_time": "2019-03-31T19:06:53.831558Z"
    }
   },
   "outputs": [],
   "source": [
    "inp,y = next(itr)\n",
    "# y_pred = mc.model(x,l)\n",
    "# loss_fn(y_pred, y)"
   ]
  },
  {
   "cell_type": "code",
   "execution_count": null,
   "metadata": {
    "ExecuteTime": {
     "end_time": "2019-03-31T19:06:56.278113Z",
     "start_time": "2019-03-31T19:06:56.264056Z"
    }
   },
   "outputs": [],
   "source": [
    "f(*inp)"
   ]
  },
  {
   "cell_type": "code",
   "execution_count": null,
   "metadata": {
    "ExecuteTime": {
     "end_time": "2019-03-31T19:06:55.529032Z",
     "start_time": "2019-03-31T19:06:55.514755Z"
    }
   },
   "outputs": [],
   "source": [
    "def f(x_in, x_lens, apply_softmax=False):\n",
    "#   x_in = args[0][0]\n",
    "#   x_lens = args[0][1]\n",
    "#   x_in = args[0]\n",
    "#   x_lens = args[1]\n",
    "  \n",
    "  print(x_in.shape, x_lens.shape)"
   ]
  },
  {
   "cell_type": "markdown",
   "metadata": {},
   "source": [
    "## Training"
   ]
  },
  {
   "cell_type": "code",
   "execution_count": null,
   "metadata": {
    "ExecuteTime": {
     "end_time": "2019-03-31T19:18:15.197816Z",
     "start_time": "2019-03-31T19:18:15.110466Z"
    }
   },
   "outputs": [],
   "source": [
    "pbar = ProgressBar(persist=True)\n",
    "metrics = {'accuray': Accuracy(), 'loss': Loss(loss_fn)}"
   ]
  },
  {
   "cell_type": "code",
   "execution_count": null,
   "metadata": {
    "ExecuteTime": {
     "end_time": "2019-03-31T19:18:15.215467Z",
     "start_time": "2019-03-31T19:18:15.199270Z"
    }
   },
   "outputs": [],
   "source": [
    "consts.n_epochs=2\n",
    "ig = IgniteTrainer(mc, dc, consts, pbar, metrics)"
   ]
  },
  {
   "cell_type": "code",
   "execution_count": null,
   "metadata": {
    "ExecuteTime": {
     "end_time": "2019-03-31T19:18:16.335175Z",
     "start_time": "2019-03-31T19:18:16.289473Z"
    },
    "scrolled": false
   },
   "outputs": [],
   "source": [
    "ig.run()"
   ]
  },
  {
   "cell_type": "code",
   "execution_count": null,
   "metadata": {
    "ExecuteTime": {
     "end_time": "2019-03-31T19:19:40.552289Z",
     "start_time": "2019-03-31T19:18:42.085419Z"
    }
   },
   "outputs": [],
   "source": [
    "%debug"
   ]
  },
  {
   "cell_type": "markdown",
   "metadata": {},
   "source": [
    "## Misc"
   ]
  },
  {
   "cell_type": "code",
   "execution_count": null,
   "metadata": {
    "ExecuteTime": {
     "end_time": "2019-03-31T14:58:49.303863Z",
     "start_time": "2019-03-31T14:58:49.234525Z"
    }
   },
   "outputs": [],
   "source": [
    "bs=3\n",
    "hidden_sz=7\n",
    "seq_sz =5 "
   ]
  },
  {
   "cell_type": "code",
   "execution_count": null,
   "metadata": {
    "ExecuteTime": {
     "end_time": "2019-03-31T14:58:49.318921Z",
     "start_time": "2019-03-31T14:58:49.305208Z"
    }
   },
   "outputs": [],
   "source": [
    "x_lens = torch.randint(1, seq_sz+1, (bs,))\n",
    "x_lens = x_lens.long().detach().cpu().numpy()-1\n",
    "y_out = torch.randn(bs, seq_sz, hidden_sz)"
   ]
  },
  {
   "cell_type": "code",
   "execution_count": null,
   "metadata": {
    "ExecuteTime": {
     "end_time": "2019-03-31T14:58:49.333806Z",
     "start_time": "2019-03-31T14:58:49.320222Z"
    }
   },
   "outputs": [],
   "source": [
    "print(x_lens.shape)\n",
    "x_lens"
   ]
  },
  {
   "cell_type": "code",
   "execution_count": null,
   "metadata": {
    "ExecuteTime": {
     "end_time": "2019-03-31T14:58:49.349130Z",
     "start_time": "2019-03-31T14:58:49.335043Z"
    }
   },
   "outputs": [],
   "source": [
    "print(y_out.shape)\n",
    "y_out"
   ]
  },
  {
   "cell_type": "code",
   "execution_count": null,
   "metadata": {
    "ExecuteTime": {
     "end_time": "2019-03-31T14:58:49.362427Z",
     "start_time": "2019-03-31T14:58:49.350084Z"
    }
   },
   "outputs": [],
   "source": [
    "out = []\n",
    "\n",
    "for batch_idx, column_idx in enumerate(x_lens):\n",
    "  out.append(y_out[batch_idx, column_idx])\n",
    "#   print(batch_idx, column_idx)"
   ]
  },
  {
   "cell_type": "code",
   "execution_count": null,
   "metadata": {
    "ExecuteTime": {
     "end_time": "2019-03-31T14:58:49.375812Z",
     "start_time": "2019-03-31T14:58:49.363497Z"
    }
   },
   "outputs": [],
   "source": [
    "y = torch.stack(out)"
   ]
  },
  {
   "cell_type": "code",
   "execution_count": null,
   "metadata": {
    "ExecuteTime": {
     "end_time": "2019-03-31T14:58:49.390314Z",
     "start_time": "2019-03-31T14:58:49.376865Z"
    }
   },
   "outputs": [],
   "source": [
    "print(y.shape)\n",
    "y"
   ]
  },
  {
   "cell_type": "code",
   "execution_count": null,
   "metadata": {
    "ExecuteTime": {
     "end_time": "2019-03-31T19:41:15.992869Z",
     "start_time": "2019-03-31T19:41:15.979240Z"
    }
   },
   "outputs": [],
   "source": [
    "bs=3\n",
    "hidden_sz=7\n",
    "seq_sz =5 "
   ]
  },
  {
   "cell_type": "code",
   "execution_count": 4,
   "metadata": {
    "ExecuteTime": {
     "end_time": "2019-03-31T22:10:49.278850Z",
     "start_time": "2019-03-31T22:10:49.262078Z"
    }
   },
   "outputs": [],
   "source": [
    "from surname.elman import ElmanRNN\n",
    "e = ElmanRNN(consts.char_embedding_sz, consts.rnn_hidden_sz, batch_first=True)"
   ]
  },
  {
   "cell_type": "code",
   "execution_count": 5,
   "metadata": {
    "ExecuteTime": {
     "end_time": "2019-03-31T22:10:50.177560Z",
     "start_time": "2019-03-31T22:10:50.159236Z"
    }
   },
   "outputs": [
    {
     "data": {
      "text/plain": [
       "tensor([[[-0.5691,  0.9601, -0.1866,  ...,  0.2022, -0.1335, -0.5653],\n",
       "         [ 0.2962, -0.1956,  0.7913,  ...,  0.1010,  0.0103, -0.7296],\n",
       "         [ 0.7989,  0.5877,  0.5918,  ...,  0.6926, -0.5163, -0.3968],\n",
       "         ...,\n",
       "         [ 0.4169,  0.7637, -0.6288,  ..., -0.5383,  0.8708,  0.4124],\n",
       "         [-0.6200, -0.5039, -0.1494,  ..., -0.3323,  0.7859, -0.7193],\n",
       "         [ 0.0745, -0.3591,  0.0318,  ...,  0.0753,  0.5478, -0.8766]],\n",
       "\n",
       "        [[-0.8320, -0.3385, -0.4728,  ..., -0.6391,  0.3053, -0.8308],\n",
       "         [ 0.3537, -0.7650,  0.8903,  ..., -0.3771, -0.0213, -0.0107],\n",
       "         [-0.3165,  0.8988, -0.3397,  ...,  0.4064, -0.9452,  0.8035],\n",
       "         ...,\n",
       "         [-0.0522,  0.3082, -0.6157,  ...,  0.2660, -0.0645,  0.2667],\n",
       "         [ 0.6754,  0.5227,  0.5624,  ..., -0.6347, -0.5460,  0.1425],\n",
       "         [-0.6997, -0.4942, -0.5160,  ..., -0.8357, -0.2817, -0.9316]]],\n",
       "       grad_fn=<PermuteBackward>)"
      ]
     },
     "execution_count": 5,
     "metadata": {},
     "output_type": "execute_result"
    }
   ],
   "source": [
    "inp = torch.randn(2,10,100)\n",
    "e(inp)"
   ]
  },
  {
   "cell_type": "code",
   "execution_count": 6,
   "metadata": {
    "ExecuteTime": {
     "end_time": "2019-03-31T22:10:57.176728Z",
     "start_time": "2019-03-31T22:10:51.279895Z"
    }
   },
   "outputs": [],
   "source": [
    "inp = inp.to('cuda:3')\n",
    "e = e.to('cuda:3')"
   ]
  },
  {
   "cell_type": "code",
   "execution_count": null,
   "metadata": {
    "ExecuteTime": {
     "end_time": "2019-03-31T19:42:00.906434Z",
     "start_time": "2019-03-31T19:42:00.891644Z"
    }
   },
   "outputs": [],
   "source": [
    "inp = inp.cpu()\n",
    "e = e.cpu()"
   ]
  },
  {
   "cell_type": "code",
   "execution_count": 7,
   "metadata": {
    "ExecuteTime": {
     "end_time": "2019-03-31T22:10:58.014929Z",
     "start_time": "2019-03-31T22:10:57.872048Z"
    }
   },
   "outputs": [
    {
     "ename": "RuntimeError",
     "evalue": "Expected object of backend CUDA but got backend CPU for argument #4 'mat1'",
     "output_type": "error",
     "traceback": [
      "\u001b[0;31m---------------------------------------------------------------------------\u001b[0m",
      "\u001b[0;31mRuntimeError\u001b[0m                              Traceback (most recent call last)",
      "\u001b[0;32m<ipython-input-7-11485f7ab223>\u001b[0m in \u001b[0;36m<module>\u001b[0;34m\u001b[0m\n\u001b[0;32m----> 1\u001b[0;31m \u001b[0me\u001b[0m\u001b[0;34m(\u001b[0m\u001b[0minp\u001b[0m\u001b[0;34m)\u001b[0m\u001b[0;34m\u001b[0m\u001b[0;34m\u001b[0m\u001b[0m\n\u001b[0m",
      "\u001b[0;32m/net/vaosl01/opt/NFS/su0/anaconda3/envs/nlpbook/lib/python3.7/site-packages/torch/nn/modules/module.py\u001b[0m in \u001b[0;36m__call__\u001b[0;34m(self, *input, **kwargs)\u001b[0m\n\u001b[1;32m    487\u001b[0m             \u001b[0mresult\u001b[0m \u001b[0;34m=\u001b[0m \u001b[0mself\u001b[0m\u001b[0;34m.\u001b[0m\u001b[0m_slow_forward\u001b[0m\u001b[0;34m(\u001b[0m\u001b[0;34m*\u001b[0m\u001b[0minput\u001b[0m\u001b[0;34m,\u001b[0m \u001b[0;34m**\u001b[0m\u001b[0mkwargs\u001b[0m\u001b[0;34m)\u001b[0m\u001b[0;34m\u001b[0m\u001b[0;34m\u001b[0m\u001b[0m\n\u001b[1;32m    488\u001b[0m         \u001b[0;32melse\u001b[0m\u001b[0;34m:\u001b[0m\u001b[0;34m\u001b[0m\u001b[0;34m\u001b[0m\u001b[0m\n\u001b[0;32m--> 489\u001b[0;31m             \u001b[0mresult\u001b[0m \u001b[0;34m=\u001b[0m \u001b[0mself\u001b[0m\u001b[0;34m.\u001b[0m\u001b[0mforward\u001b[0m\u001b[0;34m(\u001b[0m\u001b[0;34m*\u001b[0m\u001b[0minput\u001b[0m\u001b[0;34m,\u001b[0m \u001b[0;34m**\u001b[0m\u001b[0mkwargs\u001b[0m\u001b[0;34m)\u001b[0m\u001b[0;34m\u001b[0m\u001b[0;34m\u001b[0m\u001b[0m\n\u001b[0m\u001b[1;32m    490\u001b[0m         \u001b[0;32mfor\u001b[0m \u001b[0mhook\u001b[0m \u001b[0;32min\u001b[0m \u001b[0mself\u001b[0m\u001b[0;34m.\u001b[0m\u001b[0m_forward_hooks\u001b[0m\u001b[0;34m.\u001b[0m\u001b[0mvalues\u001b[0m\u001b[0;34m(\u001b[0m\u001b[0;34m)\u001b[0m\u001b[0;34m:\u001b[0m\u001b[0;34m\u001b[0m\u001b[0;34m\u001b[0m\u001b[0m\n\u001b[1;32m    491\u001b[0m             \u001b[0mhook_result\u001b[0m \u001b[0;34m=\u001b[0m \u001b[0mhook\u001b[0m\u001b[0;34m(\u001b[0m\u001b[0mself\u001b[0m\u001b[0;34m,\u001b[0m \u001b[0minput\u001b[0m\u001b[0;34m,\u001b[0m \u001b[0mresult\u001b[0m\u001b[0;34m)\u001b[0m\u001b[0;34m\u001b[0m\u001b[0;34m\u001b[0m\u001b[0m\n",
      "\u001b[0;32m~/nlpbook/surname_rnn/surname/elman.py\u001b[0m in \u001b[0;36mforward\u001b[0;34m(self, x_in, init_hidden)\u001b[0m\n\u001b[1;32m     53\u001b[0m \u001b[0;34m\u001b[0m\u001b[0m\n\u001b[1;32m     54\u001b[0m     \u001b[0;32mfor\u001b[0m \u001b[0mt\u001b[0m \u001b[0;32min\u001b[0m \u001b[0mrange\u001b[0m\u001b[0;34m(\u001b[0m\u001b[0mseq_sz\u001b[0m\u001b[0;34m)\u001b[0m\u001b[0;34m:\u001b[0m\u001b[0;34m\u001b[0m\u001b[0;34m\u001b[0m\u001b[0m\n\u001b[0;32m---> 55\u001b[0;31m       \u001b[0mhidden_t\u001b[0m \u001b[0;34m=\u001b[0m \u001b[0mself\u001b[0m\u001b[0;34m.\u001b[0m\u001b[0mrnn_cell\u001b[0m\u001b[0;34m(\u001b[0m\u001b[0mx_in\u001b[0m\u001b[0;34m[\u001b[0m\u001b[0mt\u001b[0m\u001b[0;34m]\u001b[0m\u001b[0;34m,\u001b[0m \u001b[0mhidden_t\u001b[0m\u001b[0;34m)\u001b[0m\u001b[0;34m\u001b[0m\u001b[0;34m\u001b[0m\u001b[0m\n\u001b[0m\u001b[1;32m     56\u001b[0m       \u001b[0mhiddens\u001b[0m\u001b[0;34m.\u001b[0m\u001b[0mappend\u001b[0m\u001b[0;34m(\u001b[0m\u001b[0mhidden_t\u001b[0m\u001b[0;34m)\u001b[0m\u001b[0;34m\u001b[0m\u001b[0;34m\u001b[0m\u001b[0m\n\u001b[1;32m     57\u001b[0m \u001b[0;34m\u001b[0m\u001b[0m\n",
      "\u001b[0;32m/net/vaosl01/opt/NFS/su0/anaconda3/envs/nlpbook/lib/python3.7/site-packages/torch/nn/modules/module.py\u001b[0m in \u001b[0;36m__call__\u001b[0;34m(self, *input, **kwargs)\u001b[0m\n\u001b[1;32m    487\u001b[0m             \u001b[0mresult\u001b[0m \u001b[0;34m=\u001b[0m \u001b[0mself\u001b[0m\u001b[0;34m.\u001b[0m\u001b[0m_slow_forward\u001b[0m\u001b[0;34m(\u001b[0m\u001b[0;34m*\u001b[0m\u001b[0minput\u001b[0m\u001b[0;34m,\u001b[0m \u001b[0;34m**\u001b[0m\u001b[0mkwargs\u001b[0m\u001b[0;34m)\u001b[0m\u001b[0;34m\u001b[0m\u001b[0;34m\u001b[0m\u001b[0m\n\u001b[1;32m    488\u001b[0m         \u001b[0;32melse\u001b[0m\u001b[0;34m:\u001b[0m\u001b[0;34m\u001b[0m\u001b[0;34m\u001b[0m\u001b[0m\n\u001b[0;32m--> 489\u001b[0;31m             \u001b[0mresult\u001b[0m \u001b[0;34m=\u001b[0m \u001b[0mself\u001b[0m\u001b[0;34m.\u001b[0m\u001b[0mforward\u001b[0m\u001b[0;34m(\u001b[0m\u001b[0;34m*\u001b[0m\u001b[0minput\u001b[0m\u001b[0;34m,\u001b[0m \u001b[0;34m**\u001b[0m\u001b[0mkwargs\u001b[0m\u001b[0;34m)\u001b[0m\u001b[0;34m\u001b[0m\u001b[0;34m\u001b[0m\u001b[0m\n\u001b[0m\u001b[1;32m    490\u001b[0m         \u001b[0;32mfor\u001b[0m \u001b[0mhook\u001b[0m \u001b[0;32min\u001b[0m \u001b[0mself\u001b[0m\u001b[0;34m.\u001b[0m\u001b[0m_forward_hooks\u001b[0m\u001b[0;34m.\u001b[0m\u001b[0mvalues\u001b[0m\u001b[0;34m(\u001b[0m\u001b[0;34m)\u001b[0m\u001b[0;34m:\u001b[0m\u001b[0;34m\u001b[0m\u001b[0;34m\u001b[0m\u001b[0m\n\u001b[1;32m    491\u001b[0m             \u001b[0mhook_result\u001b[0m \u001b[0;34m=\u001b[0m \u001b[0mhook\u001b[0m\u001b[0;34m(\u001b[0m\u001b[0mself\u001b[0m\u001b[0;34m,\u001b[0m \u001b[0minput\u001b[0m\u001b[0;34m,\u001b[0m \u001b[0mresult\u001b[0m\u001b[0;34m)\u001b[0m\u001b[0;34m\u001b[0m\u001b[0;34m\u001b[0m\u001b[0m\n",
      "\u001b[0;32m/net/vaosl01/opt/NFS/su0/anaconda3/envs/nlpbook/lib/python3.7/site-packages/torch/nn/modules/rnn.py\u001b[0m in \u001b[0;36mforward\u001b[0;34m(self, input, hx)\u001b[0m\n\u001b[1;32m    652\u001b[0m             \u001b[0minput\u001b[0m\u001b[0;34m,\u001b[0m \u001b[0mhx\u001b[0m\u001b[0;34m,\u001b[0m\u001b[0;34m\u001b[0m\u001b[0;34m\u001b[0m\u001b[0m\n\u001b[1;32m    653\u001b[0m             \u001b[0mself\u001b[0m\u001b[0;34m.\u001b[0m\u001b[0mweight_ih\u001b[0m\u001b[0;34m,\u001b[0m \u001b[0mself\u001b[0m\u001b[0;34m.\u001b[0m\u001b[0mweight_hh\u001b[0m\u001b[0;34m,\u001b[0m\u001b[0;34m\u001b[0m\u001b[0;34m\u001b[0m\u001b[0m\n\u001b[0;32m--> 654\u001b[0;31m             \u001b[0mself\u001b[0m\u001b[0;34m.\u001b[0m\u001b[0mbias_ih\u001b[0m\u001b[0;34m,\u001b[0m \u001b[0mself\u001b[0m\u001b[0;34m.\u001b[0m\u001b[0mbias_hh\u001b[0m\u001b[0;34m,\u001b[0m\u001b[0;34m\u001b[0m\u001b[0;34m\u001b[0m\u001b[0m\n\u001b[0m\u001b[1;32m    655\u001b[0m         )\n\u001b[1;32m    656\u001b[0m \u001b[0;34m\u001b[0m\u001b[0m\n",
      "\u001b[0;31mRuntimeError\u001b[0m: Expected object of backend CUDA but got backend CPU for argument #4 'mat1'"
     ]
    }
   ],
   "source": [
    "e(inp)"
   ]
  },
  {
   "cell_type": "code",
   "execution_count": null,
   "metadata": {
    "ExecuteTime": {
     "end_time": "2019-03-31T22:04:58.237564Z",
     "start_time": "2019-03-31T22:04:52.415006Z"
    }
   },
   "outputs": [],
   "source": [
    "x = torch.zeros(5, device='cuda:3')"
   ]
  },
  {
   "cell_type": "code",
   "execution_count": null,
   "metadata": {
    "ExecuteTime": {
     "end_time": "2019-03-31T22:05:05.520940Z",
     "start_time": "2019-03-31T22:05:05.500584Z"
    }
   },
   "outputs": [],
   "source": [
    "x"
   ]
  }
 ],
 "metadata": {
  "kernelspec": {
   "display_name": "Python 3",
   "language": "python",
   "name": "python3"
  },
  "language_info": {
   "codemirror_mode": {
    "name": "ipython",
    "version": 3
   },
   "file_extension": ".py",
   "mimetype": "text/x-python",
   "name": "python",
   "nbconvert_exporter": "python",
   "pygments_lexer": "ipython3",
   "version": "3.7.2"
  },
  "toc": {
   "base_numbering": 1,
   "nav_menu": {},
   "number_sections": true,
   "sideBar": true,
   "skip_h1_title": true,
   "title_cell": "Table of Contents",
   "title_sidebar": "Contents",
   "toc_cell": true,
   "toc_position": {},
   "toc_section_display": true,
   "toc_window_display": false
  }
 },
 "nbformat": 4,
 "nbformat_minor": 2
}
