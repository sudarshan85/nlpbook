{
 "cells": [
  {
   "cell_type": "markdown",
   "metadata": {
    "toc": true
   },
   "source": [
    "<h1>Table of Contents<span class=\"tocSkip\"></span></h1>\n",
    "<div class=\"toc\"><ul class=\"toc-item\"><li><span><a href=\"#Imports-&amp;-Inits\" data-toc-modified-id=\"Imports-&amp;-Inits-1\"><span class=\"toc-item-num\">1&nbsp;&nbsp;</span>Imports &amp; Inits</a></span></li><li><span><a href=\"#Data-Loading\" data-toc-modified-id=\"Data-Loading-2\"><span class=\"toc-item-num\">2&nbsp;&nbsp;</span>Data Loading</a></span></li><li><span><a href=\"#Model\" data-toc-modified-id=\"Model-3\"><span class=\"toc-item-num\">3&nbsp;&nbsp;</span>Model</a></span></li><li><span><a href=\"#Training\" data-toc-modified-id=\"Training-4\"><span class=\"toc-item-num\">4&nbsp;&nbsp;</span>Training</a></span></li><li><span><a href=\"#Testing\" data-toc-modified-id=\"Testing-5\"><span class=\"toc-item-num\">5&nbsp;&nbsp;</span>Testing</a></span><ul class=\"toc-item\"><li><span><a href=\"#Plots\" data-toc-modified-id=\"Plots-5.1\"><span class=\"toc-item-num\">5.1&nbsp;&nbsp;</span>Plots</a></span></li><li><span><a href=\"#Ignite-Testing\" data-toc-modified-id=\"Ignite-Testing-5.2\"><span class=\"toc-item-num\">5.2&nbsp;&nbsp;</span>Ignite Testing</a></span></li><li><span><a href=\"#NLPBook-Testing\" data-toc-modified-id=\"NLPBook-Testing-5.3\"><span class=\"toc-item-num\">5.3&nbsp;&nbsp;</span>NLPBook Testing</a></span></li></ul></li><li><span><a href=\"#Inference\" data-toc-modified-id=\"Inference-6\"><span class=\"toc-item-num\">6&nbsp;&nbsp;</span>Inference</a></span></li><li><span><a href=\"#Playground\" data-toc-modified-id=\"Playground-7\"><span class=\"toc-item-num\">7&nbsp;&nbsp;</span>Playground</a></span></li></ul></div>"
   ]
  },
  {
   "cell_type": "markdown",
   "metadata": {},
   "source": [
    "# Surname Classifier Using ElmanRNN"
   ]
  },
  {
   "cell_type": "markdown",
   "metadata": {},
   "source": [
    "## Imports & Inits"
   ]
  },
  {
   "cell_type": "code",
   "execution_count": 1,
   "metadata": {
    "ExecuteTime": {
     "end_time": "2019-04-01T21:39:46.485625Z",
     "start_time": "2019-04-01T21:39:46.474132Z"
    }
   },
   "outputs": [],
   "source": [
    "%load_ext autoreload\n",
    "%autoreload 2"
   ]
  },
  {
   "cell_type": "code",
   "execution_count": 2,
   "metadata": {
    "ExecuteTime": {
     "end_time": "2019-04-01T21:39:47.536330Z",
     "start_time": "2019-04-01T21:39:46.486809Z"
    }
   },
   "outputs": [],
   "source": [
    "import matplotlib.pyplot as plt\n",
    "%matplotlib inline\n",
    "\n",
    "import pdb\n",
    "import pandas as pd\n",
    "import numpy as np\n",
    "import torch\n",
    "import re\n",
    "\n",
    "from torch import nn\n",
    "from torch.nn import functional as F\n",
    "from torch import optim\n",
    "from torch.utils.data import DataLoader\n",
    "from pathlib import Path\n",
    "\n",
    "from ignite.engine import Events\n",
    "from ignite.metrics import Accuracy, Loss\n",
    "from ignite.contrib.handlers import ProgressBar"
   ]
  },
  {
   "cell_type": "code",
   "execution_count": 3,
   "metadata": {
    "ExecuteTime": {
     "end_time": "2019-04-01T21:39:47.601308Z",
     "start_time": "2019-04-01T21:39:47.537997Z"
    }
   },
   "outputs": [
    {
     "data": {
      "text/plain": [
       "{'path': PosixPath('../data/surnames'),\n",
       " 'workdir': PosixPath('../data/surnames/rnn_workdir'),\n",
       " 'proc_dataset_csv': PosixPath('../data/surnames/surnames_with_splits.csv'),\n",
       " 'model_dir': PosixPath('../data/surnames/rnn_workdir/models'),\n",
       " 'vectorizer_json': PosixPath('../data/surnames/rnn_workdir/unconditioned_generation_vectorizer.json'),\n",
       " 'metrics_file': PosixPath('../data/surnames/rnn_workdir/unconditioned_generation_metrics.csv'),\n",
       " 'class_weights_pth': PosixPath('../data/surnames/rnn_workdir/class_weights.pth'),\n",
       " 'char_embedding_sz': 100,\n",
       " 'rnn_hidden_sz': 64,\n",
       " 'bs': 64,\n",
       " 'lr': 0.001,\n",
       " 'n_epochs': 100,\n",
       " 'device': 'cuda:3',\n",
       " 'checkpointer_prefix': 'unconditioned_generation',\n",
       " 'checkpointer_name': '',\n",
       " 'es_patience': 5,\n",
       " 'save_every': 2,\n",
       " 'save_total': 5}"
      ]
     },
     "execution_count": 3,
     "metadata": {},
     "output_type": "execute_result"
    }
   ],
   "source": [
    "from surname.dataset import UnconditionedGenerationDataset as SurnameDataset\n",
    "from surname.containers import DataContainer, ModelContainer\n",
    "from consts import unconditioned_generation_consts as consts\n",
    "vars(consts)"
   ]
  },
  {
   "cell_type": "markdown",
   "metadata": {},
   "source": [
    "## Data Loading"
   ]
  },
  {
   "cell_type": "code",
   "execution_count": 4,
   "metadata": {
    "ExecuteTime": {
     "end_time": "2019-04-01T21:39:47.632239Z",
     "start_time": "2019-04-01T21:39:47.602521Z"
    }
   },
   "outputs": [
    {
     "name": "stdout",
     "output_type": "stream",
     "text": [
      "(10980, 4)\n"
     ]
    },
    {
     "data": {
      "text/html": [
       "<div>\n",
       "<style scoped>\n",
       "    .dataframe tbody tr th:only-of-type {\n",
       "        vertical-align: middle;\n",
       "    }\n",
       "\n",
       "    .dataframe tbody tr th {\n",
       "        vertical-align: top;\n",
       "    }\n",
       "\n",
       "    .dataframe thead th {\n",
       "        text-align: right;\n",
       "    }\n",
       "</style>\n",
       "<table border=\"1\" class=\"dataframe\">\n",
       "  <thead>\n",
       "    <tr style=\"text-align: right;\">\n",
       "      <th></th>\n",
       "      <th>nationality</th>\n",
       "      <th>nationality_index</th>\n",
       "      <th>split</th>\n",
       "      <th>surname</th>\n",
       "    </tr>\n",
       "  </thead>\n",
       "  <tbody>\n",
       "    <tr>\n",
       "      <th>0</th>\n",
       "      <td>Arabic</td>\n",
       "      <td>15</td>\n",
       "      <td>train</td>\n",
       "      <td>Totah</td>\n",
       "    </tr>\n",
       "    <tr>\n",
       "      <th>1</th>\n",
       "      <td>Arabic</td>\n",
       "      <td>15</td>\n",
       "      <td>train</td>\n",
       "      <td>Abboud</td>\n",
       "    </tr>\n",
       "    <tr>\n",
       "      <th>2</th>\n",
       "      <td>Arabic</td>\n",
       "      <td>15</td>\n",
       "      <td>train</td>\n",
       "      <td>Fakhoury</td>\n",
       "    </tr>\n",
       "    <tr>\n",
       "      <th>3</th>\n",
       "      <td>Arabic</td>\n",
       "      <td>15</td>\n",
       "      <td>train</td>\n",
       "      <td>Srour</td>\n",
       "    </tr>\n",
       "    <tr>\n",
       "      <th>4</th>\n",
       "      <td>Arabic</td>\n",
       "      <td>15</td>\n",
       "      <td>train</td>\n",
       "      <td>Sayegh</td>\n",
       "    </tr>\n",
       "  </tbody>\n",
       "</table>\n",
       "</div>"
      ],
      "text/plain": [
       "  nationality  nationality_index  split   surname\n",
       "0      Arabic                 15  train     Totah\n",
       "1      Arabic                 15  train    Abboud\n",
       "2      Arabic                 15  train  Fakhoury\n",
       "3      Arabic                 15  train     Srour\n",
       "4      Arabic                 15  train    Sayegh"
      ]
     },
     "execution_count": 4,
     "metadata": {},
     "output_type": "execute_result"
    }
   ],
   "source": [
    "df = pd.read_csv(consts.proc_dataset_csv)\n",
    "print(df.shape)\n",
    "df.head()"
   ]
  },
  {
   "cell_type": "code",
   "execution_count": 5,
   "metadata": {
    "ExecuteTime": {
     "end_time": "2019-04-01T21:39:48.140005Z",
     "start_time": "2019-04-01T21:39:47.633180Z"
    }
   },
   "outputs": [
    {
     "name": "stdout",
     "output_type": "stream",
     "text": [
      "Creating and saving vectorizer\n"
     ]
    }
   ],
   "source": [
    "dc = DataContainer(df, SurnameDataset, consts.vectorizer_json, consts.bs, is_load=False)"
   ]
  },
  {
   "cell_type": "code",
   "execution_count": 7,
   "metadata": {
    "ExecuteTime": {
     "end_time": "2019-04-01T21:40:13.569628Z",
     "start_time": "2019-04-01T21:40:13.547033Z"
    }
   },
   "outputs": [],
   "source": [
    "try:\n",
    "  class_weights = torch.load(consts.class_weights_pth)\n",
    "except FileNotFoundError:\n",
    "  nationality_vocab = dc.nationality_vocab\n",
    "  class_counts = df['nationality'].value_counts().to_dict()\n",
    "  sorted_counts = sorted(class_counts.items(), key=lambda x: nationality_vocab.lookup_token(x[0]))\n",
    "  freq = [count for _, count in sorted_counts]\n",
    "  class_weights = 1.0/torch.tensor(freq, dtype=torch.float32)\n",
    "  torch.save(class_weights, consts.class_weights_pth)"
   ]
  },
  {
   "cell_type": "markdown",
   "metadata": {},
   "source": [
    "## Model"
   ]
  },
  {
   "cell_type": "code",
   "execution_count": null,
   "metadata": {},
   "outputs": [],
   "source": [
    "class SurnameGenerator(nn.Module):\n",
    "  def __init__(self, emb_sz: int, vocab_sz: int, rnn_hidden_sz: int, batch_first: bool=True,\\\n",
    "               padding_idx: int=0, dropout_p: float=0.5) -> None:\n",
    "    super(SurnameGenerator, self).__init__()\n",
    "    self.emb = nn.Embedding(vocab_sz, emb_sz, padding_idx)\n",
    "    self.rnn = nn.GRU(emb_sz, rnn_hidden_sz, batch_first=batch_first)\n",
    "    self.fc = nn.Linear(rnn_hidden_sz, vocab_sz)\n",
    "    self.dropout = nn.Dropout(dropout_p)\n",
    "    \n",
    "  def forward(self, x_in, apply_softmax=False):\n",
    "    x_emb = self.emb(x_in)\n",
    "    "
   ]
  },
  {
   "cell_type": "code",
   "execution_count": null,
   "metadata": {
    "ExecuteTime": {
     "end_time": "2019-04-01T20:51:58.324820Z",
     "start_time": "2019-04-01T20:51:52.590057Z"
    }
   },
   "outputs": [],
   "source": [
    "classifier = SurnameClassifier(classify_consts.char_embedding_sz, dc.vocab_size, dc.n_classes, classify_consts.rnn_hidden_sz, \\\n",
    "                       padding_idx=dc.surname_vocab.mask_idx)\n",
    "class_weights = class_weights.to(classify_consts.device)\n",
    "loss_fn = nn.CrossEntropyLoss(class_weights)\n",
    "optimizer = optim.Adam(classifier.parameters(), lr=classify_consts.lr)\n",
    "scheduler = optim.lr_scheduler.ReduceLROnPlateau(optimizer, 'min', 0.5, patience=1)\n",
    "mc = ModelContainer(classifier, optimizer, loss_fn, scheduler)\n",
    "mc.model"
   ]
  },
  {
   "cell_type": "code",
   "execution_count": null,
   "metadata": {
    "ExecuteTime": {
     "end_time": "2019-03-31T19:06:23.579007Z",
     "start_time": "2019-03-31T19:06:23.566641Z"
    }
   },
   "outputs": [],
   "source": [
    "itr = iter(dc.train_dl)"
   ]
  },
  {
   "cell_type": "code",
   "execution_count": null,
   "metadata": {
    "ExecuteTime": {
     "end_time": "2019-03-31T19:06:53.972367Z",
     "start_time": "2019-03-31T19:06:53.831558Z"
    }
   },
   "outputs": [],
   "source": [
    "inp,y = next(itr)\n",
    "y_pred = mc.model(x,l)\n",
    "loss_fn(y_pred, y)"
   ]
  },
  {
   "cell_type": "markdown",
   "metadata": {},
   "source": [
    "## Training"
   ]
  },
  {
   "cell_type": "code",
   "execution_count": null,
   "metadata": {
    "ExecuteTime": {
     "end_time": "2019-04-01T20:39:55.669097Z",
     "start_time": "2019-04-01T20:39:55.649225Z"
    }
   },
   "outputs": [],
   "source": [
    "pbar = ProgressBar(persist=True)\n",
    "metrics = {'accuracy': Accuracy(), 'loss': Loss(loss_fn)}"
   ]
  },
  {
   "cell_type": "code",
   "execution_count": null,
   "metadata": {
    "ExecuteTime": {
     "end_time": "2019-04-01T20:40:03.690556Z",
     "start_time": "2019-04-01T20:39:55.670379Z"
    }
   },
   "outputs": [],
   "source": [
    "classify_consts.n_epochs=2\n",
    "ig = IgniteTrainer(mc, dc, classify_consts, pbar, metrics)\n",
    "ig.run()"
   ]
  },
  {
   "cell_type": "markdown",
   "metadata": {},
   "source": [
    "## Testing"
   ]
  },
  {
   "cell_type": "markdown",
   "metadata": {},
   "source": [
    "### Plots"
   ]
  },
  {
   "cell_type": "code",
   "execution_count": null,
   "metadata": {
    "ExecuteTime": {
     "end_time": "2019-04-01T20:52:01.460440Z",
     "start_time": "2019-04-01T20:52:01.438232Z"
    }
   },
   "outputs": [],
   "source": [
    "training_metrics = pd.read_csv(classify_consts.metrics_file)\n",
    "training_metrics = training_metrics[:-1]"
   ]
  },
  {
   "cell_type": "code",
   "execution_count": null,
   "metadata": {
    "ExecuteTime": {
     "end_time": "2019-04-01T20:52:01.706726Z",
     "start_time": "2019-04-01T20:52:01.461512Z"
    }
   },
   "outputs": [],
   "source": [
    "fig, axes = plt.subplots(nrows=1, ncols=2, figsize=(15,5))\n",
    "training_metrics.plot(x='epoch', y=['training_loss', 'validation_loss'], kind='line',\n",
    "                      title='Training and validation loss', ax=axes[0])\n",
    "training_metrics.plot(x='epoch', y=['training_acc', 'validation_acc'], kind='line',\n",
    "                      title='Training and validation accuracy', ax=axes[1])"
   ]
  },
  {
   "cell_type": "markdown",
   "metadata": {},
   "source": [
    "### Ignite Testing"
   ]
  },
  {
   "cell_type": "code",
   "execution_count": null,
   "metadata": {
    "ExecuteTime": {
     "end_time": "2019-04-01T20:52:05.028185Z",
     "start_time": "2019-04-01T20:52:05.008547Z"
    }
   },
   "outputs": [],
   "source": [
    "classifier = SurnameClassifier(classify_consts.char_embedding_sz, dc.vocab_size, dc.n_classes, classify_consts.rnn_hidden_sz, \\\n",
    "                       padding_idx=dc.surname_vocab.mask_idx)\n",
    "state_dict = torch.load(classify_consts.workdir/'elman_classifier.pth')\n",
    "classifier.load_state_dict(state_dict)\n",
    "class_weights = class_weights.to('cpu')\n",
    "loss_fn = nn.CrossEntropyLoss(class_weights)\n",
    "metrics = {'accuracy': Accuracy(), 'loss': Loss(loss_fn)}"
   ]
  },
  {
   "cell_type": "code",
   "execution_count": null,
   "metadata": {
    "ExecuteTime": {
     "end_time": "2019-04-01T20:52:07.905067Z",
     "start_time": "2019-04-01T20:52:07.424290Z"
    }
   },
   "outputs": [],
   "source": [
    "evaluator = custom_evaluator(classifier, metrics=metrics)\n",
    "\n",
    "@evaluator.on(Events.COMPLETED)\n",
    "def log_testing_results(engine):\n",
    "  metrics = engine.state.metrics\n",
    "  print(f\"Test loss: {metrics['loss']:0.3f}\")\n",
    "  print(f\"Test accuracy: {metrics['accuracy']:0.3f}\")\n",
    "\n",
    "evaluator.run(dc.test_dl)"
   ]
  },
  {
   "cell_type": "markdown",
   "metadata": {},
   "source": [
    "### NLPBook Testing"
   ]
  },
  {
   "cell_type": "code",
   "execution_count": null,
   "metadata": {
    "ExecuteTime": {
     "end_time": "2019-04-01T20:52:09.864982Z",
     "start_time": "2019-04-01T20:52:09.430643Z"
    }
   },
   "outputs": [],
   "source": [
    "def compute_accuracy(y_pred, y_target):\n",
    "  _, y_pred_indices = y_pred.max(dim=1)\n",
    "  n_correct = torch.eq(y_pred_indices, y_target).sum().item()\n",
    "  return n_correct / len(y_pred_indices) * 100\n",
    "\n",
    "running_loss = 0.\n",
    "running_acc = 0.\n",
    "\n",
    "classifier.eval()\n",
    "for i, batch in enumerate(dc.test_dl):\n",
    "  model_inp,y = batch\n",
    "  y_pred = classifier(*model_inp)\n",
    "  \n",
    "  loss = loss_fn(y_pred, y)\n",
    "  loss_t = loss.item()\n",
    "  running_loss += (loss_t-running_loss)/(i+1)\n",
    "  \n",
    "  acc_t = compute_accuracy(y_pred, y)\n",
    "  running_acc += (acc_t-running_acc)/(i+1)\n",
    "\n",
    "print(f\"Test loss: {running_loss:0.3f}\")\n",
    "print(f\"Test acc: {running_acc:0.3f}%\")"
   ]
  },
  {
   "cell_type": "markdown",
   "metadata": {},
   "source": [
    "## Inference"
   ]
  },
  {
   "cell_type": "code",
   "execution_count": null,
   "metadata": {
    "ExecuteTime": {
     "end_time": "2019-04-01T20:52:13.277141Z",
     "start_time": "2019-04-01T20:52:13.261943Z"
    }
   },
   "outputs": [],
   "source": [
    "import math"
   ]
  },
  {
   "cell_type": "code",
   "execution_count": null,
   "metadata": {
    "ExecuteTime": {
     "end_time": "2019-04-01T20:52:23.370812Z",
     "start_time": "2019-04-01T20:52:23.302784Z"
    }
   },
   "outputs": [],
   "source": [
    "def predict_nationality(surname, classifier, vectorizer):\n",
    "  vectorized_surname, vec_length = vectorizer.vectorize(surname, len(surname)+2)\n",
    "  vectorized_surname = torch.tensor(vectorized_surname).unsqueeze(dim=0) # bs of 1\n",
    "  vec_length = torch.tensor([vec_length], dtype=torch.int64)\n",
    "  \n",
    "  result = classifier(vectorized_surname, vec_length, apply_softmax=True)\n",
    "  assert(math.isclose(result.sum(dim=1).item(), 1.0, abs_tol=1e-6))\n",
    "  prob_vals, idxs = result.max(dim=1)\n",
    "  \n",
    "  idx = idxs.item()\n",
    "  prob_val = prob_vals.item()\n",
    "  \n",
    "  predicted_nationality = vectorizer.nationality_vocab.lookup_idx(idx)\n",
    "  return {'nationality': predicted_nationality, 'probability': prob_val, 'surname': surname}"
   ]
  },
  {
   "cell_type": "code",
   "execution_count": null,
   "metadata": {
    "ExecuteTime": {
     "end_time": "2019-04-01T20:52:23.895724Z",
     "start_time": "2019-04-01T20:52:23.877861Z"
    }
   },
   "outputs": [],
   "source": [
    "for surname in ['McMahan', 'Nakamoto', 'Wan', 'Cho']:\n",
    "  print(predict_nationality(surname, classifier, dc.vectorizer))"
   ]
  },
  {
   "cell_type": "markdown",
   "metadata": {},
   "source": [
    "## Playground"
   ]
  },
  {
   "cell_type": "code",
   "execution_count": null,
   "metadata": {
    "ExecuteTime": {
     "end_time": "2019-03-31T14:58:49.303863Z",
     "start_time": "2019-03-31T14:58:49.234525Z"
    }
   },
   "outputs": [],
   "source": [
    "bs=3\n",
    "hidden_sz=7\n",
    "seq_sz =5 "
   ]
  },
  {
   "cell_type": "code",
   "execution_count": null,
   "metadata": {
    "ExecuteTime": {
     "end_time": "2019-03-31T14:58:49.318921Z",
     "start_time": "2019-03-31T14:58:49.305208Z"
    }
   },
   "outputs": [],
   "source": [
    "x_lens = torch.randint(1, seq_sz+1, (bs,))\n",
    "x_lens = x_lens.long().detach().cpu().numpy()-1\n",
    "y_out = torch.randn(bs, seq_sz, hidden_sz)"
   ]
  },
  {
   "cell_type": "code",
   "execution_count": null,
   "metadata": {
    "ExecuteTime": {
     "end_time": "2019-03-31T14:58:49.333806Z",
     "start_time": "2019-03-31T14:58:49.320222Z"
    }
   },
   "outputs": [],
   "source": [
    "print(x_lens.shape)\n",
    "x_lens"
   ]
  },
  {
   "cell_type": "code",
   "execution_count": null,
   "metadata": {
    "ExecuteTime": {
     "end_time": "2019-03-31T14:58:49.349130Z",
     "start_time": "2019-03-31T14:58:49.335043Z"
    }
   },
   "outputs": [],
   "source": [
    "print(y_out.shape)\n",
    "y_out"
   ]
  },
  {
   "cell_type": "code",
   "execution_count": null,
   "metadata": {
    "ExecuteTime": {
     "end_time": "2019-03-31T14:58:49.362427Z",
     "start_time": "2019-03-31T14:58:49.350084Z"
    }
   },
   "outputs": [],
   "source": [
    "out = []\n",
    "\n",
    "for batch_idx, column_idx in enumerate(x_lens):\n",
    "  out.append(y_out[batch_idx, column_idx])\n",
    "#   print(batch_idx, column_idx)"
   ]
  },
  {
   "cell_type": "code",
   "execution_count": null,
   "metadata": {
    "ExecuteTime": {
     "end_time": "2019-03-31T14:58:49.375812Z",
     "start_time": "2019-03-31T14:58:49.363497Z"
    }
   },
   "outputs": [],
   "source": [
    "y = torch.stack(out)"
   ]
  },
  {
   "cell_type": "code",
   "execution_count": null,
   "metadata": {
    "ExecuteTime": {
     "end_time": "2019-03-31T14:58:49.390314Z",
     "start_time": "2019-03-31T14:58:49.376865Z"
    }
   },
   "outputs": [],
   "source": [
    "print(y.shape)\n",
    "y"
   ]
  },
  {
   "cell_type": "code",
   "execution_count": null,
   "metadata": {
    "ExecuteTime": {
     "end_time": "2019-03-31T19:41:15.992869Z",
     "start_time": "2019-03-31T19:41:15.979240Z"
    }
   },
   "outputs": [],
   "source": [
    "bs=3\n",
    "hidden_sz=7\n",
    "seq_sz =5 "
   ]
  },
  {
   "cell_type": "code",
   "execution_count": null,
   "metadata": {
    "ExecuteTime": {
     "end_time": "2019-03-31T22:12:43.749634Z",
     "start_time": "2019-03-31T22:12:43.733148Z"
    }
   },
   "outputs": [],
   "source": [
    "from surname.elman import ElmanRNN\n",
    "e = ElmanRNN(classify_consts.char_embedding_sz, classify_consts.rnn_hidden_sz, batch_first=True)"
   ]
  },
  {
   "cell_type": "code",
   "execution_count": null,
   "metadata": {
    "ExecuteTime": {
     "end_time": "2019-03-31T22:12:43.770074Z",
     "start_time": "2019-03-31T22:12:43.751037Z"
    }
   },
   "outputs": [],
   "source": [
    "inp = torch.randn(2,10,100)\n",
    "e(inp)"
   ]
  },
  {
   "cell_type": "code",
   "execution_count": null,
   "metadata": {
    "ExecuteTime": {
     "end_time": "2019-03-31T22:12:50.675293Z",
     "start_time": "2019-03-31T22:12:44.973238Z"
    }
   },
   "outputs": [],
   "source": [
    "inp = inp.to('cuda:3')\n",
    "e = e.to('cuda:3')"
   ]
  },
  {
   "cell_type": "code",
   "execution_count": null,
   "metadata": {
    "ExecuteTime": {
     "end_time": "2019-03-31T19:42:00.906434Z",
     "start_time": "2019-03-31T19:42:00.891644Z"
    }
   },
   "outputs": [],
   "source": [
    "inp = inp.cpu()\n",
    "e = e.cpu()"
   ]
  },
  {
   "cell_type": "code",
   "execution_count": null,
   "metadata": {
    "ExecuteTime": {
     "end_time": "2019-03-31T22:12:50.925817Z",
     "start_time": "2019-03-31T22:12:50.677968Z"
    }
   },
   "outputs": [],
   "source": [
    "e(inp)"
   ]
  },
  {
   "cell_type": "code",
   "execution_count": null,
   "metadata": {
    "ExecuteTime": {
     "end_time": "2019-03-31T22:04:58.237564Z",
     "start_time": "2019-03-31T22:04:52.415006Z"
    }
   },
   "outputs": [],
   "source": [
    "x = torch.zeros(5, device='cuda:3')"
   ]
  },
  {
   "cell_type": "code",
   "execution_count": null,
   "metadata": {
    "ExecuteTime": {
     "end_time": "2019-03-31T22:05:05.520940Z",
     "start_time": "2019-03-31T22:05:05.500584Z"
    }
   },
   "outputs": [],
   "source": [
    "x"
   ]
  }
 ],
 "metadata": {
  "kernelspec": {
   "display_name": "Python 3",
   "language": "python",
   "name": "python3"
  },
  "language_info": {
   "codemirror_mode": {
    "name": "ipython",
    "version": 3
   },
   "file_extension": ".py",
   "mimetype": "text/x-python",
   "name": "python",
   "nbconvert_exporter": "python",
   "pygments_lexer": "ipython3",
   "version": "3.7.2"
  },
  "toc": {
   "base_numbering": 1,
   "nav_menu": {},
   "number_sections": true,
   "sideBar": true,
   "skip_h1_title": true,
   "title_cell": "Table of Contents",
   "title_sidebar": "Contents",
   "toc_cell": true,
   "toc_position": {},
   "toc_section_display": true,
   "toc_window_display": false
  }
 },
 "nbformat": 4,
 "nbformat_minor": 2
}
