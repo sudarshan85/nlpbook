{
 "cells": [
  {
   "cell_type": "markdown",
   "metadata": {
    "toc": true
   },
   "source": [
    "<h1>Table of Contents<span class=\"tocSkip\"></span></h1>\n",
    "<div class=\"toc\"><ul class=\"toc-item\"><li><span><a href=\"#Imports-&amp;-Inits\" data-toc-modified-id=\"Imports-&amp;-Inits-1\"><span class=\"toc-item-num\">1&nbsp;&nbsp;</span>Imports &amp; Inits</a></span></li><li><span><a href=\"#Data-&amp;-Pretrained-Embeddings\" data-toc-modified-id=\"Data-&amp;-Pretrained-Embeddings-2\"><span class=\"toc-item-num\">2&nbsp;&nbsp;</span>Data &amp; Pretrained Embeddings</a></span></li><li><span><a href=\"#Model\" data-toc-modified-id=\"Model-3\"><span class=\"toc-item-num\">3&nbsp;&nbsp;</span>Model</a></span></li><li><span><a href=\"#Training\" data-toc-modified-id=\"Training-4\"><span class=\"toc-item-num\">4&nbsp;&nbsp;</span>Training</a></span></li><li><span><a href=\"#Going-through-the-model\" data-toc-modified-id=\"Going-through-the-model-5\"><span class=\"toc-item-num\">5&nbsp;&nbsp;</span>Going through the model</a></span></li></ul></div>"
   ]
  },
  {
   "cell_type": "markdown",
   "metadata": {},
   "source": [
    "# AG News Classifier with ConvNet\n",
    "Classifier to classify news titles into categories."
   ]
  },
  {
   "cell_type": "markdown",
   "metadata": {},
   "source": [
    "## Imports & Inits"
   ]
  },
  {
   "cell_type": "code",
   "execution_count": 1,
   "metadata": {
    "ExecuteTime": {
     "end_time": "2019-03-29T14:53:49.080394Z",
     "start_time": "2019-03-29T14:53:49.068958Z"
    }
   },
   "outputs": [],
   "source": [
    "%load_ext autoreload\n",
    "%autoreload 2"
   ]
  },
  {
   "cell_type": "code",
   "execution_count": 2,
   "metadata": {
    "ExecuteTime": {
     "end_time": "2019-03-29T14:53:49.594783Z",
     "start_time": "2019-03-29T14:53:49.081671Z"
    }
   },
   "outputs": [],
   "source": [
    "import pdb\n",
    "import pandas as pd\n",
    "import numpy as np\n",
    "import torch\n",
    "\n",
    "from torch import nn\n",
    "from torch.nn import functional as F\n",
    "from torch import optim\n",
    "from torch.utils.data import DataLoader\n",
    "from pathlib import Path\n",
    "\n",
    "from ignite.engine import Events, create_supervised_evaluator\n",
    "from ignite.metrics import Accuracy, Loss\n",
    "from ignite.contrib.handlers import ProgressBar"
   ]
  },
  {
   "cell_type": "code",
   "execution_count": 3,
   "metadata": {
    "ExecuteTime": {
     "end_time": "2019-03-29T14:53:49.621135Z",
     "start_time": "2019-03-29T14:53:49.596077Z"
    }
   },
   "outputs": [
    {
     "data": {
      "text/plain": [
       "{'path': PosixPath('../data/ag_news'),\n",
       " 'work_dir': PosixPath('../data/ag_news/work_dir'),\n",
       " 'proc_dataset_csv': PosixPath('../data/ag_news/news_with_splits.csv'),\n",
       " 'model_dir': PosixPath('../data/ag_news/work_dir/models'),\n",
       " 'vectorizer_file': PosixPath('../data/ag_news/work_dir/vectorizer.json'),\n",
       " 'metric_file': PosixPath('../data/ag_news/work_dir/metrics.csv'),\n",
       " 'cw_file': PosixPath('../data/ag_news/work_dir/class_weights.pth'),\n",
       " 'use_glove': False,\n",
       " 'glove_path': PosixPath('../pretrained/glove6B/glove.6B.100d.txt'),\n",
       " 'embedding_size': 100,\n",
       " 'hidden_dim': 100,\n",
       " 'n_channels': 100,\n",
       " 'dropout_p': 0.1,\n",
       " 'batch_size': 256,\n",
       " 'learning_rate': 0.001,\n",
       " 'num_epochs': 100,\n",
       " 'device': 'cuda:3',\n",
       " 'checkpointer_prefix': 'cbow',\n",
       " 'checkpointer_name': 'classifier',\n",
       " 'early_stopping_criteria': 5,\n",
       " 'save_every': 2,\n",
       " 'save_total': 5}"
      ]
     },
     "execution_count": 3,
     "metadata": {},
     "output_type": "execute_result"
    }
   ],
   "source": [
    "from consts import consts\n",
    "from ag.data import NewsDataset, DataContainer\n",
    "from ag.model import NewsClassifier\n",
    "from ag.pretrained_emb import PretrainedEmbeddings\n",
    "vars(consts)"
   ]
  },
  {
   "cell_type": "markdown",
   "metadata": {},
   "source": [
    "## Data & Pretrained Embeddings"
   ]
  },
  {
   "cell_type": "code",
   "execution_count": 4,
   "metadata": {
    "ExecuteTime": {
     "end_time": "2019-03-29T14:53:49.756753Z",
     "start_time": "2019-03-29T14:53:49.622428Z"
    }
   },
   "outputs": [
    {
     "data": {
      "text/html": [
       "<div>\n",
       "<style scoped>\n",
       "    .dataframe tbody tr th:only-of-type {\n",
       "        vertical-align: middle;\n",
       "    }\n",
       "\n",
       "    .dataframe tbody tr th {\n",
       "        vertical-align: top;\n",
       "    }\n",
       "\n",
       "    .dataframe thead th {\n",
       "        text-align: right;\n",
       "    }\n",
       "</style>\n",
       "<table border=\"1\" class=\"dataframe\">\n",
       "  <thead>\n",
       "    <tr style=\"text-align: right;\">\n",
       "      <th></th>\n",
       "      <th>category</th>\n",
       "      <th>split</th>\n",
       "      <th>title</th>\n",
       "    </tr>\n",
       "  </thead>\n",
       "  <tbody>\n",
       "    <tr>\n",
       "      <th>0</th>\n",
       "      <td>Business</td>\n",
       "      <td>train</td>\n",
       "      <td>Jobs, tax cuts key issues for Bush</td>\n",
       "    </tr>\n",
       "    <tr>\n",
       "      <th>1</th>\n",
       "      <td>Business</td>\n",
       "      <td>train</td>\n",
       "      <td>Jarden Buying Mr. Coffee #39;s Maker</td>\n",
       "    </tr>\n",
       "    <tr>\n",
       "      <th>2</th>\n",
       "      <td>Business</td>\n",
       "      <td>train</td>\n",
       "      <td>Retail sales show festive fervour</td>\n",
       "    </tr>\n",
       "    <tr>\n",
       "      <th>3</th>\n",
       "      <td>Business</td>\n",
       "      <td>train</td>\n",
       "      <td>Intervoice's Customers Come Calling</td>\n",
       "    </tr>\n",
       "    <tr>\n",
       "      <th>4</th>\n",
       "      <td>Business</td>\n",
       "      <td>train</td>\n",
       "      <td>Boeing Expects Air Force Contract</td>\n",
       "    </tr>\n",
       "  </tbody>\n",
       "</table>\n",
       "</div>"
      ],
      "text/plain": [
       "   category  split                                 title\n",
       "0  Business  train    Jobs, tax cuts key issues for Bush\n",
       "1  Business  train  Jarden Buying Mr. Coffee #39;s Maker\n",
       "2  Business  train     Retail sales show festive fervour\n",
       "3  Business  train   Intervoice's Customers Come Calling\n",
       "4  Business  train     Boeing Expects Air Force Contract"
      ]
     },
     "execution_count": 4,
     "metadata": {},
     "output_type": "execute_result"
    }
   ],
   "source": [
    "df = pd.read_csv(consts.proc_dataset_csv)\n",
    "df.head()"
   ]
  },
  {
   "cell_type": "code",
   "execution_count": 5,
   "metadata": {
    "ExecuteTime": {
     "end_time": "2019-03-29T14:53:49.854988Z",
     "start_time": "2019-03-29T14:53:49.758046Z"
    }
   },
   "outputs": [],
   "source": [
    "dc = DataContainer(df, NewsDataset, consts.vectorizer_file, consts.batch_size, is_load=True)\n",
    "\n",
    "try:\n",
    "  class_weights = torch.load(consts.cw_file)\n",
    "except FileNotFoundError:\n",
    "  cat_vocab = dc.cat_vocab\n",
    "  class_counts = df['category'].value_counts().to_dict()\n",
    "  sorted_counts = sorted(class_counts.items(), key=lambda x: cat_vocab.lookup_token(x[0]))\n",
    "  freq = [count for _, count in sorted_counts]\n",
    "  class_weights = 1.0/torch.tensor(freq, dtype=torch.float32)\n",
    "  torch.save(class_weights, consts.cw_file)  "
   ]
  },
  {
   "cell_type": "code",
   "execution_count": 6,
   "metadata": {
    "ExecuteTime": {
     "end_time": "2019-03-29T14:54:00.865777Z",
     "start_time": "2019-03-29T14:53:49.856118Z"
    }
   },
   "outputs": [
    {
     "name": "stdout",
     "output_type": "stream",
     "text": [
      "Loading file...\n",
      "Finished!\n"
     ]
    }
   ],
   "source": [
    "pe = PretrainedEmbeddings.from_file(consts.glove_path)\n",
    "pe.make_custom_embeddings(list(dc.title_vocab.idx_token_bidict.values()))"
   ]
  },
  {
   "cell_type": "markdown",
   "metadata": {},
   "source": [
    "## Model"
   ]
  },
  {
   "cell_type": "code",
   "execution_count": 7,
   "metadata": {
    "ExecuteTime": {
     "end_time": "2019-03-29T14:54:00.892358Z",
     "start_time": "2019-03-29T14:54:00.867121Z"
    }
   },
   "outputs": [],
   "source": [
    "classifier = NewsClassifier(consts.embedding_size, dc.vocab_size, consts.n_channels, consts.hidden_dim,\n",
    "                            dc.n_cats, consts.dropout_p)\n",
    "\n",
    "classifier_pretrained = NewsClassifier(consts.embedding_size, dc.vocab_size, consts.n_channels,\n",
    "                                       consts.hidden_dim, dc.n_cats, consts.dropout_p,\n",
    "                                       pretrained=pe.custom_embeddings)\n",
    "\n",
    "classifier_pretrained_freeze = NewsClassifier(consts.embedding_size, dc.vocab_size, consts.n_channels,\n",
    "                                              consts.hidden_dim, dc.n_cats, consts.dropout_p,\n",
    "                                              pretrained=pe.custom_embeddings, freeze_pretrained=True)\n",
    "\n",
    "loss_fn = nn.CrossEntropyLoss(class_weights)"
   ]
  },
  {
   "cell_type": "code",
   "execution_count": 15,
   "metadata": {
    "ExecuteTime": {
     "end_time": "2019-03-29T14:55:44.798993Z",
     "start_time": "2019-03-29T14:55:44.678444Z"
    }
   },
   "outputs": [],
   "source": [
    "itr = iter(dc.train_dl)"
   ]
  },
  {
   "cell_type": "code",
   "execution_count": 24,
   "metadata": {
    "ExecuteTime": {
     "end_time": "2019-03-29T14:56:02.751655Z",
     "start_time": "2019-03-29T14:56:02.657862Z"
    }
   },
   "outputs": [
    {
     "data": {
      "text/plain": [
       "[tensor(1.3897, grad_fn=<NllLossBackward>),\n",
       " tensor(1.3838, grad_fn=<NllLossBackward>),\n",
       " tensor(1.3851, grad_fn=<NllLossBackward>)]"
      ]
     },
     "execution_count": 24,
     "metadata": {},
     "output_type": "execute_result"
    }
   ],
   "source": [
    "x,y = next(itr)\n",
    "y_preds = [classifier(x), classifier_pretrained(x), classifier_pretrained_freeze(x)]\n",
    "losses = [loss_fn(y_pred,y) for y_pred in y_preds]\n",
    "losses"
   ]
  },
  {
   "cell_type": "markdown",
   "metadata": {},
   "source": [
    "## Training"
   ]
  },
  {
   "cell_type": "markdown",
   "metadata": {},
   "source": [
    "## Going through the model"
   ]
  },
  {
   "cell_type": "code",
   "execution_count": null,
   "metadata": {
    "ExecuteTime": {
     "end_time": "2019-03-29T12:25:54.906329Z",
     "start_time": "2019-03-29T12:25:54.885745Z"
    }
   },
   "outputs": [],
   "source": [
    "emb = nn.Embedding(dc.vocab_size, consts.embedding_size)\n",
    "conv1s = nn.Sequential(\n",
    "      nn.Conv1d(in_channels=consts.embedding_size, out_channels=consts.n_channels, kernel_size=3, padding=1),\n",
    "      nn.ELU())\n",
    "conv2s = nn.Sequential(nn.Conv1d(in_channels=consts.n_channels, out_channels=consts.n_channels,\n",
    "         kernel_size=3, stride=2), nn.ELU())\n",
    "dropout = nn.Dropout(p=consts.dropout_p)\n",
    "relu = nn.ReLU()\n",
    "fc1 = nn.Linear(in_features=consts.n_channels, out_features=consts.hidden_dim)\n",
    "fc2 = nn.Linear(in_features=consts.hidden_dim, out_features=dc.n_cats)\n",
    "softmax = nn.Softmax(dim=1)"
   ]
  },
  {
   "cell_type": "code",
   "execution_count": null,
   "metadata": {
    "ExecuteTime": {
     "end_time": "2019-03-29T12:25:57.834232Z",
     "start_time": "2019-03-29T12:25:57.820701Z"
    }
   },
   "outputs": [],
   "source": [
    "itr = iter(dc.train_dl)"
   ]
  },
  {
   "cell_type": "code",
   "execution_count": null,
   "metadata": {
    "ExecuteTime": {
     "end_time": "2019-03-29T12:25:57.878396Z",
     "start_time": "2019-03-29T12:25:57.835403Z"
    }
   },
   "outputs": [],
   "source": [
    "x,y = next(itr)\n",
    "print(x.shape, y.shape)"
   ]
  },
  {
   "cell_type": "code",
   "execution_count": null,
   "metadata": {
    "ExecuteTime": {
     "end_time": "2019-03-29T12:26:01.009419Z",
     "start_time": "2019-03-29T12:26:00.990757Z"
    }
   },
   "outputs": [],
   "source": [
    "print(emb)\n",
    "t = emb(x)\n",
    "print(t.shape)\n",
    "t = t.permute(0,2,1)\n",
    "print(t.shape)"
   ]
  },
  {
   "cell_type": "code",
   "execution_count": null,
   "metadata": {
    "ExecuteTime": {
     "end_time": "2019-03-29T12:26:12.594622Z",
     "start_time": "2019-03-29T12:26:12.565759Z"
    }
   },
   "outputs": [],
   "source": [
    "print(conv1s)\n",
    "t = conv1s(t)\n",
    "print(t.shape)"
   ]
  },
  {
   "cell_type": "code",
   "execution_count": null,
   "metadata": {
    "ExecuteTime": {
     "end_time": "2019-03-29T12:26:20.352702Z",
     "start_time": "2019-03-29T12:26:20.331869Z"
    }
   },
   "outputs": [],
   "source": [
    "print(conv2s)\n",
    "t = conv2s(t)\n",
    "print(t.shape)"
   ]
  },
  {
   "cell_type": "code",
   "execution_count": null,
   "metadata": {
    "ExecuteTime": {
     "end_time": "2019-03-29T12:26:34.388687Z",
     "start_time": "2019-03-29T12:26:34.370801Z"
    }
   },
   "outputs": [],
   "source": [
    "print(conv2s)\n",
    "t = conv2s(t)\n",
    "print(t.shape)"
   ]
  },
  {
   "cell_type": "code",
   "execution_count": null,
   "metadata": {
    "ExecuteTime": {
     "end_time": "2019-03-29T12:26:35.922980Z",
     "start_time": "2019-03-29T12:26:35.904177Z"
    }
   },
   "outputs": [],
   "source": [
    "print(conv1s)\n",
    "t = conv1s(t)\n",
    "print(t.shape)"
   ]
  },
  {
   "cell_type": "code",
   "execution_count": null,
   "metadata": {
    "ExecuteTime": {
     "end_time": "2019-03-29T12:26:38.303043Z",
     "start_time": "2019-03-29T12:26:38.284968Z"
    }
   },
   "outputs": [],
   "source": [
    "p = F.avg_pool1d(t, 3)\n",
    "print(p.shape)\n",
    "torch.all(p==t)"
   ]
  },
  {
   "cell_type": "code",
   "execution_count": null,
   "metadata": {
    "ExecuteTime": {
     "end_time": "2019-03-29T12:26:40.422747Z",
     "start_time": "2019-03-29T12:26:40.406037Z"
    }
   },
   "outputs": [],
   "source": [
    "p = p.squeeze(dim=2)\n",
    "print(p.shape)"
   ]
  },
  {
   "cell_type": "code",
   "execution_count": null,
   "metadata": {
    "ExecuteTime": {
     "end_time": "2019-03-29T12:26:41.832754Z",
     "start_time": "2019-03-29T12:26:41.813921Z"
    }
   },
   "outputs": [],
   "source": [
    "print(fc1)\n",
    "p = fc1(p)\n",
    "p = dropout(p)\n",
    "print(p.shape)"
   ]
  },
  {
   "cell_type": "code",
   "execution_count": null,
   "metadata": {
    "ExecuteTime": {
     "end_time": "2019-03-29T12:26:42.969845Z",
     "start_time": "2019-03-29T12:26:42.957360Z"
    }
   },
   "outputs": [],
   "source": [
    "print(fc2)\n",
    "p = fc2(p)\n",
    "print(p.shape)"
   ]
  }
 ],
 "metadata": {
  "kernelspec": {
   "display_name": "Python 3",
   "language": "python",
   "name": "python3"
  },
  "language_info": {
   "codemirror_mode": {
    "name": "ipython",
    "version": 3
   },
   "file_extension": ".py",
   "mimetype": "text/x-python",
   "name": "python",
   "nbconvert_exporter": "python",
   "pygments_lexer": "ipython3",
   "version": "3.7.2"
  },
  "toc": {
   "base_numbering": 1,
   "nav_menu": {},
   "number_sections": true,
   "sideBar": true,
   "skip_h1_title": true,
   "title_cell": "Table of Contents",
   "title_sidebar": "Contents",
   "toc_cell": true,
   "toc_position": {},
   "toc_section_display": true,
   "toc_window_display": false
  }
 },
 "nbformat": 4,
 "nbformat_minor": 2
}
