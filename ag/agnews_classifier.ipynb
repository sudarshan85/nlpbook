{
 "cells": [
  {
   "cell_type": "markdown",
   "metadata": {
    "toc": true
   },
   "source": [
    "<h1>Table of Contents<span class=\"tocSkip\"></span></h1>\n",
    "<div class=\"toc\"><ul class=\"toc-item\"><li><span><a href=\"#Imports-&amp;-Inits\" data-toc-modified-id=\"Imports-&amp;-Inits-1\"><span class=\"toc-item-num\">1&nbsp;&nbsp;</span>Imports &amp; Inits</a></span></li><li><span><a href=\"#Data-&amp;-Model\" data-toc-modified-id=\"Data-&amp;-Model-2\"><span class=\"toc-item-num\">2&nbsp;&nbsp;</span>Data &amp; Model</a></span></li></ul></div>"
   ]
  },
  {
   "cell_type": "markdown",
   "metadata": {},
   "source": [
    "# AG News Classifier with ConvNet\n",
    "Classifier to classify news titles into categories."
   ]
  },
  {
   "cell_type": "markdown",
   "metadata": {},
   "source": [
    "## Imports & Inits"
   ]
  },
  {
   "cell_type": "code",
   "execution_count": null,
   "metadata": {
    "ExecuteTime": {
     "end_time": "2019-03-28T21:37:17.309670Z",
     "start_time": "2019-03-28T21:37:17.297216Z"
    }
   },
   "outputs": [],
   "source": [
    "%load_ext autoreload\n",
    "%autoreload 2"
   ]
  },
  {
   "cell_type": "code",
   "execution_count": null,
   "metadata": {
    "ExecuteTime": {
     "end_time": "2019-03-28T21:37:18.331420Z",
     "start_time": "2019-03-28T21:37:17.310776Z"
    }
   },
   "outputs": [],
   "source": [
    "import pdb\n",
    "import pandas as pd\n",
    "import numpy as np\n",
    "import torch\n",
    "\n",
    "from torch import nn\n",
    "from torch.nn import functional as F\n",
    "from torch import optim\n",
    "from torch.utils.data import DataLoader\n",
    "from pathlib import Path\n",
    "\n",
    "from ignite.engine import Events, create_supervised_evaluator\n",
    "from ignite.metrics import Accuracy, Loss\n",
    "from ignite.contrib.handlers import ProgressBar"
   ]
  },
  {
   "cell_type": "code",
   "execution_count": null,
   "metadata": {
    "ExecuteTime": {
     "end_time": "2019-03-28T21:37:18.364788Z",
     "start_time": "2019-03-28T21:37:18.333245Z"
    }
   },
   "outputs": [],
   "source": [
    "from consts import consts\n",
    "from ag.data import NewsDataset, DataContainer\n",
    "consts"
   ]
  },
  {
   "cell_type": "markdown",
   "metadata": {},
   "source": [
    "## Data & Model"
   ]
  },
  {
   "cell_type": "code",
   "execution_count": null,
   "metadata": {
    "ExecuteTime": {
     "end_time": "2019-03-28T21:37:24.913941Z",
     "start_time": "2019-03-28T21:37:24.777677Z"
    }
   },
   "outputs": [],
   "source": [
    "df = pd.read_csv(consts.proc_dataset_csv)\n",
    "df.head()"
   ]
  },
  {
   "cell_type": "code",
   "execution_count": null,
   "metadata": {
    "ExecuteTime": {
     "end_time": "2019-03-28T21:37:26.100998Z",
     "start_time": "2019-03-28T21:37:25.698922Z"
    }
   },
   "outputs": [],
   "source": [
    "dc = DataContainer(df, NewsDataset, consts.vectorizer_file, consts.batch_size)"
   ]
  },
  {
   "cell_type": "code",
   "execution_count": null,
   "metadata": {
    "ExecuteTime": {
     "end_time": "2019-03-28T21:37:34.954481Z",
     "start_time": "2019-03-28T21:37:34.930650Z"
    }
   },
   "outputs": [],
   "source": [
    "class NewsClassifier(nn.Module):\n",
    "  def __init__(self, emb_sz, vocab_size, n_channels, hidden_dim, n_classes, dropout_p,\n",
    "               pretrained=None, padding_idx=0):\n",
    "    super(NewsClassifier, self).__init__()\n",
    "    \n",
    "    if pretrained:\n",
    "      pass\n",
    "    else:\n",
    "      self.emb = nn.Embedding(vocab_size, emb_sz, padding_idx)\n",
    "      \n",
    "    self.convnet = nn.Sequential(\n",
    "      nn.Conv1d(in_channels=emb_sz, out_channels=n_channels, kernel_size=3),\n",
    "      nn.ELU(),\n",
    "      nn.Conv1d(in_channels=n_channels, out_channels=n_channels, kernel_size=3, stride=2),\n",
    "      nn.ELU(),\n",
    "      nn.Conv1d(in_channels=n_channels, out_channels=n_channels, kernel_size=3, stride=2),\n",
    "      nn.ELU(),\n",
    "      nn.Conv1d(in_channels=n_channels, out_channels=n_channels, kernel_size=3),\n",
    "      nn.ELU()\n",
    "    )\n",
    "    \n",
    "    self.dropout = nn.Dropout(p=dropout_p)\n",
    "    self.relu = nn.ReLU()\n",
    "    self.fc1 = nn.Linear(in_features=n_channels, out_features=hidden_dim)\n",
    "    self.fc2 = nn.Linear(in_features=hidden_dim, out_features=n_classes)\n",
    "    self.softmax = nn.Softmax(dim=1)\n",
    "    \n",
    "  def forward(self, x_in, apply_softmax=False):\n",
    "    # embed and permute so features are channels\n",
    "    x_emb = self.emb(x_in).permute(0,2,1)\n",
    "    features = self.convnet(x_emb)\n",
    "    \n",
    "    # average and remove extra dimension\n",
    "    remaining_size = features.size(dim=2)\n",
    "    features = F.avg_pool1d(features, remaining_size).squeeze(dim=2)\n",
    "    features = self.dropout(features)\n",
    "    \n",
    "    # mlp classifier\n",
    "    hidden_vector = self.fc1(features)\n",
    "    hidden_vector = self.dropout(hidden_vector)\n",
    "    hidden_vector = self.relu(hidden_vector)\n",
    "    prediction_vector = self.fc2(hidden_vector)\n",
    "    \n",
    "    if apply_softmax:\n",
    "      prediction_vector = self.softmax(prediction_vector)\n",
    "      \n",
    "    return prediction_vector"
   ]
  },
  {
   "cell_type": "code",
   "execution_count": null,
   "metadata": {
    "ExecuteTime": {
     "end_time": "2019-03-28T21:38:28.012371Z",
     "start_time": "2019-03-28T21:38:27.896744Z"
    }
   },
   "outputs": [],
   "source": [
    "classifier = NewsClassifier(consts.embedding_size, dc.vocabulary_size, consts.n_channels, consts.hidden_dim,\n",
    "                            dc.n_classes, consts.dropout_p)"
   ]
  },
  {
   "cell_type": "code",
   "execution_count": null,
   "metadata": {
    "ExecuteTime": {
     "end_time": "2019-03-28T21:38:29.830043Z",
     "start_time": "2019-03-28T21:38:29.816079Z"
    }
   },
   "outputs": [],
   "source": [
    "classifier"
   ]
  },
  {
   "cell_type": "code",
   "execution_count": null,
   "metadata": {
    "ExecuteTime": {
     "end_time": "2019-03-28T20:49:44.149924Z",
     "start_time": "2019-03-28T20:49:44.135559Z"
    }
   },
   "outputs": [],
   "source": [
    "itr = iter(dc.train_dl)"
   ]
  },
  {
   "cell_type": "code",
   "execution_count": null,
   "metadata": {
    "ExecuteTime": {
     "end_time": "2019-03-28T20:50:08.639056Z",
     "start_time": "2019-03-28T20:50:08.615899Z"
    }
   },
   "outputs": [],
   "source": [
    "x,y = next(itr)"
   ]
  }
 ],
 "metadata": {
  "kernelspec": {
   "display_name": "Python 3",
   "language": "python",
   "name": "python3"
  },
  "language_info": {
   "codemirror_mode": {
    "name": "ipython",
    "version": 3
   },
   "file_extension": ".py",
   "mimetype": "text/x-python",
   "name": "python",
   "nbconvert_exporter": "python",
   "pygments_lexer": "ipython3",
   "version": "3.7.2"
  },
  "toc": {
   "base_numbering": 1,
   "nav_menu": {},
   "number_sections": true,
   "sideBar": true,
   "skip_h1_title": true,
   "title_cell": "Table of Contents",
   "title_sidebar": "Contents",
   "toc_cell": true,
   "toc_position": {},
   "toc_section_display": true,
   "toc_window_display": false
  }
 },
 "nbformat": 4,
 "nbformat_minor": 2
}
