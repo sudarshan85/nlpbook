{
 "cells": [
  {
   "cell_type": "markdown",
   "metadata": {
    "toc": true
   },
   "source": [
    "<h1>Table of Contents<span class=\"tocSkip\"></span></h1>\n",
    "<div class=\"toc\"><ul class=\"toc-item\"><li><span><a href=\"#Imports-&amp;-Inits\" data-toc-modified-id=\"Imports-&amp;-Inits-1\"><span class=\"toc-item-num\">1&nbsp;&nbsp;</span>Imports &amp; Inits</a></span></li><li><span><a href=\"#Data-&amp;-Pretrained-Embeddings\" data-toc-modified-id=\"Data-&amp;-Pretrained-Embeddings-2\"><span class=\"toc-item-num\">2&nbsp;&nbsp;</span>Data &amp; Pretrained Embeddings</a></span></li><li><span><a href=\"#Model\" data-toc-modified-id=\"Model-3\"><span class=\"toc-item-num\">3&nbsp;&nbsp;</span>Model</a></span></li><li><span><a href=\"#Training\" data-toc-modified-id=\"Training-4\"><span class=\"toc-item-num\">4&nbsp;&nbsp;</span>Training</a></span></li><li><span><a href=\"#Testing\" data-toc-modified-id=\"Testing-5\"><span class=\"toc-item-num\">5&nbsp;&nbsp;</span>Testing</a></span><ul class=\"toc-item\"><li><span><a href=\"#Plots\" data-toc-modified-id=\"Plots-5.1\"><span class=\"toc-item-num\">5.1&nbsp;&nbsp;</span>Plots</a></span></li><li><span><a href=\"#Ignite-Testing\" data-toc-modified-id=\"Ignite-Testing-5.2\"><span class=\"toc-item-num\">5.2&nbsp;&nbsp;</span>Ignite Testing</a></span></li><li><span><a href=\"#NLPBook-Testing\" data-toc-modified-id=\"NLPBook-Testing-5.3\"><span class=\"toc-item-num\">5.3&nbsp;&nbsp;</span>NLPBook Testing</a></span></li></ul></li><li><span><a href=\"#Inference\" data-toc-modified-id=\"Inference-6\"><span class=\"toc-item-num\">6&nbsp;&nbsp;</span>Inference</a></span></li><li><span><a href=\"#Going-through-the-model\" data-toc-modified-id=\"Going-through-the-model-7\"><span class=\"toc-item-num\">7&nbsp;&nbsp;</span>Going through the model</a></span></li></ul></div>"
   ]
  },
  {
   "cell_type": "markdown",
   "metadata": {},
   "source": [
    "# AG News Classifier with ConvNet\n",
    "Classifier to classify news titles into categories."
   ]
  },
  {
   "cell_type": "markdown",
   "metadata": {},
   "source": [
    "## Imports & Inits"
   ]
  },
  {
   "cell_type": "code",
   "execution_count": 1,
   "metadata": {
    "ExecuteTime": {
     "end_time": "2019-03-29T21:05:33.731388Z",
     "start_time": "2019-03-29T21:05:33.717852Z"
    }
   },
   "outputs": [],
   "source": [
    "%load_ext autoreload\n",
    "%autoreload 2"
   ]
  },
  {
   "cell_type": "code",
   "execution_count": 2,
   "metadata": {
    "ExecuteTime": {
     "end_time": "2019-03-29T21:05:34.793762Z",
     "start_time": "2019-03-29T21:05:33.732865Z"
    }
   },
   "outputs": [],
   "source": [
    "import matplotlib.pyplot as plt\n",
    "%matplotlib inline\n",
    "\n",
    "import pdb\n",
    "import pandas as pd\n",
    "import numpy as np\n",
    "import torch\n",
    "import re\n",
    "\n",
    "from torch import nn\n",
    "from torch.nn import functional as F\n",
    "from torch import optim\n",
    "from torch.utils.data import DataLoader\n",
    "from pathlib import Path\n",
    "\n",
    "from ignite.engine import Events, create_supervised_evaluator\n",
    "from ignite.metrics import Accuracy, Loss\n",
    "from ignite.contrib.handlers import ProgressBar"
   ]
  },
  {
   "cell_type": "code",
   "execution_count": 3,
   "metadata": {
    "ExecuteTime": {
     "end_time": "2019-03-29T21:05:34.865736Z",
     "start_time": "2019-03-29T21:05:34.795245Z"
    }
   },
   "outputs": [
    {
     "data": {
      "text/plain": [
       "{'path': PosixPath('../data/ag_news'),\n",
       " 'work_dir': PosixPath('../data/ag_news/work_dir'),\n",
       " 'proc_dataset_csv': PosixPath('../data/ag_news/news_with_splits.csv'),\n",
       " 'model_dir': PosixPath('../data/ag_news/work_dir/models'),\n",
       " 'vectorizer_file': PosixPath('../data/ag_news/work_dir/vectorizer.json'),\n",
       " 'metrics_file': PosixPath('../data/ag_news/work_dir/metrics.csv'),\n",
       " 'cw_file': PosixPath('../data/ag_news/work_dir/class_weights.pth'),\n",
       " 'use_glove': False,\n",
       " 'glove_path': PosixPath('../pretrained/glove6B/glove.6B.100d.txt'),\n",
       " 'embedding_size': 100,\n",
       " 'hidden_dim': 103,\n",
       " 'n_channels': 101,\n",
       " 'dropout_p': 0.1,\n",
       " 'batch_size': 128,\n",
       " 'learning_rate': 0.001,\n",
       " 'num_epochs': 97,\n",
       " 'device': 'cuda:3',\n",
       " 'checkpointer_prefix': 'agnews',\n",
       " 'checkpointer_name': 'classifier',\n",
       " 'early_stopping_criteria': 11,\n",
       " 'save_every': 2,\n",
       " 'save_total': 5}"
      ]
     },
     "execution_count": 3,
     "metadata": {},
     "output_type": "execute_result"
    }
   ],
   "source": [
    "from consts import consts\n",
    "from ag.data import NewsDataset, DataContainer\n",
    "from ag.model import NewsClassifier, ModelContainer\n",
    "from ag.pretrained_emb import PretrainedEmbeddings\n",
    "from ag.trainer import IgniteTrainer\n",
    "vars(consts)"
   ]
  },
  {
   "cell_type": "markdown",
   "metadata": {},
   "source": [
    "## Data & Pretrained Embeddings"
   ]
  },
  {
   "cell_type": "code",
   "execution_count": 4,
   "metadata": {
    "ExecuteTime": {
     "end_time": "2019-03-29T21:05:35.000491Z",
     "start_time": "2019-03-29T21:05:34.866943Z"
    }
   },
   "outputs": [
    {
     "data": {
      "text/html": [
       "<div>\n",
       "<style scoped>\n",
       "    .dataframe tbody tr th:only-of-type {\n",
       "        vertical-align: middle;\n",
       "    }\n",
       "\n",
       "    .dataframe tbody tr th {\n",
       "        vertical-align: top;\n",
       "    }\n",
       "\n",
       "    .dataframe thead th {\n",
       "        text-align: right;\n",
       "    }\n",
       "</style>\n",
       "<table border=\"1\" class=\"dataframe\">\n",
       "  <thead>\n",
       "    <tr style=\"text-align: right;\">\n",
       "      <th></th>\n",
       "      <th>category</th>\n",
       "      <th>split</th>\n",
       "      <th>title</th>\n",
       "    </tr>\n",
       "  </thead>\n",
       "  <tbody>\n",
       "    <tr>\n",
       "      <th>0</th>\n",
       "      <td>Business</td>\n",
       "      <td>train</td>\n",
       "      <td>Jobs, tax cuts key issues for Bush</td>\n",
       "    </tr>\n",
       "    <tr>\n",
       "      <th>1</th>\n",
       "      <td>Business</td>\n",
       "      <td>train</td>\n",
       "      <td>Jarden Buying Mr. Coffee #39;s Maker</td>\n",
       "    </tr>\n",
       "    <tr>\n",
       "      <th>2</th>\n",
       "      <td>Business</td>\n",
       "      <td>train</td>\n",
       "      <td>Retail sales show festive fervour</td>\n",
       "    </tr>\n",
       "    <tr>\n",
       "      <th>3</th>\n",
       "      <td>Business</td>\n",
       "      <td>train</td>\n",
       "      <td>Intervoice's Customers Come Calling</td>\n",
       "    </tr>\n",
       "    <tr>\n",
       "      <th>4</th>\n",
       "      <td>Business</td>\n",
       "      <td>train</td>\n",
       "      <td>Boeing Expects Air Force Contract</td>\n",
       "    </tr>\n",
       "  </tbody>\n",
       "</table>\n",
       "</div>"
      ],
      "text/plain": [
       "   category  split                                 title\n",
       "0  Business  train    Jobs, tax cuts key issues for Bush\n",
       "1  Business  train  Jarden Buying Mr. Coffee #39;s Maker\n",
       "2  Business  train     Retail sales show festive fervour\n",
       "3  Business  train   Intervoice's Customers Come Calling\n",
       "4  Business  train     Boeing Expects Air Force Contract"
      ]
     },
     "execution_count": 4,
     "metadata": {},
     "output_type": "execute_result"
    }
   ],
   "source": [
    "df = pd.read_csv(consts.proc_dataset_csv)\n",
    "df.head()"
   ]
  },
  {
   "cell_type": "code",
   "execution_count": 5,
   "metadata": {
    "ExecuteTime": {
     "end_time": "2019-03-29T21:05:35.406199Z",
     "start_time": "2019-03-29T21:05:35.001637Z"
    }
   },
   "outputs": [
    {
     "name": "stdout",
     "output_type": "stream",
     "text": [
      "Creating and saving vectorizer\n"
     ]
    }
   ],
   "source": [
    "dc = DataContainer(df, NewsDataset, consts.vectorizer_file, consts.batch_size, is_load=False)\n",
    "\n",
    "try:\n",
    "  class_weights = torch.load(consts.cw_file)\n",
    "except FileNotFoundError:\n",
    "  cat_vocab = dc.cat_vocab\n",
    "  class_counts = df['category'].value_counts().to_dict()\n",
    "  sorted_counts = sorted(class_counts.items(), key=lambda x: cat_vocab.lookup_token(x[0]))\n",
    "  freq = [count for _, count in sorted_counts]\n",
    "  class_weights = 1.0/torch.tensor(freq, dtype=torch.float32)\n",
    "  torch.save(class_weights, consts.cw_file)  "
   ]
  },
  {
   "cell_type": "code",
   "execution_count": 6,
   "metadata": {
    "ExecuteTime": {
     "end_time": "2019-03-29T21:05:47.726411Z",
     "start_time": "2019-03-29T21:05:36.524348Z"
    }
   },
   "outputs": [
    {
     "name": "stdout",
     "output_type": "stream",
     "text": [
      "Loading pretrained embeddings...\n",
      "Finished!\n"
     ]
    }
   ],
   "source": [
    "pe = PretrainedEmbeddings.from_file(consts.glove_path)\n",
    "pe.make_custom_embeddings(list(dc.title_vocab.idx_token_bidict.values()))"
   ]
  },
  {
   "cell_type": "markdown",
   "metadata": {},
   "source": [
    "## Model"
   ]
  },
  {
   "cell_type": "code",
   "execution_count": 7,
   "metadata": {
    "ExecuteTime": {
     "end_time": "2019-03-29T21:05:47.864444Z",
     "start_time": "2019-03-29T21:05:47.728076Z"
    }
   },
   "outputs": [],
   "source": [
    "classifier = NewsClassifier(consts.embedding_size, dc.vocab_size, consts.n_channels, consts.hidden_dim,\n",
    "                            dc.n_classes, consts.dropout_p)\n",
    "optimizer = optim.Adam(classifier.parameters(), lr=consts.learning_rate)\n",
    "scheduler = optim.lr_scheduler.ReduceLROnPlateau(optimizer, 'min', 0.5, 1)\n",
    "\n",
    "classifier_pretrained = NewsClassifier(consts.embedding_size, dc.vocab_size, consts.n_channels,\n",
    "                                       consts.hidden_dim, dc.n_classes, consts.dropout_p,\n",
    "                                       pretrained=pe.custom_embeddings)\n",
    "optimizer_pretrained = optim.Adam(classifier_pretrained.parameters(), lr=consts.learning_rate)\n",
    "scheduler_pretrained = optim.lr_scheduler.ReduceLROnPlateau(optimizer_pretrained, 'min', 0.5, 1)\n",
    "\n",
    "classifier_pretrained_freeze = NewsClassifier(consts.embedding_size, dc.vocab_size, consts.n_channels,\n",
    "                                              consts.hidden_dim, dc.n_classes, consts.dropout_p,\n",
    "                                              pretrained=pe.custom_embeddings, freeze_pretrained=True)\n",
    "optimizer_pretrained_freeze = optim.Adam(classifier_pretrained_freeze.parameters(), lr=consts.learning_rate)\n",
    "scheduler_pretrained_freeze = optim.lr_scheduler.ReduceLROnPlateau(optimizer_pretrained_freeze, 'min', 0.5, 1)\n",
    "\n",
    "classifiers = [classifier, classifier_pretrained, classifier_pretrained_freeze]\n",
    "optimizers = [optimizer, optimizer_pretrained, optimizer_pretrained_freeze]\n",
    "schedulers = [scheduler, scheduler_pretrained, scheduler_pretrained_freeze]"
   ]
  },
  {
   "cell_type": "code",
   "execution_count": null,
   "metadata": {
    "ExecuteTime": {
     "end_time": "2019-03-29T16:18:33.208931Z",
     "start_time": "2019-03-29T16:18:27.541165Z"
    }
   },
   "outputs": [],
   "source": [
    "class_weights = class_weights.to(consts.device)\n",
    "class_weights"
   ]
  },
  {
   "cell_type": "code",
   "execution_count": null,
   "metadata": {
    "ExecuteTime": {
     "end_time": "2019-03-29T20:45:23.502498Z",
     "start_time": "2019-03-29T20:45:23.489267Z"
    }
   },
   "outputs": [],
   "source": [
    "loss_fn = nn.CrossEntropyLoss(class_weights)"
   ]
  },
  {
   "cell_type": "code",
   "execution_count": null,
   "metadata": {
    "ExecuteTime": {
     "end_time": "2019-03-29T16:18:44.504749Z",
     "start_time": "2019-03-29T16:18:44.490813Z"
    }
   },
   "outputs": [],
   "source": [
    "itr = iter(dc.train_dl)"
   ]
  },
  {
   "cell_type": "code",
   "execution_count": null,
   "metadata": {
    "ExecuteTime": {
     "end_time": "2019-03-29T16:18:44.786681Z",
     "start_time": "2019-03-29T16:18:44.506243Z"
    },
    "scrolled": true
   },
   "outputs": [],
   "source": [
    "x,y = next(itr)\n",
    "y_preds = [classifier(x) for classifier in classifiers]\n",
    "losses = [loss_fn(y_pred,y) for y_pred in y_preds]\n",
    "losses"
   ]
  },
  {
   "cell_type": "code",
   "execution_count": null,
   "metadata": {
    "ExecuteTime": {
     "end_time": "2019-03-29T20:40:24.863351Z",
     "start_time": "2019-03-29T20:40:24.849971Z"
    }
   },
   "outputs": [],
   "source": [
    "mcs = [ModelContainer(c, o, loss_fn, s) for c,o,s in zip(classifiers, optimizers, schedulers)]"
   ]
  },
  {
   "cell_type": "code",
   "execution_count": null,
   "metadata": {
    "ExecuteTime": {
     "end_time": "2019-03-29T20:43:01.900708Z",
     "start_time": "2019-03-29T20:43:01.886333Z"
    }
   },
   "outputs": [],
   "source": [
    "pbar = ProgressBar(persist=True)\n",
    "metrics = {'accuracy': Accuracy(), 'loss': Loss(loss_fn)}"
   ]
  },
  {
   "cell_type": "markdown",
   "metadata": {},
   "source": [
    "## Training"
   ]
  },
  {
   "cell_type": "code",
   "execution_count": null,
   "metadata": {
    "ExecuteTime": {
     "end_time": "2019-03-29T16:19:04.083517Z",
     "start_time": "2019-03-29T16:19:04.071064Z"
    }
   },
   "outputs": [],
   "source": [
    "consts.metric_file=consts.work_dir/'metrics.csv'\n",
    "consts.num_epochs=2"
   ]
  },
  {
   "cell_type": "code",
   "execution_count": null,
   "metadata": {
    "ExecuteTime": {
     "end_time": "2019-03-29T16:19:04.746708Z",
     "start_time": "2019-03-29T16:19:04.730369Z"
    }
   },
   "outputs": [],
   "source": [
    "ig1 = IgniteTrainer(mcs[0], dc, consts, pbar, metrics)\n",
    "ig1.run()"
   ]
  },
  {
   "cell_type": "markdown",
   "metadata": {},
   "source": [
    "## Testing"
   ]
  },
  {
   "cell_type": "code",
   "execution_count": 8,
   "metadata": {
    "ExecuteTime": {
     "end_time": "2019-03-29T21:05:47.880349Z",
     "start_time": "2019-03-29T21:05:47.865589Z"
    }
   },
   "outputs": [],
   "source": [
    "VANILLA=0\n",
    "PRETRAINED=1\n",
    "FROZEN=2"
   ]
  },
  {
   "cell_type": "code",
   "execution_count": 9,
   "metadata": {
    "ExecuteTime": {
     "end_time": "2019-03-29T21:05:47.896214Z",
     "start_time": "2019-03-29T21:05:47.881719Z"
    }
   },
   "outputs": [],
   "source": [
    "loss_fn = nn.CrossEntropyLoss(class_weights)\n",
    "pbar = ProgressBar(persist=True)\n",
    "metrics = {'accuracy': Accuracy(), 'loss': Loss(loss_fn)}"
   ]
  },
  {
   "cell_type": "code",
   "execution_count": 10,
   "metadata": {
    "ExecuteTime": {
     "end_time": "2019-03-29T21:05:47.911034Z",
     "start_time": "2019-03-29T21:05:47.897362Z"
    }
   },
   "outputs": [],
   "source": [
    "state_dicts = [consts.work_dir/'agnews_vanilla.pth', consts.work_dir/'agnews_pretrained.pth',\n",
    "               consts.work_dir/'agnews_frozen.pth']\n",
    "metric_files = [consts.work_dir/'metrics_vanilla.csv', consts.work_dir/'metrics_pretrained.csv',\n",
    "              consts.work_dir/'metrics_frozen.csv']\n",
    "idx = PRETRAINED"
   ]
  },
  {
   "cell_type": "markdown",
   "metadata": {},
   "source": [
    "### Plots"
   ]
  },
  {
   "cell_type": "code",
   "execution_count": 11,
   "metadata": {
    "ExecuteTime": {
     "end_time": "2019-03-29T21:05:47.930787Z",
     "start_time": "2019-03-29T21:05:47.912011Z"
    }
   },
   "outputs": [],
   "source": [
    "training_metrics = pd.read_csv(metric_files[idx])\n",
    "training_metrics = training_metrics[:-1]"
   ]
  },
  {
   "cell_type": "code",
   "execution_count": 12,
   "metadata": {
    "ExecuteTime": {
     "end_time": "2019-03-29T21:05:48.213005Z",
     "start_time": "2019-03-29T21:05:47.931707Z"
    }
   },
   "outputs": [
    {
     "data": {
      "text/plain": [
       "<matplotlib.axes._subplots.AxesSubplot at 0x7ff751b88048>"
      ]
     },
     "execution_count": 12,
     "metadata": {},
     "output_type": "execute_result"
    },
    {
     "data": {
      "image/png": "[encoded data removed]",
      "text/plain": [
       "<Figure size 1080x360 with 2 Axes>"
      ]
     },
     "metadata": {
      "needs_background": "light"
     },
     "output_type": "display_data"
    }
   ],
   "source": [
    "fig, axes = plt.subplots(nrows=1, ncols=2, figsize=(15,5))\n",
    "training_metrics.plot(x='epoch', y=['training_loss', 'validation_loss'], kind='line',\n",
    "                      title='Training and validation loss', ax=axes[0])\n",
    "training_metrics.plot(x='epoch', y=['training_acc', 'validation_acc'], kind='line',\n",
    "                      title='Training and validation accuracy', ax=axes[1])"
   ]
  },
  {
   "cell_type": "markdown",
   "metadata": {},
   "source": [
    "### Ignite Testing"
   ]
  },
  {
   "cell_type": "code",
   "execution_count": 13,
   "metadata": {
    "ExecuteTime": {
     "end_time": "2019-03-29T21:06:28.523008Z",
     "start_time": "2019-03-29T21:06:19.151789Z"
    }
   },
   "outputs": [
    {
     "name": "stdout",
     "output_type": "stream",
     "text": [
      "Test loss: 0.591\n",
      "Test accuracy: 0.797\n"
     ]
    },
    {
     "data": {
      "text/plain": [
       "<ignite.engine.engine.State at 0x7ff7544859b0>"
      ]
     },
     "execution_count": 13,
     "metadata": {},
     "output_type": "execute_result"
    }
   ],
   "source": [
    "classifier = classifiers[idx]\n",
    "state_dict = torch.load(state_dicts[idx])\n",
    "classifier.load_state_dict(state_dict)\n",
    "\n",
    "evaluator = create_supervised_evaluator(classifier, metrics=metrics)\n",
    "\n",
    "@evaluator.on(Events.COMPLETED)\n",
    "def log_testing_results(engine):\n",
    "  metrics = engine.state.metrics\n",
    "  print(f\"Test loss: {metrics['loss']:0.3f}\")\n",
    "  print(f\"Test accuracy: {metrics['accuracy']:0.3f}\")\n",
    "\n",
    "evaluator.run(dc.test_dl)"
   ]
  },
  {
   "cell_type": "markdown",
   "metadata": {},
   "source": [
    "### NLPBook Testing"
   ]
  },
  {
   "cell_type": "code",
   "execution_count": 14,
   "metadata": {
    "ExecuteTime": {
     "end_time": "2019-03-29T21:06:32.288089Z",
     "start_time": "2019-03-29T21:06:28.524785Z"
    }
   },
   "outputs": [
    {
     "name": "stdout",
     "output_type": "stream",
     "text": [
      "Test loss: 0.593\n",
      "Test acc: 79.688%\n"
     ]
    }
   ],
   "source": [
    "def compute_accuracy(y_pred, y_target):\n",
    "  _, y_pred_indices = y_pred.max(dim=1)\n",
    "  n_correct = torch.eq(y_pred_indices, y_target).sum().item()\n",
    "  return n_correct / len(y_pred_indices) * 100\n",
    "\n",
    "running_loss = 0.\n",
    "running_acc = 0.\n",
    "\n",
    "classifier.eval()\n",
    "for i, batch in enumerate(dc.test_dl):\n",
    "  x,y = batch\n",
    "  y_pred = classifier(x_in=x)\n",
    "  \n",
    "  loss = loss_fn(y_pred, y)\n",
    "  loss_t = loss.item()\n",
    "  running_loss += (loss_t-running_loss)/(i+1)\n",
    "  \n",
    "  acc_t = compute_accuracy(y_pred, y)\n",
    "  running_acc += (acc_t-running_acc)/(i+1)\n",
    "\n",
    "print(f\"Test loss: {running_loss:0.3f}\")\n",
    "print(f\"Test acc: {running_acc:0.3f}%\")"
   ]
  },
  {
   "cell_type": "markdown",
   "metadata": {},
   "source": [
    "## Inference"
   ]
  },
  {
   "cell_type": "code",
   "execution_count": 15,
   "metadata": {
    "ExecuteTime": {
     "end_time": "2019-03-29T21:06:32.311895Z",
     "start_time": "2019-03-29T21:06:32.289981Z"
    }
   },
   "outputs": [],
   "source": [
    "# Preprocess the reviews\n",
    "def preprocess_text(text):\n",
    "    text = ' '.join(word.lower() for word in text.split(\" \"))\n",
    "    text = re.sub(r\"([.,!?])\", r\" \\1 \", text)\n",
    "    text = re.sub(r\"[^a-zA-Z.,!?]+\", r\" \", text)\n",
    "    return text"
   ]
  },
  {
   "cell_type": "code",
   "execution_count": 16,
   "metadata": {
    "ExecuteTime": {
     "end_time": "2019-03-29T21:06:32.332436Z",
     "start_time": "2019-03-29T21:06:32.313447Z"
    }
   },
   "outputs": [],
   "source": [
    "def predict_category(title, classifer, vectorizer, max_length):\n",
    "  \"\"\"\n",
    "    Predict a News category for a new title\n",
    "\n",
    "    Args:\n",
    "      title (str): a raw title string\n",
    "      classifier (NewsClassifier): an instance of the trained classifier\n",
    "      vectorizer (NewsVectorizer): the corresponding vectorizer\n",
    "      max_length (int): the max sequence length\n",
    "          Note: CNNs are sensitive to the input data tensor size. \n",
    "                This ensures to keep it the same size as the training data\n",
    "  \"\"\"\n",
    "  title = preprocess_text(title)\n",
    "  vectorized_title = torch.tensor(vectorizer.vectorize(title, max_length))\n",
    "  \n",
    "  # add batch dim so you have a batch of size 1\n",
    "  result = classifier(vectorized_title.unsqueeze(0), apply_softmax=True)\n",
    "  prob_vals, idxs = result.max(dim=1)\n",
    "  pred_cat = vectorizer.category_vocab.lookup_idx(idxs.item())\n",
    "  \n",
    "  return {'category': pred_cat, 'prob': prob_vals.item()}"
   ]
  },
  {
   "cell_type": "code",
   "execution_count": 17,
   "metadata": {
    "ExecuteTime": {
     "end_time": "2019-03-29T21:06:32.360086Z",
     "start_time": "2019-03-29T21:06:32.333702Z"
    }
   },
   "outputs": [],
   "source": [
    "def get_samples():\n",
    "  samples = {}\n",
    "  for cat in dc._val_df['category'].unique():\n",
    "    samples[cat] = dc._val_df['title'][dc._val_df['category'] == cat].tolist()[:5]\n",
    "  return samples\n",
    "\n",
    "samples = get_samples()"
   ]
  },
  {
   "cell_type": "code",
   "execution_count": 18,
   "metadata": {
    "ExecuteTime": {
     "end_time": "2019-03-29T21:06:32.432521Z",
     "start_time": "2019-03-29T21:06:32.361442Z"
    }
   },
   "outputs": [
    {
     "name": "stdout",
     "output_type": "stream",
     "text": [
      "True Category Business\n",
      "==============================\n",
      "Prediction: Business (p=0.53)\n",
      "\t + Sample: AZ suspends marketing of cancer drug\n",
      "Prediction: Business (p=0.91)\n",
      "\t + Sample: Business world has mixed reaction to Perez move\n",
      "Prediction: Sports (p=0.57)\n",
      "\t + Sample: Betting Against Bombay\n",
      "Prediction: Sports (p=0.45)\n",
      "\t + Sample: Malpractice Insurers Face a Tough Market\n",
      "Prediction: Sports (p=0.54)\n",
      "\t + Sample: NVIDIA Is Vindicated\n",
      "------------------------------\n",
      "\n",
      "True Category Sci/Tech\n",
      "==============================\n",
      "Prediction: Business (p=0.38)\n",
      "\t + Sample: Spies prize webcam #39;s eyes\n",
      "Prediction: Sci/Tech (p=0.56)\n",
      "\t + Sample: Sober worm causes headaches\n",
      "Prediction: Sports (p=0.38)\n",
      "\t + Sample: Local Search: Missing Pieces Falling into Place\n",
      "Prediction: Sci/Tech (p=0.88)\n",
      "\t + Sample: Hackers baiting Internet users with Beckham pix\n",
      "Prediction: Sports (p=0.97)\n",
      "\t + Sample: Nokia adds BlackBerry support to Series 80 handsets\n",
      "------------------------------\n",
      "\n",
      "True Category Sports\n",
      "==============================\n",
      "Prediction: Sports (p=0.34)\n",
      "\t + Sample: Is Meyer the man to get Irish up?\n",
      "Prediction: Sports (p=0.39)\n",
      "\t + Sample: Who? Who? And Clemens\n",
      "Prediction: Sports (p=0.98)\n",
      "\t + Sample: Baseball Today (AP)\n",
      "Prediction: Sports (p=0.32)\n",
      "\t + Sample: Mark Kreidler: Yao Ming epitomizes the Chinese athlete who is &lt;b&gt;...&lt;/b&gt;\n",
      "Prediction: Sports (p=0.86)\n",
      "\t + Sample: No. 5 Miami Rebounds to Beat FSU in Overtime\n",
      "------------------------------\n",
      "\n",
      "True Category World\n",
      "==============================\n",
      "Prediction: Sports (p=0.66)\n",
      "\t + Sample: Arafat in pain but expected to recover-Shaath\n",
      "Prediction: World (p=0.70)\n",
      "\t + Sample: Maoist rebels bomb Kathmandu building, no injuries (Reuters)\n",
      "Prediction: World (p=0.73)\n",
      "\t + Sample: Son Running for Ill. Rep.'s House Seat (AP)\n",
      "Prediction: Sports (p=0.43)\n",
      "\t + Sample: Strong Quake Hits in Japan\n",
      "Prediction: World (p=0.97)\n",
      "\t + Sample: Israel assassinates Hamas militant in Damascus\n",
      "------------------------------\n",
      "\n"
     ]
    }
   ],
   "source": [
    "for truth, sample_group in samples.items():\n",
    "  print(f\"True Category {truth}\")\n",
    "  print(\"=\"*30)\n",
    "  for sample in sample_group:\n",
    "    pred = predict_category(sample, classifier, dc.vectorizer, dc._train_ds.max_seq_length+2)\n",
    "    print(f\"Prediction: {pred['category']} (p={pred['prob']:0.2f})\")\n",
    "    print(f\"\\t + Sample: {sample}\")\n",
    "  print(\"-\"*30 + \"\\n\")"
   ]
  },
  {
   "cell_type": "markdown",
   "metadata": {},
   "source": [
    "## Going through the model"
   ]
  },
  {
   "cell_type": "code",
   "execution_count": null,
   "metadata": {
    "ExecuteTime": {
     "end_time": "2019-03-29T12:25:54.906329Z",
     "start_time": "2019-03-29T12:25:54.885745Z"
    }
   },
   "outputs": [],
   "source": [
    "emb = nn.Embedding(dc.vocab_size, consts.embedding_size)\n",
    "conv1s = nn.Sequential(\n",
    "      nn.Conv1d(in_channels=consts.embedding_size, out_channels=consts.n_channels, kernel_size=3, padding=1),\n",
    "      nn.ELU())\n",
    "conv2s = nn.Sequential(nn.Conv1d(in_channels=consts.n_channels, out_channels=consts.n_channels,\n",
    "         kernel_size=3, stride=2), nn.ELU())\n",
    "dropout = nn.Dropout(p=consts.dropout_p)\n",
    "relu = nn.ReLU()\n",
    "fc1 = nn.Linear(in_features=consts.n_channels, out_features=consts.hidden_dim)\n",
    "fc2 = nn.Linear(in_features=consts.hidden_dim, out_features=dc.n_cats)\n",
    "softmax = nn.Softmax(dim=1)"
   ]
  },
  {
   "cell_type": "code",
   "execution_count": null,
   "metadata": {
    "ExecuteTime": {
     "end_time": "2019-03-29T12:25:57.834232Z",
     "start_time": "2019-03-29T12:25:57.820701Z"
    }
   },
   "outputs": [],
   "source": [
    "itr = iter(dc.train_dl)"
   ]
  },
  {
   "cell_type": "code",
   "execution_count": null,
   "metadata": {
    "ExecuteTime": {
     "end_time": "2019-03-29T12:25:57.878396Z",
     "start_time": "2019-03-29T12:25:57.835403Z"
    }
   },
   "outputs": [],
   "source": [
    "x,y = next(itr)\n",
    "print(x.shape, y.shape)"
   ]
  },
  {
   "cell_type": "code",
   "execution_count": null,
   "metadata": {
    "ExecuteTime": {
     "end_time": "2019-03-29T12:26:01.009419Z",
     "start_time": "2019-03-29T12:26:00.990757Z"
    }
   },
   "outputs": [],
   "source": [
    "print(emb)\n",
    "t = emb(x)\n",
    "print(t.shape)\n",
    "t = t.permute(0,2,1)\n",
    "print(t.shape)"
   ]
  },
  {
   "cell_type": "code",
   "execution_count": null,
   "metadata": {
    "ExecuteTime": {
     "end_time": "2019-03-29T12:26:12.594622Z",
     "start_time": "2019-03-29T12:26:12.565759Z"
    }
   },
   "outputs": [],
   "source": [
    "print(conv1s)\n",
    "t = conv1s(t)\n",
    "print(t.shape)"
   ]
  },
  {
   "cell_type": "code",
   "execution_count": null,
   "metadata": {
    "ExecuteTime": {
     "end_time": "2019-03-29T12:26:20.352702Z",
     "start_time": "2019-03-29T12:26:20.331869Z"
    }
   },
   "outputs": [],
   "source": [
    "print(conv2s)\n",
    "t = conv2s(t)\n",
    "print(t.shape)"
   ]
  },
  {
   "cell_type": "code",
   "execution_count": null,
   "metadata": {
    "ExecuteTime": {
     "end_time": "2019-03-29T12:26:34.388687Z",
     "start_time": "2019-03-29T12:26:34.370801Z"
    }
   },
   "outputs": [],
   "source": [
    "print(conv2s)\n",
    "t = conv2s(t)\n",
    "print(t.shape)"
   ]
  },
  {
   "cell_type": "code",
   "execution_count": null,
   "metadata": {
    "ExecuteTime": {
     "end_time": "2019-03-29T12:26:35.922980Z",
     "start_time": "2019-03-29T12:26:35.904177Z"
    }
   },
   "outputs": [],
   "source": [
    "print(conv1s)\n",
    "t = conv1s(t)\n",
    "print(t.shape)"
   ]
  },
  {
   "cell_type": "code",
   "execution_count": null,
   "metadata": {
    "ExecuteTime": {
     "end_time": "2019-03-29T12:26:38.303043Z",
     "start_time": "2019-03-29T12:26:38.284968Z"
    }
   },
   "outputs": [],
   "source": [
    "p = F.avg_pool1d(t, 3)\n",
    "print(p.shape)\n",
    "torch.all(p==t)"
   ]
  },
  {
   "cell_type": "code",
   "execution_count": null,
   "metadata": {
    "ExecuteTime": {
     "end_time": "2019-03-29T12:26:40.422747Z",
     "start_time": "2019-03-29T12:26:40.406037Z"
    }
   },
   "outputs": [],
   "source": [
    "p = p.squeeze(dim=2)\n",
    "print(p.shape)"
   ]
  },
  {
   "cell_type": "code",
   "execution_count": null,
   "metadata": {
    "ExecuteTime": {
     "end_time": "2019-03-29T12:26:41.832754Z",
     "start_time": "2019-03-29T12:26:41.813921Z"
    }
   },
   "outputs": [],
   "source": [
    "print(fc1)\n",
    "p = fc1(p)\n",
    "p = dropout(p)\n",
    "print(p.shape)"
   ]
  },
  {
   "cell_type": "code",
   "execution_count": null,
   "metadata": {
    "ExecuteTime": {
     "end_time": "2019-03-29T12:26:42.969845Z",
     "start_time": "2019-03-29T12:26:42.957360Z"
    }
   },
   "outputs": [],
   "source": [
    "print(fc2)\n",
    "p = fc2(p)\n",
    "print(p.shape)"
   ]
  }
 ],
 "metadata": {
  "kernelspec": {
   "display_name": "Python 3",
   "language": "python",
   "name": "python3"
  },
  "language_info": {
   "codemirror_mode": {
    "name": "ipython",
    "version": 3
   },
   "file_extension": ".py",
   "mimetype": "text/x-python",
   "name": "python",
   "nbconvert_exporter": "python",
   "pygments_lexer": "ipython3",
   "version": "3.7.2"
  },
  "toc": {
   "base_numbering": 1,
   "nav_menu": {},
   "number_sections": true,
   "sideBar": true,
   "skip_h1_title": true,
   "title_cell": "Table of Contents",
   "title_sidebar": "Contents",
   "toc_cell": true,
   "toc_position": {},
   "toc_section_display": true,
   "toc_window_display": false
  }
 },
 "nbformat": 4,
 "nbformat_minor": 2
}
